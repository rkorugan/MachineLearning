{
    "cells": [
        {
            "cell_type": "code",
            "execution_count": null,
            "metadata": {},
            "outputs": [],
            "source": "from pyspark.sql.types import *\nimport pyspark.sql.functions as F\nfrom pyspark.sql.window import Window"
        },
        {
            "cell_type": "code",
            "execution_count": null,
            "metadata": {},
            "outputs": [],
            "source": "!wget https://github.com/TobiasGlaubach/python-ml-turbofan/archive/master.zip"
        },
        {
            "cell_type": "code",
            "execution_count": null,
            "metadata": {},
            "outputs": [],
            "source": "!unzip master.zip\n"
        },
        {
            "cell_type": "code",
            "execution_count": null,
            "metadata": {},
            "outputs": [],
            "source": "!ls"
        },
        {
            "cell_type": "code",
            "execution_count": null,
            "metadata": {},
            "outputs": [],
            "source": "path='/home/spark/shared/python-ml-turbofan-master/CMAPSSData'\nprint(path)\n"
        },
        {
            "cell_type": "code",
            "execution_count": null,
            "metadata": {},
            "outputs": [],
            "source": "os.listdir(path)"
        },
        {
            "cell_type": "code",
            "execution_count": null,
            "metadata": {},
            "outputs": [],
            "source": "train_files= [filename for filename in os.listdir(path) if(filename.startswith('train') and filename.endswith('.txt'))]\n                                                           "
        },
        {
            "cell_type": "code",
            "execution_count": null,
            "metadata": {},
            "outputs": [],
            "source": "train_files[0]"
        },
        {
            "cell_type": "code",
            "execution_count": null,
            "metadata": {},
            "outputs": [],
            "source": "test_files= [filename for filename in os.listdir(path) if(filename.startswith('test') and filename.endswith('.txt'))]"
        },
        {
            "cell_type": "code",
            "execution_count": null,
            "metadata": {},
            "outputs": [],
            "source": "print(train_files)\ntest_files"
        },
        {
            "cell_type": "code",
            "execution_count": null,
            "metadata": {},
            "outputs": [],
            "source": "!ls"
        },
        {
            "cell_type": "code",
            "execution_count": null,
            "metadata": {},
            "outputs": [],
            "source": "train_rdd=sc.textFile(path+'/'+train_files[0])"
        },
        {
            "cell_type": "code",
            "execution_count": null,
            "metadata": {},
            "outputs": [],
            "source": "train_rdd=train_rdd.map(lambda line:line.split(\" \"))"
        },
        {
            "cell_type": "code",
            "execution_count": null,
            "metadata": {},
            "outputs": [],
            "source": "train_rdd.count()"
        },
        {
            "cell_type": "code",
            "execution_count": null,
            "metadata": {},
            "outputs": [],
            "source": "test_rdd=sc.textFile(path+'/'+test_files[0])\ntest_rdd=test_rdd.map(lambda line:line.split(\" \"))"
        },
        {
            "cell_type": "code",
            "execution_count": null,
            "metadata": {},
            "outputs": [],
            "source": "test_rdd.count()"
        },
        {
            "cell_type": "code",
            "execution_count": null,
            "metadata": {},
            "outputs": [],
            "source": "header = [\"id\", \"cycle\", \"setting1\", \"setting2\", \"setting3\",\n                    \"s1\", \"s2\", \"s3\", \"s4\", \"s5\", \"s6\", \"s7\", \"s8\",\n                    \"s9\", \"s10\", \"s11\", \"s12\", \"s13\", \"s14\", \"s15\", \n                    \"s16\",\"s17\", \"s18\", \"s19\", \"s20\", \"s21\"]"
        },
        {
            "cell_type": "code",
            "execution_count": null,
            "metadata": {},
            "outputs": [],
            "source": "train_df=train_rdd.toDF(header)"
        },
        {
            "cell_type": "code",
            "execution_count": null,
            "metadata": {
                "scrolled": true
            },
            "outputs": [],
            "source": "train_df.collect()"
        },
        {
            "cell_type": "code",
            "execution_count": null,
            "metadata": {},
            "outputs": [],
            "source": "test_df=test_rdd.toDF(header)"
        },
        {
            "cell_type": "code",
            "execution_count": null,
            "metadata": {},
            "outputs": [],
            "source": "test_df.show()"
        },
        {
            "cell_type": "code",
            "execution_count": null,
            "metadata": {},
            "outputs": [],
            "source": "import pandas as pd\ntrain_pandas_df=train_df.toPandas()"
        },
        {
            "cell_type": "code",
            "execution_count": null,
            "metadata": {},
            "outputs": [],
            "source": "train_pandas_df.head()"
        },
        {
            "cell_type": "code",
            "execution_count": null,
            "metadata": {},
            "outputs": [],
            "source": "test_pandas_df=test_df.toPandas()\ntest_pandas_df.head()"
        },
        {
            "cell_type": "code",
            "execution_count": null,
            "metadata": {},
            "outputs": [],
            "source": "train_pandas_df.isnull().sum()\n"
        },
        {
            "cell_type": "code",
            "execution_count": null,
            "metadata": {},
            "outputs": [],
            "source": "train_df.na.drop()"
        },
        {
            "cell_type": "code",
            "execution_count": null,
            "metadata": {},
            "outputs": [],
            "source": "test_df.na.drop()"
        },
        {
            "cell_type": "code",
            "execution_count": null,
            "metadata": {},
            "outputs": [],
            "source": "train_pandas_df.dropna()"
        },
        {
            "cell_type": "code",
            "execution_count": null,
            "metadata": {},
            "outputs": [],
            "source": "df = train_df.withColumn('id', train_df['id'].cast(IntegerType()))"
        },
        {
            "cell_type": "code",
            "execution_count": null,
            "metadata": {},
            "outputs": [],
            "source": "df.collect()"
        },
        {
            "cell_type": "code",
            "execution_count": null,
            "metadata": {},
            "outputs": [],
            "source": "def set_type(df,intlist=[],doublelist=[]):\n    if len(intlist)>0:\n        for col in intlist:\n            df=df.withColumn(col,df[col].cast(IntegerType()))\n                             \n    if len(doublelist)>0:\n        for col in doublelist:\n            df=df.withColumn(col,df[col].cast(DoubleType()))\n    return df                            \n                             "
        },
        {
            "cell_type": "code",
            "execution_count": null,
            "metadata": {},
            "outputs": [],
            "source": "train_df.columns"
        },
        {
            "cell_type": "code",
            "execution_count": null,
            "metadata": {},
            "outputs": [],
            "source": "int_list = [\"id\", \"cycle\"]\ndouble_list= list(set(train_df.columns)-set(int_list) )\ndouble_list"
        },
        {
            "cell_type": "code",
            "execution_count": null,
            "metadata": {},
            "outputs": [],
            "source": "train_df=set_type(train_df,int_list,double_list)\ntest_df=set_type(test_df,int_list,double_list)"
        },
        {
            "cell_type": "code",
            "execution_count": null,
            "metadata": {},
            "outputs": [],
            "source": "train_df.columns"
        },
        {
            "cell_type": "code",
            "execution_count": null,
            "metadata": {},
            "outputs": [],
            "source": "test_df.schema"
        },
        {
            "cell_type": "code",
            "execution_count": null,
            "metadata": {},
            "outputs": [],
            "source": "train_df.schema"
        },
        {
            "cell_type": "code",
            "execution_count": null,
            "metadata": {},
            "outputs": [],
            "source": "print (\"For train data:\")\ntrain_df.groupBy('id').count().sort(F.col(\"count\")).show(1)\n"
        },
        {
            "cell_type": "code",
            "execution_count": null,
            "metadata": {},
            "outputs": [],
            "source": "train_df.groupBy('id').count().sort(F.col(\"count\")).show(1)"
        },
        {
            "cell_type": "code",
            "execution_count": null,
            "metadata": {},
            "outputs": [],
            "source": "train_df.groupBy('id').count().sort(F.col(\"count\").desc()).show(1)"
        },
        {
            "cell_type": "code",
            "execution_count": null,
            "metadata": {},
            "outputs": [],
            "source": "test_df.groupBy('id').count().show()"
        },
        {
            "cell_type": "code",
            "execution_count": null,
            "metadata": {},
            "outputs": [],
            "source": "train_df.toPandas().count()"
        },
        {
            "cell_type": "markdown",
            "metadata": {},
            "source": "# 2020-02-04 FEATURE SCALING"
        },
        {
            "cell_type": "code",
            "execution_count": null,
            "metadata": {},
            "outputs": [],
            "source": "rul=train_df.groupBy('id').agg({\"cycle\":\"max\"}).sort((\"id\"))"
        },
        {
            "cell_type": "code",
            "execution_count": null,
            "metadata": {},
            "outputs": [],
            "source": "type(rul)"
        },
        {
            "cell_type": "code",
            "execution_count": null,
            "metadata": {},
            "outputs": [],
            "source": "rul=rul.toDF('id','max')"
        },
        {
            "cell_type": "code",
            "execution_count": null,
            "metadata": {},
            "outputs": [],
            "source": "rul.show()"
        },
        {
            "cell_type": "code",
            "execution_count": null,
            "metadata": {},
            "outputs": [],
            "source": "temp_df=train_df.join(rul,on=['id'],how='left').toPandas()"
        },
        {
            "cell_type": "code",
            "execution_count": null,
            "metadata": {
                "scrolled": true
            },
            "outputs": [],
            "source": "temp_df.sort_values(by=[\"id\"])"
        },
        {
            "cell_type": "code",
            "execution_count": null,
            "metadata": {},
            "outputs": [],
            "source": "temp_df['RUL']=temp_df['max']-temp_df['cycle']"
        },
        {
            "cell_type": "code",
            "execution_count": null,
            "metadata": {},
            "outputs": [],
            "source": "temp_df.sort_values(by=[\"id\",\"cycle\"])"
        },
        {
            "cell_type": "code",
            "execution_count": null,
            "metadata": {},
            "outputs": [],
            "source": "def add_rul_labelling(df,id,time):\n    rul=df.groupBy(id).agg({time:\"max\"}).sort('id')\n    rul=rul.toDF('id','max')\n    df=df.join(rul,on=['id'],how='left')\n    df=df.withColumn(\"rul\",df[\"max\"]-df[time])\n    return df"
        },
        {
            "cell_type": "code",
            "execution_count": null,
            "metadata": {},
            "outputs": [],
            "source": "df=add_rul_labelling(train_df,\"id\",\"cycle\")"
        },
        {
            "cell_type": "code",
            "execution_count": null,
            "metadata": {},
            "outputs": [],
            "source": "df.toPandas()"
        },
        {
            "cell_type": "code",
            "execution_count": null,
            "metadata": {},
            "outputs": [],
            "source": ""
        },
        {
            "cell_type": "code",
            "execution_count": null,
            "metadata": {},
            "outputs": [],
            "source": "def add_window_labelling(df,w1,w2):\n    df=df.withColumn('label1',F.when(df.rul<w1,1).otherwise(0))\n    df=df.withColumn('label2',df.label1)\n    df=df.withColumn('label2',F.when(df.rul<w2,2).otherwise(df.label1))\n    return df"
        },
        {
            "cell_type": "code",
            "execution_count": null,
            "metadata": {},
            "outputs": [],
            "source": "train_df.collect()"
        },
        {
            "cell_type": "code",
            "execution_count": null,
            "metadata": {},
            "outputs": [],
            "source": "df=add_window_labelling(df,30,15)"
        },
        {
            "cell_type": "code",
            "execution_count": null,
            "metadata": {},
            "outputs": [],
            "source": "df.toPandas()"
        },
        {
            "cell_type": "markdown",
            "metadata": {},
            "source": "# 2020/02/05\n"
        },
        {
            "cell_type": "markdown",
            "metadata": {},
            "source": "Convert ground truth file (RUL**) to spark data frame(df_gt)\nadd uniquie id to new data frame based on the order of valuse\ncreate another RUL data farme from the test file (rul)\nconcatenate df_gt and rul dataframes based on id \nderive total RUL from these 2 DFs\n"
        },
        {
            "cell_type": "code",
            "execution_count": null,
            "metadata": {},
            "outputs": [],
            "source": "path"
        },
        {
            "cell_type": "code",
            "execution_count": null,
            "metadata": {},
            "outputs": [],
            "source": "os.listdir(path)"
        },
        {
            "cell_type": "code",
            "execution_count": null,
            "metadata": {},
            "outputs": [],
            "source": "GT_FILE_TYPE=\"RUL\"\ngt_files=[filename for filename  in os.listdir(path) if filename.startswith(GT_FILE_TYPE) ]\ngt_files"
        },
        {
            "cell_type": "code",
            "execution_count": null,
            "metadata": {},
            "outputs": [],
            "source": "rdd_gt=sc.textFile(path+'/'+gt_files[0])\nrdd_gt=rdd_gt.map(lambda line : line.split(\" \"))"
        },
        {
            "cell_type": "code",
            "execution_count": null,
            "metadata": {},
            "outputs": [],
            "source": "rdd_gt.count()"
        },
        {
            "cell_type": "code",
            "execution_count": null,
            "metadata": {},
            "outputs": [],
            "source": "header=[\"rul\"]\ndf_gt=rdd_gt.toDF(header)"
        },
        {
            "cell_type": "code",
            "execution_count": null,
            "metadata": {},
            "outputs": [],
            "source": "df_gt=df_gt.drop(\"_2\")"
        },
        {
            "cell_type": "code",
            "execution_count": null,
            "metadata": {},
            "outputs": [],
            "source": "df_gt=df_gt.withColumn(\"rul\",df_gt[\"rul\"].cast(IntegerType()))"
        },
        {
            "cell_type": "code",
            "execution_count": null,
            "metadata": {},
            "outputs": [],
            "source": "df_gt=df_gt.drop(\"_2\")"
        },
        {
            "cell_type": "code",
            "execution_count": null,
            "metadata": {},
            "outputs": [],
            "source": "w=Window.orderBy(df_gt[\"rul\"])"
        },
        {
            "cell_type": "code",
            "execution_count": null,
            "metadata": {},
            "outputs": [],
            "source": "df_gt=df_gt.withColumn(\"id\",F.row_number().over(w))"
        },
        {
            "cell_type": "code",
            "execution_count": null,
            "metadata": {},
            "outputs": [],
            "source": "rul=test_df.groupBy(\"id\").agg({\"cycle\":\"max\"}).sort(\"id\")"
        },
        {
            "cell_type": "code",
            "execution_count": null,
            "metadata": {},
            "outputs": [],
            "source": "rul=rul.toDF(\"id\",\"max\")"
        },
        {
            "cell_type": "code",
            "execution_count": null,
            "metadata": {},
            "outputs": [],
            "source": "rul.show()"
        },
        {
            "cell_type": "code",
            "execution_count": null,
            "metadata": {},
            "outputs": [],
            "source": "df_gt.show()"
        },
        {
            "cell_type": "code",
            "execution_count": null,
            "metadata": {},
            "outputs": [],
            "source": "df_gt=df_gt.join(rul,on=[\"id\"],how='left')\n"
        },
        {
            "cell_type": "code",
            "execution_count": null,
            "metadata": {},
            "outputs": [],
            "source": "df_gt=df_gt.orderBy(\"id\")"
        },
        {
            "cell_type": "code",
            "execution_count": null,
            "metadata": {},
            "outputs": [],
            "source": "df_gt=df_gt.withColumn(\"total_rul\",df_gt[\"rul\"]+df_gt[\"max\"])"
        },
        {
            "cell_type": "code",
            "execution_count": null,
            "metadata": {},
            "outputs": [],
            "source": "df_gt.show()"
        },
        {
            "cell_type": "markdown",
            "metadata": {},
            "source": "# 2020/02/06"
        },
        {
            "cell_type": "code",
            "execution_count": null,
            "metadata": {},
            "outputs": [],
            "source": "df_gt=df_gt.drop(\"rul\").drop(\"max\")"
        },
        {
            "cell_type": "code",
            "execution_count": 86,
            "metadata": {},
            "outputs": [
                {
                    "data": {
                        "text/html": "<div>\n<style scoped>\n    .dataframe tbody tr th:only-of-type {\n        vertical-align: middle;\n    }\n\n    .dataframe tbody tr th {\n        vertical-align: top;\n    }\n\n    .dataframe thead th {\n        text-align: right;\n    }\n</style>\n<table border=\"1\" class=\"dataframe\">\n  <thead>\n    <tr style=\"text-align: right;\">\n      <th></th>\n      <th>id</th>\n      <th>cycle</th>\n      <th>setting1</th>\n      <th>setting2</th>\n      <th>setting3</th>\n      <th>s1</th>\n      <th>s2</th>\n      <th>s3</th>\n      <th>s4</th>\n      <th>s5</th>\n      <th>...</th>\n      <th>s15</th>\n      <th>s16</th>\n      <th>s17</th>\n      <th>s18</th>\n      <th>s19</th>\n      <th>s20</th>\n      <th>s21</th>\n      <th>_27</th>\n      <th>_28</th>\n      <th>total_rul</th>\n    </tr>\n  </thead>\n  <tbody>\n    <tr>\n      <th>0</th>\n      <td>31</td>\n      <td>1</td>\n      <td>-0.0019</td>\n      <td>-0.0004</td>\n      <td>100.0</td>\n      <td>518.67</td>\n      <td>642.75</td>\n      <td>1582.03</td>\n      <td>1392.43</td>\n      <td>14.62</td>\n      <td>...</td>\n      <td>8.4028</td>\n      <td>0.03</td>\n      <td>394.0</td>\n      <td>2388.0</td>\n      <td>100.0</td>\n      <td>38.83</td>\n      <td>23.4048</td>\n      <td>None</td>\n      <td>None</td>\n      <td>246</td>\n    </tr>\n    <tr>\n      <th>1</th>\n      <td>31</td>\n      <td>2</td>\n      <td>-0.0016</td>\n      <td>-0.0001</td>\n      <td>100.0</td>\n      <td>518.67</td>\n      <td>642.02</td>\n      <td>1586.39</td>\n      <td>1398.94</td>\n      <td>14.62</td>\n      <td>...</td>\n      <td>8.4148</td>\n      <td>0.03</td>\n      <td>391.0</td>\n      <td>2388.0</td>\n      <td>100.0</td>\n      <td>39.03</td>\n      <td>23.2768</td>\n      <td>None</td>\n      <td>None</td>\n      <td>246</td>\n    </tr>\n    <tr>\n      <th>2</th>\n      <td>31</td>\n      <td>3</td>\n      <td>-0.0043</td>\n      <td>0.0004</td>\n      <td>100.0</td>\n      <td>518.67</td>\n      <td>642.36</td>\n      <td>1590.20</td>\n      <td>1405.66</td>\n      <td>14.62</td>\n      <td>...</td>\n      <td>8.4092</td>\n      <td>0.03</td>\n      <td>391.0</td>\n      <td>2388.0</td>\n      <td>100.0</td>\n      <td>38.99</td>\n      <td>23.3628</td>\n      <td>None</td>\n      <td>None</td>\n      <td>246</td>\n    </tr>\n    <tr>\n      <th>3</th>\n      <td>31</td>\n      <td>4</td>\n      <td>-0.0011</td>\n      <td>-0.0001</td>\n      <td>100.0</td>\n      <td>518.67</td>\n      <td>642.18</td>\n      <td>1582.10</td>\n      <td>1395.35</td>\n      <td>14.62</td>\n      <td>...</td>\n      <td>8.4430</td>\n      <td>0.03</td>\n      <td>392.0</td>\n      <td>2388.0</td>\n      <td>100.0</td>\n      <td>38.96</td>\n      <td>23.3472</td>\n      <td>None</td>\n      <td>None</td>\n      <td>246</td>\n    </tr>\n    <tr>\n      <th>4</th>\n      <td>31</td>\n      <td>5</td>\n      <td>-0.0039</td>\n      <td>0.0005</td>\n      <td>100.0</td>\n      <td>518.67</td>\n      <td>642.23</td>\n      <td>1582.58</td>\n      <td>1401.53</td>\n      <td>14.62</td>\n      <td>...</td>\n      <td>8.4152</td>\n      <td>0.03</td>\n      <td>393.0</td>\n      <td>2388.0</td>\n      <td>100.0</td>\n      <td>38.92</td>\n      <td>23.4112</td>\n      <td>None</td>\n      <td>None</td>\n      <td>246</td>\n    </tr>\n    <tr>\n      <th>5</th>\n      <td>31</td>\n      <td>6</td>\n      <td>-0.0025</td>\n      <td>-0.0003</td>\n      <td>100.0</td>\n      <td>518.67</td>\n      <td>642.30</td>\n      <td>1581.37</td>\n      <td>1393.71</td>\n      <td>14.62</td>\n      <td>...</td>\n      <td>8.3950</td>\n      <td>0.03</td>\n      <td>391.0</td>\n      <td>2388.0</td>\n      <td>100.0</td>\n      <td>39.03</td>\n      <td>23.4342</td>\n      <td>None</td>\n      <td>None</td>\n      <td>246</td>\n    </tr>\n    <tr>\n      <th>6</th>\n      <td>31</td>\n      <td>7</td>\n      <td>0.0007</td>\n      <td>0.0004</td>\n      <td>100.0</td>\n      <td>518.67</td>\n      <td>641.61</td>\n      <td>1588.16</td>\n      <td>1404.37</td>\n      <td>14.62</td>\n      <td>...</td>\n      <td>8.3915</td>\n      <td>0.03</td>\n      <td>393.0</td>\n      <td>2388.0</td>\n      <td>100.0</td>\n      <td>38.99</td>\n      <td>23.4166</td>\n      <td>None</td>\n      <td>None</td>\n      <td>246</td>\n    </tr>\n    <tr>\n      <th>7</th>\n      <td>31</td>\n      <td>8</td>\n      <td>0.0032</td>\n      <td>0.0005</td>\n      <td>100.0</td>\n      <td>518.67</td>\n      <td>642.21</td>\n      <td>1587.75</td>\n      <td>1402.96</td>\n      <td>14.62</td>\n      <td>...</td>\n      <td>8.3934</td>\n      <td>0.03</td>\n      <td>391.0</td>\n      <td>2388.0</td>\n      <td>100.0</td>\n      <td>38.82</td>\n      <td>23.4539</td>\n      <td>None</td>\n      <td>None</td>\n      <td>246</td>\n    </tr>\n    <tr>\n      <th>8</th>\n      <td>31</td>\n      <td>9</td>\n      <td>0.0034</td>\n      <td>0.0002</td>\n      <td>100.0</td>\n      <td>518.67</td>\n      <td>642.10</td>\n      <td>1589.82</td>\n      <td>1396.67</td>\n      <td>14.62</td>\n      <td>...</td>\n      <td>8.4147</td>\n      <td>0.03</td>\n      <td>391.0</td>\n      <td>2388.0</td>\n      <td>100.0</td>\n      <td>39.03</td>\n      <td>23.4222</td>\n      <td>None</td>\n      <td>None</td>\n      <td>246</td>\n    </tr>\n    <tr>\n      <th>9</th>\n      <td>31</td>\n      <td>10</td>\n      <td>-0.0041</td>\n      <td>-0.0001</td>\n      <td>100.0</td>\n      <td>518.67</td>\n      <td>642.06</td>\n      <td>1585.22</td>\n      <td>1401.20</td>\n      <td>14.62</td>\n      <td>...</td>\n      <td>8.4347</td>\n      <td>0.03</td>\n      <td>392.0</td>\n      <td>2388.0</td>\n      <td>100.0</td>\n      <td>38.93</td>\n      <td>23.3936</td>\n      <td>None</td>\n      <td>None</td>\n      <td>246</td>\n    </tr>\n    <tr>\n      <th>10</th>\n      <td>31</td>\n      <td>11</td>\n      <td>0.0031</td>\n      <td>0.0005</td>\n      <td>100.0</td>\n      <td>518.67</td>\n      <td>642.65</td>\n      <td>1583.66</td>\n      <td>1397.99</td>\n      <td>14.62</td>\n      <td>...</td>\n      <td>8.4182</td>\n      <td>0.03</td>\n      <td>391.0</td>\n      <td>2388.0</td>\n      <td>100.0</td>\n      <td>39.03</td>\n      <td>23.3494</td>\n      <td>None</td>\n      <td>None</td>\n      <td>246</td>\n    </tr>\n    <tr>\n      <th>11</th>\n      <td>31</td>\n      <td>12</td>\n      <td>0.0023</td>\n      <td>0.0005</td>\n      <td>100.0</td>\n      <td>518.67</td>\n      <td>642.57</td>\n      <td>1587.04</td>\n      <td>1400.43</td>\n      <td>14.62</td>\n      <td>...</td>\n      <td>8.4321</td>\n      <td>0.03</td>\n      <td>393.0</td>\n      <td>2388.0</td>\n      <td>100.0</td>\n      <td>39.07</td>\n      <td>23.4881</td>\n      <td>None</td>\n      <td>None</td>\n      <td>246</td>\n    </tr>\n    <tr>\n      <th>12</th>\n      <td>31</td>\n      <td>13</td>\n      <td>-0.0017</td>\n      <td>0.0002</td>\n      <td>100.0</td>\n      <td>518.67</td>\n      <td>642.13</td>\n      <td>1593.63</td>\n      <td>1401.68</td>\n      <td>14.62</td>\n      <td>...</td>\n      <td>8.4380</td>\n      <td>0.03</td>\n      <td>393.0</td>\n      <td>2388.0</td>\n      <td>100.0</td>\n      <td>39.07</td>\n      <td>23.4031</td>\n      <td>None</td>\n      <td>None</td>\n      <td>246</td>\n    </tr>\n    <tr>\n      <th>13</th>\n      <td>31</td>\n      <td>14</td>\n      <td>-0.0009</td>\n      <td>0.0001</td>\n      <td>100.0</td>\n      <td>518.67</td>\n      <td>642.44</td>\n      <td>1588.17</td>\n      <td>1404.85</td>\n      <td>14.62</td>\n      <td>...</td>\n      <td>8.3771</td>\n      <td>0.03</td>\n      <td>391.0</td>\n      <td>2388.0</td>\n      <td>100.0</td>\n      <td>38.90</td>\n      <td>23.4801</td>\n      <td>None</td>\n      <td>None</td>\n      <td>246</td>\n    </tr>\n    <tr>\n      <th>14</th>\n      <td>31</td>\n      <td>15</td>\n      <td>-0.0016</td>\n      <td>0.0001</td>\n      <td>100.0</td>\n      <td>518.67</td>\n      <td>642.39</td>\n      <td>1584.60</td>\n      <td>1395.83</td>\n      <td>14.62</td>\n      <td>...</td>\n      <td>8.4200</td>\n      <td>0.03</td>\n      <td>391.0</td>\n      <td>2388.0</td>\n      <td>100.0</td>\n      <td>38.88</td>\n      <td>23.5658</td>\n      <td>None</td>\n      <td>None</td>\n      <td>246</td>\n    </tr>\n    <tr>\n      <th>15</th>\n      <td>31</td>\n      <td>16</td>\n      <td>0.0007</td>\n      <td>0.0001</td>\n      <td>100.0</td>\n      <td>518.67</td>\n      <td>642.43</td>\n      <td>1590.67</td>\n      <td>1398.74</td>\n      <td>14.62</td>\n      <td>...</td>\n      <td>8.4152</td>\n      <td>0.03</td>\n      <td>391.0</td>\n      <td>2388.0</td>\n      <td>100.0</td>\n      <td>39.18</td>\n      <td>23.4020</td>\n      <td>None</td>\n      <td>None</td>\n      <td>246</td>\n    </tr>\n    <tr>\n      <th>16</th>\n      <td>31</td>\n      <td>17</td>\n      <td>0.0035</td>\n      <td>-0.0004</td>\n      <td>100.0</td>\n      <td>518.67</td>\n      <td>642.08</td>\n      <td>1583.92</td>\n      <td>1397.59</td>\n      <td>14.62</td>\n      <td>...</td>\n      <td>8.3953</td>\n      <td>0.03</td>\n      <td>390.0</td>\n      <td>2388.0</td>\n      <td>100.0</td>\n      <td>39.07</td>\n      <td>23.3866</td>\n      <td>None</td>\n      <td>None</td>\n      <td>246</td>\n    </tr>\n    <tr>\n      <th>17</th>\n      <td>31</td>\n      <td>18</td>\n      <td>0.0008</td>\n      <td>0.0005</td>\n      <td>100.0</td>\n      <td>518.67</td>\n      <td>641.91</td>\n      <td>1588.30</td>\n      <td>1398.70</td>\n      <td>14.62</td>\n      <td>...</td>\n      <td>8.4446</td>\n      <td>0.03</td>\n      <td>391.0</td>\n      <td>2388.0</td>\n      <td>100.0</td>\n      <td>39.04</td>\n      <td>23.4465</td>\n      <td>None</td>\n      <td>None</td>\n      <td>246</td>\n    </tr>\n    <tr>\n      <th>18</th>\n      <td>31</td>\n      <td>19</td>\n      <td>0.0037</td>\n      <td>-0.0002</td>\n      <td>100.0</td>\n      <td>518.67</td>\n      <td>642.39</td>\n      <td>1585.61</td>\n      <td>1396.85</td>\n      <td>14.62</td>\n      <td>...</td>\n      <td>8.3832</td>\n      <td>0.03</td>\n      <td>393.0</td>\n      <td>2388.0</td>\n      <td>100.0</td>\n      <td>38.93</td>\n      <td>23.3354</td>\n      <td>None</td>\n      <td>None</td>\n      <td>246</td>\n    </tr>\n    <tr>\n      <th>19</th>\n      <td>31</td>\n      <td>20</td>\n      <td>-0.0022</td>\n      <td>0.0001</td>\n      <td>100.0</td>\n      <td>518.67</td>\n      <td>642.32</td>\n      <td>1588.07</td>\n      <td>1398.00</td>\n      <td>14.62</td>\n      <td>...</td>\n      <td>8.4254</td>\n      <td>0.03</td>\n      <td>392.0</td>\n      <td>2388.0</td>\n      <td>100.0</td>\n      <td>38.92</td>\n      <td>23.3786</td>\n      <td>None</td>\n      <td>None</td>\n      <td>246</td>\n    </tr>\n    <tr>\n      <th>20</th>\n      <td>31</td>\n      <td>21</td>\n      <td>-0.0026</td>\n      <td>0.0003</td>\n      <td>100.0</td>\n      <td>518.67</td>\n      <td>642.17</td>\n      <td>1594.85</td>\n      <td>1395.18</td>\n      <td>14.62</td>\n      <td>...</td>\n      <td>8.4145</td>\n      <td>0.03</td>\n      <td>392.0</td>\n      <td>2388.0</td>\n      <td>100.0</td>\n      <td>39.11</td>\n      <td>23.3380</td>\n      <td>None</td>\n      <td>None</td>\n      <td>246</td>\n    </tr>\n    <tr>\n      <th>21</th>\n      <td>31</td>\n      <td>22</td>\n      <td>0.0019</td>\n      <td>0.0001</td>\n      <td>100.0</td>\n      <td>518.67</td>\n      <td>642.00</td>\n      <td>1588.35</td>\n      <td>1402.57</td>\n      <td>14.62</td>\n      <td>...</td>\n      <td>8.4022</td>\n      <td>0.03</td>\n      <td>392.0</td>\n      <td>2388.0</td>\n      <td>100.0</td>\n      <td>38.97</td>\n      <td>23.2933</td>\n      <td>None</td>\n      <td>None</td>\n      <td>246</td>\n    </tr>\n    <tr>\n      <th>22</th>\n      <td>31</td>\n      <td>23</td>\n      <td>-0.0006</td>\n      <td>0.0005</td>\n      <td>100.0</td>\n      <td>518.67</td>\n      <td>642.13</td>\n      <td>1587.68</td>\n      <td>1397.45</td>\n      <td>14.62</td>\n      <td>...</td>\n      <td>8.3983</td>\n      <td>0.03</td>\n      <td>393.0</td>\n      <td>2388.0</td>\n      <td>100.0</td>\n      <td>39.18</td>\n      <td>23.2796</td>\n      <td>None</td>\n      <td>None</td>\n      <td>246</td>\n    </tr>\n    <tr>\n      <th>23</th>\n      <td>31</td>\n      <td>24</td>\n      <td>0.0004</td>\n      <td>0.0003</td>\n      <td>100.0</td>\n      <td>518.67</td>\n      <td>642.07</td>\n      <td>1589.34</td>\n      <td>1403.06</td>\n      <td>14.62</td>\n      <td>...</td>\n      <td>8.3813</td>\n      <td>0.03</td>\n      <td>394.0</td>\n      <td>2388.0</td>\n      <td>100.0</td>\n      <td>38.86</td>\n      <td>23.3018</td>\n      <td>None</td>\n      <td>None</td>\n      <td>246</td>\n    </tr>\n    <tr>\n      <th>24</th>\n      <td>31</td>\n      <td>25</td>\n      <td>-0.0003</td>\n      <td>0.0001</td>\n      <td>100.0</td>\n      <td>518.67</td>\n      <td>642.25</td>\n      <td>1587.44</td>\n      <td>1409.04</td>\n      <td>14.62</td>\n      <td>...</td>\n      <td>8.3836</td>\n      <td>0.03</td>\n      <td>391.0</td>\n      <td>2388.0</td>\n      <td>100.0</td>\n      <td>38.91</td>\n      <td>23.3909</td>\n      <td>None</td>\n      <td>None</td>\n      <td>246</td>\n    </tr>\n    <tr>\n      <th>25</th>\n      <td>31</td>\n      <td>26</td>\n      <td>-0.0022</td>\n      <td>-0.0004</td>\n      <td>100.0</td>\n      <td>518.67</td>\n      <td>641.65</td>\n      <td>1583.65</td>\n      <td>1398.16</td>\n      <td>14.62</td>\n      <td>...</td>\n      <td>8.4176</td>\n      <td>0.03</td>\n      <td>390.0</td>\n      <td>2388.0</td>\n      <td>100.0</td>\n      <td>39.10</td>\n      <td>23.3699</td>\n      <td>None</td>\n      <td>None</td>\n      <td>246</td>\n    </tr>\n    <tr>\n      <th>26</th>\n      <td>31</td>\n      <td>27</td>\n      <td>0.0045</td>\n      <td>0.0004</td>\n      <td>100.0</td>\n      <td>518.67</td>\n      <td>642.26</td>\n      <td>1585.41</td>\n      <td>1404.98</td>\n      <td>14.62</td>\n      <td>...</td>\n      <td>8.4495</td>\n      <td>0.03</td>\n      <td>392.0</td>\n      <td>2388.0</td>\n      <td>100.0</td>\n      <td>38.93</td>\n      <td>23.4052</td>\n      <td>None</td>\n      <td>None</td>\n      <td>246</td>\n    </tr>\n    <tr>\n      <th>27</th>\n      <td>31</td>\n      <td>28</td>\n      <td>-0.0040</td>\n      <td>-0.0001</td>\n      <td>100.0</td>\n      <td>518.67</td>\n      <td>642.16</td>\n      <td>1586.97</td>\n      <td>1403.43</td>\n      <td>14.62</td>\n      <td>...</td>\n      <td>8.4203</td>\n      <td>0.03</td>\n      <td>392.0</td>\n      <td>2388.0</td>\n      <td>100.0</td>\n      <td>38.97</td>\n      <td>23.4235</td>\n      <td>None</td>\n      <td>None</td>\n      <td>246</td>\n    </tr>\n    <tr>\n      <th>28</th>\n      <td>31</td>\n      <td>29</td>\n      <td>0.0037</td>\n      <td>-0.0002</td>\n      <td>100.0</td>\n      <td>518.67</td>\n      <td>642.51</td>\n      <td>1588.82</td>\n      <td>1403.44</td>\n      <td>14.62</td>\n      <td>...</td>\n      <td>8.4072</td>\n      <td>0.03</td>\n      <td>393.0</td>\n      <td>2388.0</td>\n      <td>100.0</td>\n      <td>38.87</td>\n      <td>23.4764</td>\n      <td>None</td>\n      <td>None</td>\n      <td>246</td>\n    </tr>\n    <tr>\n      <th>29</th>\n      <td>31</td>\n      <td>30</td>\n      <td>-0.0036</td>\n      <td>-0.0004</td>\n      <td>100.0</td>\n      <td>518.67</td>\n      <td>642.46</td>\n      <td>1588.84</td>\n      <td>1404.76</td>\n      <td>14.62</td>\n      <td>...</td>\n      <td>8.4061</td>\n      <td>0.03</td>\n      <td>392.0</td>\n      <td>2388.0</td>\n      <td>100.0</td>\n      <td>39.05</td>\n      <td>23.4779</td>\n      <td>None</td>\n      <td>None</td>\n      <td>246</td>\n    </tr>\n    <tr>\n      <th>...</th>\n      <td>...</td>\n      <td>...</td>\n      <td>...</td>\n      <td>...</td>\n      <td>...</td>\n      <td>...</td>\n      <td>...</td>\n      <td>...</td>\n      <td>...</td>\n      <td>...</td>\n      <td>...</td>\n      <td>...</td>\n      <td>...</td>\n      <td>...</td>\n      <td>...</td>\n      <td>...</td>\n      <td>...</td>\n      <td>...</td>\n      <td>...</td>\n      <td>...</td>\n      <td>...</td>\n    </tr>\n    <tr>\n      <th>13066</th>\n      <td>89</td>\n      <td>148</td>\n      <td>0.0003</td>\n      <td>-0.0006</td>\n      <td>100.0</td>\n      <td>518.67</td>\n      <td>642.93</td>\n      <td>1591.63</td>\n      <td>1400.58</td>\n      <td>14.62</td>\n      <td>...</td>\n      <td>8.4210</td>\n      <td>0.03</td>\n      <td>392.0</td>\n      <td>2388.0</td>\n      <td>100.0</td>\n      <td>38.76</td>\n      <td>23.2736</td>\n      <td>None</td>\n      <td>None</td>\n      <td>301</td>\n    </tr>\n    <tr>\n      <th>13067</th>\n      <td>89</td>\n      <td>149</td>\n      <td>0.0027</td>\n      <td>0.0001</td>\n      <td>100.0</td>\n      <td>518.67</td>\n      <td>642.38</td>\n      <td>1592.41</td>\n      <td>1403.44</td>\n      <td>14.62</td>\n      <td>...</td>\n      <td>8.4347</td>\n      <td>0.03</td>\n      <td>393.0</td>\n      <td>2388.0</td>\n      <td>100.0</td>\n      <td>39.00</td>\n      <td>23.2925</td>\n      <td>None</td>\n      <td>None</td>\n      <td>301</td>\n    </tr>\n    <tr>\n      <th>13068</th>\n      <td>89</td>\n      <td>150</td>\n      <td>0.0005</td>\n      <td>-0.0002</td>\n      <td>100.0</td>\n      <td>518.67</td>\n      <td>642.89</td>\n      <td>1582.76</td>\n      <td>1409.32</td>\n      <td>14.62</td>\n      <td>...</td>\n      <td>8.4401</td>\n      <td>0.03</td>\n      <td>391.0</td>\n      <td>2388.0</td>\n      <td>100.0</td>\n      <td>38.89</td>\n      <td>23.3449</td>\n      <td>None</td>\n      <td>None</td>\n      <td>301</td>\n    </tr>\n    <tr>\n      <th>13069</th>\n      <td>89</td>\n      <td>151</td>\n      <td>-0.0017</td>\n      <td>0.0003</td>\n      <td>100.0</td>\n      <td>518.67</td>\n      <td>642.88</td>\n      <td>1588.12</td>\n      <td>1407.91</td>\n      <td>14.62</td>\n      <td>...</td>\n      <td>8.4346</td>\n      <td>0.03</td>\n      <td>392.0</td>\n      <td>2388.0</td>\n      <td>100.0</td>\n      <td>38.80</td>\n      <td>23.2302</td>\n      <td>None</td>\n      <td>None</td>\n      <td>301</td>\n    </tr>\n    <tr>\n      <th>13070</th>\n      <td>89</td>\n      <td>152</td>\n      <td>0.0007</td>\n      <td>0.0001</td>\n      <td>100.0</td>\n      <td>518.67</td>\n      <td>642.22</td>\n      <td>1587.38</td>\n      <td>1409.88</td>\n      <td>14.62</td>\n      <td>...</td>\n      <td>8.4265</td>\n      <td>0.03</td>\n      <td>394.0</td>\n      <td>2388.0</td>\n      <td>100.0</td>\n      <td>38.82</td>\n      <td>23.2722</td>\n      <td>None</td>\n      <td>None</td>\n      <td>301</td>\n    </tr>\n    <tr>\n      <th>13071</th>\n      <td>89</td>\n      <td>153</td>\n      <td>0.0011</td>\n      <td>-0.0005</td>\n      <td>100.0</td>\n      <td>518.67</td>\n      <td>642.36</td>\n      <td>1589.76</td>\n      <td>1406.96</td>\n      <td>14.62</td>\n      <td>...</td>\n      <td>8.4707</td>\n      <td>0.03</td>\n      <td>392.0</td>\n      <td>2388.0</td>\n      <td>100.0</td>\n      <td>38.74</td>\n      <td>23.2633</td>\n      <td>None</td>\n      <td>None</td>\n      <td>301</td>\n    </tr>\n    <tr>\n      <th>13072</th>\n      <td>89</td>\n      <td>154</td>\n      <td>0.0000</td>\n      <td>0.0001</td>\n      <td>100.0</td>\n      <td>518.67</td>\n      <td>642.35</td>\n      <td>1589.29</td>\n      <td>1408.93</td>\n      <td>14.62</td>\n      <td>...</td>\n      <td>8.4210</td>\n      <td>0.03</td>\n      <td>393.0</td>\n      <td>2388.0</td>\n      <td>100.0</td>\n      <td>38.91</td>\n      <td>23.2341</td>\n      <td>None</td>\n      <td>None</td>\n      <td>301</td>\n    </tr>\n    <tr>\n      <th>13073</th>\n      <td>89</td>\n      <td>155</td>\n      <td>0.0020</td>\n      <td>-0.0005</td>\n      <td>100.0</td>\n      <td>518.67</td>\n      <td>642.60</td>\n      <td>1589.31</td>\n      <td>1414.35</td>\n      <td>14.62</td>\n      <td>...</td>\n      <td>8.4635</td>\n      <td>0.03</td>\n      <td>395.0</td>\n      <td>2388.0</td>\n      <td>100.0</td>\n      <td>38.89</td>\n      <td>23.3070</td>\n      <td>None</td>\n      <td>None</td>\n      <td>301</td>\n    </tr>\n    <tr>\n      <th>13074</th>\n      <td>89</td>\n      <td>156</td>\n      <td>-0.0033</td>\n      <td>0.0001</td>\n      <td>100.0</td>\n      <td>518.67</td>\n      <td>642.60</td>\n      <td>1587.88</td>\n      <td>1411.66</td>\n      <td>14.62</td>\n      <td>...</td>\n      <td>8.4184</td>\n      <td>0.03</td>\n      <td>393.0</td>\n      <td>2388.0</td>\n      <td>100.0</td>\n      <td>38.86</td>\n      <td>23.3659</td>\n      <td>None</td>\n      <td>None</td>\n      <td>301</td>\n    </tr>\n    <tr>\n      <th>13075</th>\n      <td>89</td>\n      <td>157</td>\n      <td>0.0007</td>\n      <td>-0.0002</td>\n      <td>100.0</td>\n      <td>518.67</td>\n      <td>642.49</td>\n      <td>1593.25</td>\n      <td>1405.75</td>\n      <td>14.62</td>\n      <td>...</td>\n      <td>8.4421</td>\n      <td>0.03</td>\n      <td>393.0</td>\n      <td>2388.0</td>\n      <td>100.0</td>\n      <td>38.84</td>\n      <td>23.2973</td>\n      <td>None</td>\n      <td>None</td>\n      <td>301</td>\n    </tr>\n    <tr>\n      <th>13076</th>\n      <td>89</td>\n      <td>158</td>\n      <td>0.0008</td>\n      <td>-0.0001</td>\n      <td>100.0</td>\n      <td>518.67</td>\n      <td>642.74</td>\n      <td>1593.28</td>\n      <td>1410.33</td>\n      <td>14.62</td>\n      <td>...</td>\n      <td>8.4397</td>\n      <td>0.03</td>\n      <td>392.0</td>\n      <td>2388.0</td>\n      <td>100.0</td>\n      <td>38.73</td>\n      <td>23.4282</td>\n      <td>None</td>\n      <td>None</td>\n      <td>301</td>\n    </tr>\n    <tr>\n      <th>13077</th>\n      <td>89</td>\n      <td>159</td>\n      <td>-0.0003</td>\n      <td>-0.0005</td>\n      <td>100.0</td>\n      <td>518.67</td>\n      <td>642.88</td>\n      <td>1587.80</td>\n      <td>1407.94</td>\n      <td>14.62</td>\n      <td>...</td>\n      <td>8.4268</td>\n      <td>0.03</td>\n      <td>394.0</td>\n      <td>2388.0</td>\n      <td>100.0</td>\n      <td>38.80</td>\n      <td>23.3872</td>\n      <td>None</td>\n      <td>None</td>\n      <td>301</td>\n    </tr>\n    <tr>\n      <th>13078</th>\n      <td>89</td>\n      <td>160</td>\n      <td>0.0017</td>\n      <td>-0.0000</td>\n      <td>100.0</td>\n      <td>518.67</td>\n      <td>642.62</td>\n      <td>1587.93</td>\n      <td>1412.81</td>\n      <td>14.62</td>\n      <td>...</td>\n      <td>8.4593</td>\n      <td>0.03</td>\n      <td>392.0</td>\n      <td>2388.0</td>\n      <td>100.0</td>\n      <td>38.77</td>\n      <td>23.3756</td>\n      <td>None</td>\n      <td>None</td>\n      <td>301</td>\n    </tr>\n    <tr>\n      <th>13079</th>\n      <td>89</td>\n      <td>161</td>\n      <td>-0.0006</td>\n      <td>-0.0000</td>\n      <td>100.0</td>\n      <td>518.67</td>\n      <td>642.58</td>\n      <td>1596.46</td>\n      <td>1405.86</td>\n      <td>14.62</td>\n      <td>...</td>\n      <td>8.4087</td>\n      <td>0.03</td>\n      <td>392.0</td>\n      <td>2388.0</td>\n      <td>100.0</td>\n      <td>38.75</td>\n      <td>23.3442</td>\n      <td>None</td>\n      <td>None</td>\n      <td>301</td>\n    </tr>\n    <tr>\n      <th>13080</th>\n      <td>89</td>\n      <td>162</td>\n      <td>-0.0010</td>\n      <td>0.0000</td>\n      <td>100.0</td>\n      <td>518.67</td>\n      <td>642.30</td>\n      <td>1587.74</td>\n      <td>1404.36</td>\n      <td>14.62</td>\n      <td>...</td>\n      <td>8.3961</td>\n      <td>0.03</td>\n      <td>393.0</td>\n      <td>2388.0</td>\n      <td>100.0</td>\n      <td>38.92</td>\n      <td>23.2299</td>\n      <td>None</td>\n      <td>None</td>\n      <td>301</td>\n    </tr>\n    <tr>\n      <th>13081</th>\n      <td>89</td>\n      <td>163</td>\n      <td>0.0009</td>\n      <td>0.0003</td>\n      <td>100.0</td>\n      <td>518.67</td>\n      <td>643.29</td>\n      <td>1584.69</td>\n      <td>1407.05</td>\n      <td>14.62</td>\n      <td>...</td>\n      <td>8.4110</td>\n      <td>0.03</td>\n      <td>393.0</td>\n      <td>2388.0</td>\n      <td>100.0</td>\n      <td>38.71</td>\n      <td>23.3022</td>\n      <td>None</td>\n      <td>None</td>\n      <td>301</td>\n    </tr>\n    <tr>\n      <th>13082</th>\n      <td>89</td>\n      <td>164</td>\n      <td>0.0021</td>\n      <td>0.0001</td>\n      <td>100.0</td>\n      <td>518.67</td>\n      <td>642.22</td>\n      <td>1591.91</td>\n      <td>1404.94</td>\n      <td>14.62</td>\n      <td>...</td>\n      <td>8.4618</td>\n      <td>0.03</td>\n      <td>392.0</td>\n      <td>2388.0</td>\n      <td>100.0</td>\n      <td>38.68</td>\n      <td>23.4057</td>\n      <td>None</td>\n      <td>None</td>\n      <td>301</td>\n    </tr>\n    <tr>\n      <th>13083</th>\n      <td>89</td>\n      <td>165</td>\n      <td>0.0010</td>\n      <td>-0.0000</td>\n      <td>100.0</td>\n      <td>518.67</td>\n      <td>642.84</td>\n      <td>1579.05</td>\n      <td>1415.55</td>\n      <td>14.62</td>\n      <td>...</td>\n      <td>8.4782</td>\n      <td>0.03</td>\n      <td>393.0</td>\n      <td>2388.0</td>\n      <td>100.0</td>\n      <td>38.82</td>\n      <td>23.3335</td>\n      <td>None</td>\n      <td>None</td>\n      <td>301</td>\n    </tr>\n    <tr>\n      <th>13084</th>\n      <td>89</td>\n      <td>166</td>\n      <td>-0.0034</td>\n      <td>0.0001</td>\n      <td>100.0</td>\n      <td>518.67</td>\n      <td>642.62</td>\n      <td>1591.04</td>\n      <td>1410.24</td>\n      <td>14.62</td>\n      <td>...</td>\n      <td>8.4405</td>\n      <td>0.03</td>\n      <td>394.0</td>\n      <td>2388.0</td>\n      <td>100.0</td>\n      <td>38.85</td>\n      <td>23.4036</td>\n      <td>None</td>\n      <td>None</td>\n      <td>301</td>\n    </tr>\n    <tr>\n      <th>13085</th>\n      <td>89</td>\n      <td>167</td>\n      <td>-0.0014</td>\n      <td>-0.0002</td>\n      <td>100.0</td>\n      <td>518.67</td>\n      <td>642.91</td>\n      <td>1586.84</td>\n      <td>1410.65</td>\n      <td>14.62</td>\n      <td>...</td>\n      <td>8.4313</td>\n      <td>0.03</td>\n      <td>392.0</td>\n      <td>2388.0</td>\n      <td>100.0</td>\n      <td>38.87</td>\n      <td>23.2406</td>\n      <td>None</td>\n      <td>None</td>\n      <td>301</td>\n    </tr>\n    <tr>\n      <th>13086</th>\n      <td>89</td>\n      <td>168</td>\n      <td>-0.0003</td>\n      <td>0.0002</td>\n      <td>100.0</td>\n      <td>518.67</td>\n      <td>642.69</td>\n      <td>1584.68</td>\n      <td>1408.09</td>\n      <td>14.62</td>\n      <td>...</td>\n      <td>8.4344</td>\n      <td>0.03</td>\n      <td>392.0</td>\n      <td>2388.0</td>\n      <td>100.0</td>\n      <td>38.67</td>\n      <td>23.3038</td>\n      <td>None</td>\n      <td>None</td>\n      <td>301</td>\n    </tr>\n    <tr>\n      <th>13087</th>\n      <td>89</td>\n      <td>169</td>\n      <td>-0.0023</td>\n      <td>0.0003</td>\n      <td>100.0</td>\n      <td>518.67</td>\n      <td>642.80</td>\n      <td>1595.04</td>\n      <td>1410.81</td>\n      <td>14.62</td>\n      <td>...</td>\n      <td>8.4762</td>\n      <td>0.03</td>\n      <td>393.0</td>\n      <td>2388.0</td>\n      <td>100.0</td>\n      <td>38.67</td>\n      <td>23.2207</td>\n      <td>None</td>\n      <td>None</td>\n      <td>301</td>\n    </tr>\n    <tr>\n      <th>13088</th>\n      <td>89</td>\n      <td>170</td>\n      <td>-0.0012</td>\n      <td>0.0004</td>\n      <td>100.0</td>\n      <td>518.67</td>\n      <td>642.22</td>\n      <td>1601.50</td>\n      <td>1408.18</td>\n      <td>14.62</td>\n      <td>...</td>\n      <td>8.4105</td>\n      <td>0.03</td>\n      <td>393.0</td>\n      <td>2388.0</td>\n      <td>100.0</td>\n      <td>39.02</td>\n      <td>23.3778</td>\n      <td>None</td>\n      <td>None</td>\n      <td>301</td>\n    </tr>\n    <tr>\n      <th>13089</th>\n      <td>89</td>\n      <td>171</td>\n      <td>0.0006</td>\n      <td>-0.0005</td>\n      <td>100.0</td>\n      <td>518.67</td>\n      <td>643.06</td>\n      <td>1594.91</td>\n      <td>1405.85</td>\n      <td>14.62</td>\n      <td>...</td>\n      <td>8.4347</td>\n      <td>0.03</td>\n      <td>393.0</td>\n      <td>2388.0</td>\n      <td>100.0</td>\n      <td>38.85</td>\n      <td>23.2451</td>\n      <td>None</td>\n      <td>None</td>\n      <td>301</td>\n    </tr>\n    <tr>\n      <th>13090</th>\n      <td>89</td>\n      <td>172</td>\n      <td>0.0005</td>\n      <td>-0.0001</td>\n      <td>100.0</td>\n      <td>518.67</td>\n      <td>642.29</td>\n      <td>1588.92</td>\n      <td>1410.16</td>\n      <td>14.62</td>\n      <td>...</td>\n      <td>8.4253</td>\n      <td>0.03</td>\n      <td>392.0</td>\n      <td>2388.0</td>\n      <td>100.0</td>\n      <td>38.84</td>\n      <td>23.3927</td>\n      <td>None</td>\n      <td>None</td>\n      <td>301</td>\n    </tr>\n    <tr>\n      <th>13091</th>\n      <td>89</td>\n      <td>173</td>\n      <td>-0.0011</td>\n      <td>-0.0004</td>\n      <td>100.0</td>\n      <td>518.67</td>\n      <td>642.92</td>\n      <td>1590.80</td>\n      <td>1402.50</td>\n      <td>14.62</td>\n      <td>...</td>\n      <td>8.4272</td>\n      <td>0.03</td>\n      <td>393.0</td>\n      <td>2388.0</td>\n      <td>100.0</td>\n      <td>38.77</td>\n      <td>23.3311</td>\n      <td>None</td>\n      <td>None</td>\n      <td>301</td>\n    </tr>\n    <tr>\n      <th>13092</th>\n      <td>89</td>\n      <td>174</td>\n      <td>0.0044</td>\n      <td>0.0000</td>\n      <td>100.0</td>\n      <td>518.67</td>\n      <td>643.12</td>\n      <td>1584.55</td>\n      <td>1407.40</td>\n      <td>14.62</td>\n      <td>...</td>\n      <td>8.4406</td>\n      <td>0.03</td>\n      <td>395.0</td>\n      <td>2388.0</td>\n      <td>100.0</td>\n      <td>38.96</td>\n      <td>23.2804</td>\n      <td>None</td>\n      <td>None</td>\n      <td>301</td>\n    </tr>\n    <tr>\n      <th>13093</th>\n      <td>89</td>\n      <td>175</td>\n      <td>-0.0003</td>\n      <td>0.0002</td>\n      <td>100.0</td>\n      <td>518.67</td>\n      <td>643.01</td>\n      <td>1592.43</td>\n      <td>1410.26</td>\n      <td>14.62</td>\n      <td>...</td>\n      <td>8.4156</td>\n      <td>0.03</td>\n      <td>392.0</td>\n      <td>2388.0</td>\n      <td>100.0</td>\n      <td>38.74</td>\n      <td>23.2848</td>\n      <td>None</td>\n      <td>None</td>\n      <td>301</td>\n    </tr>\n    <tr>\n      <th>13094</th>\n      <td>89</td>\n      <td>176</td>\n      <td>0.0005</td>\n      <td>-0.0001</td>\n      <td>100.0</td>\n      <td>518.67</td>\n      <td>642.49</td>\n      <td>1589.87</td>\n      <td>1411.83</td>\n      <td>14.62</td>\n      <td>...</td>\n      <td>8.4463</td>\n      <td>0.03</td>\n      <td>394.0</td>\n      <td>2388.0</td>\n      <td>100.0</td>\n      <td>38.83</td>\n      <td>23.2428</td>\n      <td>None</td>\n      <td>None</td>\n      <td>301</td>\n    </tr>\n    <tr>\n      <th>13095</th>\n      <td>89</td>\n      <td>177</td>\n      <td>0.0010</td>\n      <td>-0.0003</td>\n      <td>100.0</td>\n      <td>518.67</td>\n      <td>642.91</td>\n      <td>1588.94</td>\n      <td>1407.43</td>\n      <td>14.62</td>\n      <td>...</td>\n      <td>8.4575</td>\n      <td>0.03</td>\n      <td>395.0</td>\n      <td>2388.0</td>\n      <td>100.0</td>\n      <td>38.82</td>\n      <td>23.2350</td>\n      <td>None</td>\n      <td>None</td>\n      <td>301</td>\n    </tr>\n  </tbody>\n</table>\n<p>13096 rows \u00d7 29 columns</p>\n</div>",
                        "text/plain": "       id  cycle  setting1  setting2  setting3      s1      s2       s3  \\\n0      31      1   -0.0019   -0.0004     100.0  518.67  642.75  1582.03   \n1      31      2   -0.0016   -0.0001     100.0  518.67  642.02  1586.39   \n2      31      3   -0.0043    0.0004     100.0  518.67  642.36  1590.20   \n3      31      4   -0.0011   -0.0001     100.0  518.67  642.18  1582.10   \n4      31      5   -0.0039    0.0005     100.0  518.67  642.23  1582.58   \n5      31      6   -0.0025   -0.0003     100.0  518.67  642.30  1581.37   \n6      31      7    0.0007    0.0004     100.0  518.67  641.61  1588.16   \n7      31      8    0.0032    0.0005     100.0  518.67  642.21  1587.75   \n8      31      9    0.0034    0.0002     100.0  518.67  642.10  1589.82   \n9      31     10   -0.0041   -0.0001     100.0  518.67  642.06  1585.22   \n10     31     11    0.0031    0.0005     100.0  518.67  642.65  1583.66   \n11     31     12    0.0023    0.0005     100.0  518.67  642.57  1587.04   \n12     31     13   -0.0017    0.0002     100.0  518.67  642.13  1593.63   \n13     31     14   -0.0009    0.0001     100.0  518.67  642.44  1588.17   \n14     31     15   -0.0016    0.0001     100.0  518.67  642.39  1584.60   \n15     31     16    0.0007    0.0001     100.0  518.67  642.43  1590.67   \n16     31     17    0.0035   -0.0004     100.0  518.67  642.08  1583.92   \n17     31     18    0.0008    0.0005     100.0  518.67  641.91  1588.30   \n18     31     19    0.0037   -0.0002     100.0  518.67  642.39  1585.61   \n19     31     20   -0.0022    0.0001     100.0  518.67  642.32  1588.07   \n20     31     21   -0.0026    0.0003     100.0  518.67  642.17  1594.85   \n21     31     22    0.0019    0.0001     100.0  518.67  642.00  1588.35   \n22     31     23   -0.0006    0.0005     100.0  518.67  642.13  1587.68   \n23     31     24    0.0004    0.0003     100.0  518.67  642.07  1589.34   \n24     31     25   -0.0003    0.0001     100.0  518.67  642.25  1587.44   \n25     31     26   -0.0022   -0.0004     100.0  518.67  641.65  1583.65   \n26     31     27    0.0045    0.0004     100.0  518.67  642.26  1585.41   \n27     31     28   -0.0040   -0.0001     100.0  518.67  642.16  1586.97   \n28     31     29    0.0037   -0.0002     100.0  518.67  642.51  1588.82   \n29     31     30   -0.0036   -0.0004     100.0  518.67  642.46  1588.84   \n...    ..    ...       ...       ...       ...     ...     ...      ...   \n13066  89    148    0.0003   -0.0006     100.0  518.67  642.93  1591.63   \n13067  89    149    0.0027    0.0001     100.0  518.67  642.38  1592.41   \n13068  89    150    0.0005   -0.0002     100.0  518.67  642.89  1582.76   \n13069  89    151   -0.0017    0.0003     100.0  518.67  642.88  1588.12   \n13070  89    152    0.0007    0.0001     100.0  518.67  642.22  1587.38   \n13071  89    153    0.0011   -0.0005     100.0  518.67  642.36  1589.76   \n13072  89    154    0.0000    0.0001     100.0  518.67  642.35  1589.29   \n13073  89    155    0.0020   -0.0005     100.0  518.67  642.60  1589.31   \n13074  89    156   -0.0033    0.0001     100.0  518.67  642.60  1587.88   \n13075  89    157    0.0007   -0.0002     100.0  518.67  642.49  1593.25   \n13076  89    158    0.0008   -0.0001     100.0  518.67  642.74  1593.28   \n13077  89    159   -0.0003   -0.0005     100.0  518.67  642.88  1587.80   \n13078  89    160    0.0017   -0.0000     100.0  518.67  642.62  1587.93   \n13079  89    161   -0.0006   -0.0000     100.0  518.67  642.58  1596.46   \n13080  89    162   -0.0010    0.0000     100.0  518.67  642.30  1587.74   \n13081  89    163    0.0009    0.0003     100.0  518.67  643.29  1584.69   \n13082  89    164    0.0021    0.0001     100.0  518.67  642.22  1591.91   \n13083  89    165    0.0010   -0.0000     100.0  518.67  642.84  1579.05   \n13084  89    166   -0.0034    0.0001     100.0  518.67  642.62  1591.04   \n13085  89    167   -0.0014   -0.0002     100.0  518.67  642.91  1586.84   \n13086  89    168   -0.0003    0.0002     100.0  518.67  642.69  1584.68   \n13087  89    169   -0.0023    0.0003     100.0  518.67  642.80  1595.04   \n13088  89    170   -0.0012    0.0004     100.0  518.67  642.22  1601.50   \n13089  89    171    0.0006   -0.0005     100.0  518.67  643.06  1594.91   \n13090  89    172    0.0005   -0.0001     100.0  518.67  642.29  1588.92   \n13091  89    173   -0.0011   -0.0004     100.0  518.67  642.92  1590.80   \n13092  89    174    0.0044    0.0000     100.0  518.67  643.12  1584.55   \n13093  89    175   -0.0003    0.0002     100.0  518.67  643.01  1592.43   \n13094  89    176    0.0005   -0.0001     100.0  518.67  642.49  1589.87   \n13095  89    177    0.0010   -0.0003     100.0  518.67  642.91  1588.94   \n\n            s4     s5  ...     s15   s16    s17     s18    s19    s20  \\\n0      1392.43  14.62  ...  8.4028  0.03  394.0  2388.0  100.0  38.83   \n1      1398.94  14.62  ...  8.4148  0.03  391.0  2388.0  100.0  39.03   \n2      1405.66  14.62  ...  8.4092  0.03  391.0  2388.0  100.0  38.99   \n3      1395.35  14.62  ...  8.4430  0.03  392.0  2388.0  100.0  38.96   \n4      1401.53  14.62  ...  8.4152  0.03  393.0  2388.0  100.0  38.92   \n5      1393.71  14.62  ...  8.3950  0.03  391.0  2388.0  100.0  39.03   \n6      1404.37  14.62  ...  8.3915  0.03  393.0  2388.0  100.0  38.99   \n7      1402.96  14.62  ...  8.3934  0.03  391.0  2388.0  100.0  38.82   \n8      1396.67  14.62  ...  8.4147  0.03  391.0  2388.0  100.0  39.03   \n9      1401.20  14.62  ...  8.4347  0.03  392.0  2388.0  100.0  38.93   \n10     1397.99  14.62  ...  8.4182  0.03  391.0  2388.0  100.0  39.03   \n11     1400.43  14.62  ...  8.4321  0.03  393.0  2388.0  100.0  39.07   \n12     1401.68  14.62  ...  8.4380  0.03  393.0  2388.0  100.0  39.07   \n13     1404.85  14.62  ...  8.3771  0.03  391.0  2388.0  100.0  38.90   \n14     1395.83  14.62  ...  8.4200  0.03  391.0  2388.0  100.0  38.88   \n15     1398.74  14.62  ...  8.4152  0.03  391.0  2388.0  100.0  39.18   \n16     1397.59  14.62  ...  8.3953  0.03  390.0  2388.0  100.0  39.07   \n17     1398.70  14.62  ...  8.4446  0.03  391.0  2388.0  100.0  39.04   \n18     1396.85  14.62  ...  8.3832  0.03  393.0  2388.0  100.0  38.93   \n19     1398.00  14.62  ...  8.4254  0.03  392.0  2388.0  100.0  38.92   \n20     1395.18  14.62  ...  8.4145  0.03  392.0  2388.0  100.0  39.11   \n21     1402.57  14.62  ...  8.4022  0.03  392.0  2388.0  100.0  38.97   \n22     1397.45  14.62  ...  8.3983  0.03  393.0  2388.0  100.0  39.18   \n23     1403.06  14.62  ...  8.3813  0.03  394.0  2388.0  100.0  38.86   \n24     1409.04  14.62  ...  8.3836  0.03  391.0  2388.0  100.0  38.91   \n25     1398.16  14.62  ...  8.4176  0.03  390.0  2388.0  100.0  39.10   \n26     1404.98  14.62  ...  8.4495  0.03  392.0  2388.0  100.0  38.93   \n27     1403.43  14.62  ...  8.4203  0.03  392.0  2388.0  100.0  38.97   \n28     1403.44  14.62  ...  8.4072  0.03  393.0  2388.0  100.0  38.87   \n29     1404.76  14.62  ...  8.4061  0.03  392.0  2388.0  100.0  39.05   \n...        ...    ...  ...     ...   ...    ...     ...    ...    ...   \n13066  1400.58  14.62  ...  8.4210  0.03  392.0  2388.0  100.0  38.76   \n13067  1403.44  14.62  ...  8.4347  0.03  393.0  2388.0  100.0  39.00   \n13068  1409.32  14.62  ...  8.4401  0.03  391.0  2388.0  100.0  38.89   \n13069  1407.91  14.62  ...  8.4346  0.03  392.0  2388.0  100.0  38.80   \n13070  1409.88  14.62  ...  8.4265  0.03  394.0  2388.0  100.0  38.82   \n13071  1406.96  14.62  ...  8.4707  0.03  392.0  2388.0  100.0  38.74   \n13072  1408.93  14.62  ...  8.4210  0.03  393.0  2388.0  100.0  38.91   \n13073  1414.35  14.62  ...  8.4635  0.03  395.0  2388.0  100.0  38.89   \n13074  1411.66  14.62  ...  8.4184  0.03  393.0  2388.0  100.0  38.86   \n13075  1405.75  14.62  ...  8.4421  0.03  393.0  2388.0  100.0  38.84   \n13076  1410.33  14.62  ...  8.4397  0.03  392.0  2388.0  100.0  38.73   \n13077  1407.94  14.62  ...  8.4268  0.03  394.0  2388.0  100.0  38.80   \n13078  1412.81  14.62  ...  8.4593  0.03  392.0  2388.0  100.0  38.77   \n13079  1405.86  14.62  ...  8.4087  0.03  392.0  2388.0  100.0  38.75   \n13080  1404.36  14.62  ...  8.3961  0.03  393.0  2388.0  100.0  38.92   \n13081  1407.05  14.62  ...  8.4110  0.03  393.0  2388.0  100.0  38.71   \n13082  1404.94  14.62  ...  8.4618  0.03  392.0  2388.0  100.0  38.68   \n13083  1415.55  14.62  ...  8.4782  0.03  393.0  2388.0  100.0  38.82   \n13084  1410.24  14.62  ...  8.4405  0.03  394.0  2388.0  100.0  38.85   \n13085  1410.65  14.62  ...  8.4313  0.03  392.0  2388.0  100.0  38.87   \n13086  1408.09  14.62  ...  8.4344  0.03  392.0  2388.0  100.0  38.67   \n13087  1410.81  14.62  ...  8.4762  0.03  393.0  2388.0  100.0  38.67   \n13088  1408.18  14.62  ...  8.4105  0.03  393.0  2388.0  100.0  39.02   \n13089  1405.85  14.62  ...  8.4347  0.03  393.0  2388.0  100.0  38.85   \n13090  1410.16  14.62  ...  8.4253  0.03  392.0  2388.0  100.0  38.84   \n13091  1402.50  14.62  ...  8.4272  0.03  393.0  2388.0  100.0  38.77   \n13092  1407.40  14.62  ...  8.4406  0.03  395.0  2388.0  100.0  38.96   \n13093  1410.26  14.62  ...  8.4156  0.03  392.0  2388.0  100.0  38.74   \n13094  1411.83  14.62  ...  8.4463  0.03  394.0  2388.0  100.0  38.83   \n13095  1407.43  14.62  ...  8.4575  0.03  395.0  2388.0  100.0  38.82   \n\n           s21   _27   _28  total_rul  \n0      23.4048  None  None        246  \n1      23.2768  None  None        246  \n2      23.3628  None  None        246  \n3      23.3472  None  None        246  \n4      23.4112  None  None        246  \n5      23.4342  None  None        246  \n6      23.4166  None  None        246  \n7      23.4539  None  None        246  \n8      23.4222  None  None        246  \n9      23.3936  None  None        246  \n10     23.3494  None  None        246  \n11     23.4881  None  None        246  \n12     23.4031  None  None        246  \n13     23.4801  None  None        246  \n14     23.5658  None  None        246  \n15     23.4020  None  None        246  \n16     23.3866  None  None        246  \n17     23.4465  None  None        246  \n18     23.3354  None  None        246  \n19     23.3786  None  None        246  \n20     23.3380  None  None        246  \n21     23.2933  None  None        246  \n22     23.2796  None  None        246  \n23     23.3018  None  None        246  \n24     23.3909  None  None        246  \n25     23.3699  None  None        246  \n26     23.4052  None  None        246  \n27     23.4235  None  None        246  \n28     23.4764  None  None        246  \n29     23.4779  None  None        246  \n...        ...   ...   ...        ...  \n13066  23.2736  None  None        301  \n13067  23.2925  None  None        301  \n13068  23.3449  None  None        301  \n13069  23.2302  None  None        301  \n13070  23.2722  None  None        301  \n13071  23.2633  None  None        301  \n13072  23.2341  None  None        301  \n13073  23.3070  None  None        301  \n13074  23.3659  None  None        301  \n13075  23.2973  None  None        301  \n13076  23.4282  None  None        301  \n13077  23.3872  None  None        301  \n13078  23.3756  None  None        301  \n13079  23.3442  None  None        301  \n13080  23.2299  None  None        301  \n13081  23.3022  None  None        301  \n13082  23.4057  None  None        301  \n13083  23.3335  None  None        301  \n13084  23.4036  None  None        301  \n13085  23.2406  None  None        301  \n13086  23.3038  None  None        301  \n13087  23.2207  None  None        301  \n13088  23.3778  None  None        301  \n13089  23.2451  None  None        301  \n13090  23.3927  None  None        301  \n13091  23.3311  None  None        301  \n13092  23.2804  None  None        301  \n13093  23.2848  None  None        301  \n13094  23.2428  None  None        301  \n13095  23.2350  None  None        301  \n\n[13096 rows x 29 columns]"
                    },
                    "execution_count": 86,
                    "metadata": {},
                    "output_type": "execute_result"
                }
            ],
            "source": "test_df=test_df.join(df_gt,on=\"id\",how=\"left\")\ntest_df.toPandas()"
        },
        {
            "cell_type": "code",
            "execution_count": 89,
            "metadata": {},
            "outputs": [],
            "source": "test_df=test_df.withColumn(\"rul\",test_df[\"total_rul\"]-test_df[\"cycle\"])"
        },
        {
            "cell_type": "code",
            "execution_count": 90,
            "metadata": {},
            "outputs": [
                {
                    "data": {
                        "text/html": "<div>\n<style scoped>\n    .dataframe tbody tr th:only-of-type {\n        vertical-align: middle;\n    }\n\n    .dataframe tbody tr th {\n        vertical-align: top;\n    }\n\n    .dataframe thead th {\n        text-align: right;\n    }\n</style>\n<table border=\"1\" class=\"dataframe\">\n  <thead>\n    <tr style=\"text-align: right;\">\n      <th></th>\n      <th>id</th>\n      <th>cycle</th>\n      <th>setting1</th>\n      <th>setting2</th>\n      <th>setting3</th>\n      <th>s1</th>\n      <th>s2</th>\n      <th>s3</th>\n      <th>s4</th>\n      <th>s5</th>\n      <th>...</th>\n      <th>s16</th>\n      <th>s17</th>\n      <th>s18</th>\n      <th>s19</th>\n      <th>s20</th>\n      <th>s21</th>\n      <th>_27</th>\n      <th>_28</th>\n      <th>total_rul</th>\n      <th>rul</th>\n    </tr>\n  </thead>\n  <tbody>\n    <tr>\n      <th>0</th>\n      <td>31</td>\n      <td>1</td>\n      <td>-0.0019</td>\n      <td>-0.0004</td>\n      <td>100.0</td>\n      <td>518.67</td>\n      <td>642.75</td>\n      <td>1582.03</td>\n      <td>1392.43</td>\n      <td>14.62</td>\n      <td>...</td>\n      <td>0.03</td>\n      <td>394.0</td>\n      <td>2388.0</td>\n      <td>100.0</td>\n      <td>38.83</td>\n      <td>23.4048</td>\n      <td>None</td>\n      <td>None</td>\n      <td>246</td>\n      <td>245</td>\n    </tr>\n    <tr>\n      <th>1</th>\n      <td>31</td>\n      <td>2</td>\n      <td>-0.0016</td>\n      <td>-0.0001</td>\n      <td>100.0</td>\n      <td>518.67</td>\n      <td>642.02</td>\n      <td>1586.39</td>\n      <td>1398.94</td>\n      <td>14.62</td>\n      <td>...</td>\n      <td>0.03</td>\n      <td>391.0</td>\n      <td>2388.0</td>\n      <td>100.0</td>\n      <td>39.03</td>\n      <td>23.2768</td>\n      <td>None</td>\n      <td>None</td>\n      <td>246</td>\n      <td>244</td>\n    </tr>\n    <tr>\n      <th>2</th>\n      <td>31</td>\n      <td>3</td>\n      <td>-0.0043</td>\n      <td>0.0004</td>\n      <td>100.0</td>\n      <td>518.67</td>\n      <td>642.36</td>\n      <td>1590.20</td>\n      <td>1405.66</td>\n      <td>14.62</td>\n      <td>...</td>\n      <td>0.03</td>\n      <td>391.0</td>\n      <td>2388.0</td>\n      <td>100.0</td>\n      <td>38.99</td>\n      <td>23.3628</td>\n      <td>None</td>\n      <td>None</td>\n      <td>246</td>\n      <td>243</td>\n    </tr>\n    <tr>\n      <th>3</th>\n      <td>31</td>\n      <td>4</td>\n      <td>-0.0011</td>\n      <td>-0.0001</td>\n      <td>100.0</td>\n      <td>518.67</td>\n      <td>642.18</td>\n      <td>1582.10</td>\n      <td>1395.35</td>\n      <td>14.62</td>\n      <td>...</td>\n      <td>0.03</td>\n      <td>392.0</td>\n      <td>2388.0</td>\n      <td>100.0</td>\n      <td>38.96</td>\n      <td>23.3472</td>\n      <td>None</td>\n      <td>None</td>\n      <td>246</td>\n      <td>242</td>\n    </tr>\n    <tr>\n      <th>4</th>\n      <td>31</td>\n      <td>5</td>\n      <td>-0.0039</td>\n      <td>0.0005</td>\n      <td>100.0</td>\n      <td>518.67</td>\n      <td>642.23</td>\n      <td>1582.58</td>\n      <td>1401.53</td>\n      <td>14.62</td>\n      <td>...</td>\n      <td>0.03</td>\n      <td>393.0</td>\n      <td>2388.0</td>\n      <td>100.0</td>\n      <td>38.92</td>\n      <td>23.4112</td>\n      <td>None</td>\n      <td>None</td>\n      <td>246</td>\n      <td>241</td>\n    </tr>\n    <tr>\n      <th>5</th>\n      <td>31</td>\n      <td>6</td>\n      <td>-0.0025</td>\n      <td>-0.0003</td>\n      <td>100.0</td>\n      <td>518.67</td>\n      <td>642.30</td>\n      <td>1581.37</td>\n      <td>1393.71</td>\n      <td>14.62</td>\n      <td>...</td>\n      <td>0.03</td>\n      <td>391.0</td>\n      <td>2388.0</td>\n      <td>100.0</td>\n      <td>39.03</td>\n      <td>23.4342</td>\n      <td>None</td>\n      <td>None</td>\n      <td>246</td>\n      <td>240</td>\n    </tr>\n    <tr>\n      <th>6</th>\n      <td>31</td>\n      <td>7</td>\n      <td>0.0007</td>\n      <td>0.0004</td>\n      <td>100.0</td>\n      <td>518.67</td>\n      <td>641.61</td>\n      <td>1588.16</td>\n      <td>1404.37</td>\n      <td>14.62</td>\n      <td>...</td>\n      <td>0.03</td>\n      <td>393.0</td>\n      <td>2388.0</td>\n      <td>100.0</td>\n      <td>38.99</td>\n      <td>23.4166</td>\n      <td>None</td>\n      <td>None</td>\n      <td>246</td>\n      <td>239</td>\n    </tr>\n    <tr>\n      <th>7</th>\n      <td>31</td>\n      <td>8</td>\n      <td>0.0032</td>\n      <td>0.0005</td>\n      <td>100.0</td>\n      <td>518.67</td>\n      <td>642.21</td>\n      <td>1587.75</td>\n      <td>1402.96</td>\n      <td>14.62</td>\n      <td>...</td>\n      <td>0.03</td>\n      <td>391.0</td>\n      <td>2388.0</td>\n      <td>100.0</td>\n      <td>38.82</td>\n      <td>23.4539</td>\n      <td>None</td>\n      <td>None</td>\n      <td>246</td>\n      <td>238</td>\n    </tr>\n    <tr>\n      <th>8</th>\n      <td>31</td>\n      <td>9</td>\n      <td>0.0034</td>\n      <td>0.0002</td>\n      <td>100.0</td>\n      <td>518.67</td>\n      <td>642.10</td>\n      <td>1589.82</td>\n      <td>1396.67</td>\n      <td>14.62</td>\n      <td>...</td>\n      <td>0.03</td>\n      <td>391.0</td>\n      <td>2388.0</td>\n      <td>100.0</td>\n      <td>39.03</td>\n      <td>23.4222</td>\n      <td>None</td>\n      <td>None</td>\n      <td>246</td>\n      <td>237</td>\n    </tr>\n    <tr>\n      <th>9</th>\n      <td>31</td>\n      <td>10</td>\n      <td>-0.0041</td>\n      <td>-0.0001</td>\n      <td>100.0</td>\n      <td>518.67</td>\n      <td>642.06</td>\n      <td>1585.22</td>\n      <td>1401.20</td>\n      <td>14.62</td>\n      <td>...</td>\n      <td>0.03</td>\n      <td>392.0</td>\n      <td>2388.0</td>\n      <td>100.0</td>\n      <td>38.93</td>\n      <td>23.3936</td>\n      <td>None</td>\n      <td>None</td>\n      <td>246</td>\n      <td>236</td>\n    </tr>\n    <tr>\n      <th>10</th>\n      <td>31</td>\n      <td>11</td>\n      <td>0.0031</td>\n      <td>0.0005</td>\n      <td>100.0</td>\n      <td>518.67</td>\n      <td>642.65</td>\n      <td>1583.66</td>\n      <td>1397.99</td>\n      <td>14.62</td>\n      <td>...</td>\n      <td>0.03</td>\n      <td>391.0</td>\n      <td>2388.0</td>\n      <td>100.0</td>\n      <td>39.03</td>\n      <td>23.3494</td>\n      <td>None</td>\n      <td>None</td>\n      <td>246</td>\n      <td>235</td>\n    </tr>\n    <tr>\n      <th>11</th>\n      <td>31</td>\n      <td>12</td>\n      <td>0.0023</td>\n      <td>0.0005</td>\n      <td>100.0</td>\n      <td>518.67</td>\n      <td>642.57</td>\n      <td>1587.04</td>\n      <td>1400.43</td>\n      <td>14.62</td>\n      <td>...</td>\n      <td>0.03</td>\n      <td>393.0</td>\n      <td>2388.0</td>\n      <td>100.0</td>\n      <td>39.07</td>\n      <td>23.4881</td>\n      <td>None</td>\n      <td>None</td>\n      <td>246</td>\n      <td>234</td>\n    </tr>\n    <tr>\n      <th>12</th>\n      <td>31</td>\n      <td>13</td>\n      <td>-0.0017</td>\n      <td>0.0002</td>\n      <td>100.0</td>\n      <td>518.67</td>\n      <td>642.13</td>\n      <td>1593.63</td>\n      <td>1401.68</td>\n      <td>14.62</td>\n      <td>...</td>\n      <td>0.03</td>\n      <td>393.0</td>\n      <td>2388.0</td>\n      <td>100.0</td>\n      <td>39.07</td>\n      <td>23.4031</td>\n      <td>None</td>\n      <td>None</td>\n      <td>246</td>\n      <td>233</td>\n    </tr>\n    <tr>\n      <th>13</th>\n      <td>31</td>\n      <td>14</td>\n      <td>-0.0009</td>\n      <td>0.0001</td>\n      <td>100.0</td>\n      <td>518.67</td>\n      <td>642.44</td>\n      <td>1588.17</td>\n      <td>1404.85</td>\n      <td>14.62</td>\n      <td>...</td>\n      <td>0.03</td>\n      <td>391.0</td>\n      <td>2388.0</td>\n      <td>100.0</td>\n      <td>38.90</td>\n      <td>23.4801</td>\n      <td>None</td>\n      <td>None</td>\n      <td>246</td>\n      <td>232</td>\n    </tr>\n    <tr>\n      <th>14</th>\n      <td>31</td>\n      <td>15</td>\n      <td>-0.0016</td>\n      <td>0.0001</td>\n      <td>100.0</td>\n      <td>518.67</td>\n      <td>642.39</td>\n      <td>1584.60</td>\n      <td>1395.83</td>\n      <td>14.62</td>\n      <td>...</td>\n      <td>0.03</td>\n      <td>391.0</td>\n      <td>2388.0</td>\n      <td>100.0</td>\n      <td>38.88</td>\n      <td>23.5658</td>\n      <td>None</td>\n      <td>None</td>\n      <td>246</td>\n      <td>231</td>\n    </tr>\n    <tr>\n      <th>15</th>\n      <td>31</td>\n      <td>16</td>\n      <td>0.0007</td>\n      <td>0.0001</td>\n      <td>100.0</td>\n      <td>518.67</td>\n      <td>642.43</td>\n      <td>1590.67</td>\n      <td>1398.74</td>\n      <td>14.62</td>\n      <td>...</td>\n      <td>0.03</td>\n      <td>391.0</td>\n      <td>2388.0</td>\n      <td>100.0</td>\n      <td>39.18</td>\n      <td>23.4020</td>\n      <td>None</td>\n      <td>None</td>\n      <td>246</td>\n      <td>230</td>\n    </tr>\n    <tr>\n      <th>16</th>\n      <td>31</td>\n      <td>17</td>\n      <td>0.0035</td>\n      <td>-0.0004</td>\n      <td>100.0</td>\n      <td>518.67</td>\n      <td>642.08</td>\n      <td>1583.92</td>\n      <td>1397.59</td>\n      <td>14.62</td>\n      <td>...</td>\n      <td>0.03</td>\n      <td>390.0</td>\n      <td>2388.0</td>\n      <td>100.0</td>\n      <td>39.07</td>\n      <td>23.3866</td>\n      <td>None</td>\n      <td>None</td>\n      <td>246</td>\n      <td>229</td>\n    </tr>\n    <tr>\n      <th>17</th>\n      <td>31</td>\n      <td>18</td>\n      <td>0.0008</td>\n      <td>0.0005</td>\n      <td>100.0</td>\n      <td>518.67</td>\n      <td>641.91</td>\n      <td>1588.30</td>\n      <td>1398.70</td>\n      <td>14.62</td>\n      <td>...</td>\n      <td>0.03</td>\n      <td>391.0</td>\n      <td>2388.0</td>\n      <td>100.0</td>\n      <td>39.04</td>\n      <td>23.4465</td>\n      <td>None</td>\n      <td>None</td>\n      <td>246</td>\n      <td>228</td>\n    </tr>\n    <tr>\n      <th>18</th>\n      <td>31</td>\n      <td>19</td>\n      <td>0.0037</td>\n      <td>-0.0002</td>\n      <td>100.0</td>\n      <td>518.67</td>\n      <td>642.39</td>\n      <td>1585.61</td>\n      <td>1396.85</td>\n      <td>14.62</td>\n      <td>...</td>\n      <td>0.03</td>\n      <td>393.0</td>\n      <td>2388.0</td>\n      <td>100.0</td>\n      <td>38.93</td>\n      <td>23.3354</td>\n      <td>None</td>\n      <td>None</td>\n      <td>246</td>\n      <td>227</td>\n    </tr>\n    <tr>\n      <th>19</th>\n      <td>31</td>\n      <td>20</td>\n      <td>-0.0022</td>\n      <td>0.0001</td>\n      <td>100.0</td>\n      <td>518.67</td>\n      <td>642.32</td>\n      <td>1588.07</td>\n      <td>1398.00</td>\n      <td>14.62</td>\n      <td>...</td>\n      <td>0.03</td>\n      <td>392.0</td>\n      <td>2388.0</td>\n      <td>100.0</td>\n      <td>38.92</td>\n      <td>23.3786</td>\n      <td>None</td>\n      <td>None</td>\n      <td>246</td>\n      <td>226</td>\n    </tr>\n    <tr>\n      <th>20</th>\n      <td>31</td>\n      <td>21</td>\n      <td>-0.0026</td>\n      <td>0.0003</td>\n      <td>100.0</td>\n      <td>518.67</td>\n      <td>642.17</td>\n      <td>1594.85</td>\n      <td>1395.18</td>\n      <td>14.62</td>\n      <td>...</td>\n      <td>0.03</td>\n      <td>392.0</td>\n      <td>2388.0</td>\n      <td>100.0</td>\n      <td>39.11</td>\n      <td>23.3380</td>\n      <td>None</td>\n      <td>None</td>\n      <td>246</td>\n      <td>225</td>\n    </tr>\n    <tr>\n      <th>21</th>\n      <td>31</td>\n      <td>22</td>\n      <td>0.0019</td>\n      <td>0.0001</td>\n      <td>100.0</td>\n      <td>518.67</td>\n      <td>642.00</td>\n      <td>1588.35</td>\n      <td>1402.57</td>\n      <td>14.62</td>\n      <td>...</td>\n      <td>0.03</td>\n      <td>392.0</td>\n      <td>2388.0</td>\n      <td>100.0</td>\n      <td>38.97</td>\n      <td>23.2933</td>\n      <td>None</td>\n      <td>None</td>\n      <td>246</td>\n      <td>224</td>\n    </tr>\n    <tr>\n      <th>22</th>\n      <td>31</td>\n      <td>23</td>\n      <td>-0.0006</td>\n      <td>0.0005</td>\n      <td>100.0</td>\n      <td>518.67</td>\n      <td>642.13</td>\n      <td>1587.68</td>\n      <td>1397.45</td>\n      <td>14.62</td>\n      <td>...</td>\n      <td>0.03</td>\n      <td>393.0</td>\n      <td>2388.0</td>\n      <td>100.0</td>\n      <td>39.18</td>\n      <td>23.2796</td>\n      <td>None</td>\n      <td>None</td>\n      <td>246</td>\n      <td>223</td>\n    </tr>\n    <tr>\n      <th>23</th>\n      <td>31</td>\n      <td>24</td>\n      <td>0.0004</td>\n      <td>0.0003</td>\n      <td>100.0</td>\n      <td>518.67</td>\n      <td>642.07</td>\n      <td>1589.34</td>\n      <td>1403.06</td>\n      <td>14.62</td>\n      <td>...</td>\n      <td>0.03</td>\n      <td>394.0</td>\n      <td>2388.0</td>\n      <td>100.0</td>\n      <td>38.86</td>\n      <td>23.3018</td>\n      <td>None</td>\n      <td>None</td>\n      <td>246</td>\n      <td>222</td>\n    </tr>\n    <tr>\n      <th>24</th>\n      <td>31</td>\n      <td>25</td>\n      <td>-0.0003</td>\n      <td>0.0001</td>\n      <td>100.0</td>\n      <td>518.67</td>\n      <td>642.25</td>\n      <td>1587.44</td>\n      <td>1409.04</td>\n      <td>14.62</td>\n      <td>...</td>\n      <td>0.03</td>\n      <td>391.0</td>\n      <td>2388.0</td>\n      <td>100.0</td>\n      <td>38.91</td>\n      <td>23.3909</td>\n      <td>None</td>\n      <td>None</td>\n      <td>246</td>\n      <td>221</td>\n    </tr>\n    <tr>\n      <th>25</th>\n      <td>31</td>\n      <td>26</td>\n      <td>-0.0022</td>\n      <td>-0.0004</td>\n      <td>100.0</td>\n      <td>518.67</td>\n      <td>641.65</td>\n      <td>1583.65</td>\n      <td>1398.16</td>\n      <td>14.62</td>\n      <td>...</td>\n      <td>0.03</td>\n      <td>390.0</td>\n      <td>2388.0</td>\n      <td>100.0</td>\n      <td>39.10</td>\n      <td>23.3699</td>\n      <td>None</td>\n      <td>None</td>\n      <td>246</td>\n      <td>220</td>\n    </tr>\n    <tr>\n      <th>26</th>\n      <td>31</td>\n      <td>27</td>\n      <td>0.0045</td>\n      <td>0.0004</td>\n      <td>100.0</td>\n      <td>518.67</td>\n      <td>642.26</td>\n      <td>1585.41</td>\n      <td>1404.98</td>\n      <td>14.62</td>\n      <td>...</td>\n      <td>0.03</td>\n      <td>392.0</td>\n      <td>2388.0</td>\n      <td>100.0</td>\n      <td>38.93</td>\n      <td>23.4052</td>\n      <td>None</td>\n      <td>None</td>\n      <td>246</td>\n      <td>219</td>\n    </tr>\n    <tr>\n      <th>27</th>\n      <td>31</td>\n      <td>28</td>\n      <td>-0.0040</td>\n      <td>-0.0001</td>\n      <td>100.0</td>\n      <td>518.67</td>\n      <td>642.16</td>\n      <td>1586.97</td>\n      <td>1403.43</td>\n      <td>14.62</td>\n      <td>...</td>\n      <td>0.03</td>\n      <td>392.0</td>\n      <td>2388.0</td>\n      <td>100.0</td>\n      <td>38.97</td>\n      <td>23.4235</td>\n      <td>None</td>\n      <td>None</td>\n      <td>246</td>\n      <td>218</td>\n    </tr>\n    <tr>\n      <th>28</th>\n      <td>31</td>\n      <td>29</td>\n      <td>0.0037</td>\n      <td>-0.0002</td>\n      <td>100.0</td>\n      <td>518.67</td>\n      <td>642.51</td>\n      <td>1588.82</td>\n      <td>1403.44</td>\n      <td>14.62</td>\n      <td>...</td>\n      <td>0.03</td>\n      <td>393.0</td>\n      <td>2388.0</td>\n      <td>100.0</td>\n      <td>38.87</td>\n      <td>23.4764</td>\n      <td>None</td>\n      <td>None</td>\n      <td>246</td>\n      <td>217</td>\n    </tr>\n    <tr>\n      <th>29</th>\n      <td>31</td>\n      <td>30</td>\n      <td>-0.0036</td>\n      <td>-0.0004</td>\n      <td>100.0</td>\n      <td>518.67</td>\n      <td>642.46</td>\n      <td>1588.84</td>\n      <td>1404.76</td>\n      <td>14.62</td>\n      <td>...</td>\n      <td>0.03</td>\n      <td>392.0</td>\n      <td>2388.0</td>\n      <td>100.0</td>\n      <td>39.05</td>\n      <td>23.4779</td>\n      <td>None</td>\n      <td>None</td>\n      <td>246</td>\n      <td>216</td>\n    </tr>\n    <tr>\n      <th>...</th>\n      <td>...</td>\n      <td>...</td>\n      <td>...</td>\n      <td>...</td>\n      <td>...</td>\n      <td>...</td>\n      <td>...</td>\n      <td>...</td>\n      <td>...</td>\n      <td>...</td>\n      <td>...</td>\n      <td>...</td>\n      <td>...</td>\n      <td>...</td>\n      <td>...</td>\n      <td>...</td>\n      <td>...</td>\n      <td>...</td>\n      <td>...</td>\n      <td>...</td>\n      <td>...</td>\n    </tr>\n    <tr>\n      <th>13066</th>\n      <td>89</td>\n      <td>148</td>\n      <td>0.0003</td>\n      <td>-0.0006</td>\n      <td>100.0</td>\n      <td>518.67</td>\n      <td>642.93</td>\n      <td>1591.63</td>\n      <td>1400.58</td>\n      <td>14.62</td>\n      <td>...</td>\n      <td>0.03</td>\n      <td>392.0</td>\n      <td>2388.0</td>\n      <td>100.0</td>\n      <td>38.76</td>\n      <td>23.2736</td>\n      <td>None</td>\n      <td>None</td>\n      <td>301</td>\n      <td>153</td>\n    </tr>\n    <tr>\n      <th>13067</th>\n      <td>89</td>\n      <td>149</td>\n      <td>0.0027</td>\n      <td>0.0001</td>\n      <td>100.0</td>\n      <td>518.67</td>\n      <td>642.38</td>\n      <td>1592.41</td>\n      <td>1403.44</td>\n      <td>14.62</td>\n      <td>...</td>\n      <td>0.03</td>\n      <td>393.0</td>\n      <td>2388.0</td>\n      <td>100.0</td>\n      <td>39.00</td>\n      <td>23.2925</td>\n      <td>None</td>\n      <td>None</td>\n      <td>301</td>\n      <td>152</td>\n    </tr>\n    <tr>\n      <th>13068</th>\n      <td>89</td>\n      <td>150</td>\n      <td>0.0005</td>\n      <td>-0.0002</td>\n      <td>100.0</td>\n      <td>518.67</td>\n      <td>642.89</td>\n      <td>1582.76</td>\n      <td>1409.32</td>\n      <td>14.62</td>\n      <td>...</td>\n      <td>0.03</td>\n      <td>391.0</td>\n      <td>2388.0</td>\n      <td>100.0</td>\n      <td>38.89</td>\n      <td>23.3449</td>\n      <td>None</td>\n      <td>None</td>\n      <td>301</td>\n      <td>151</td>\n    </tr>\n    <tr>\n      <th>13069</th>\n      <td>89</td>\n      <td>151</td>\n      <td>-0.0017</td>\n      <td>0.0003</td>\n      <td>100.0</td>\n      <td>518.67</td>\n      <td>642.88</td>\n      <td>1588.12</td>\n      <td>1407.91</td>\n      <td>14.62</td>\n      <td>...</td>\n      <td>0.03</td>\n      <td>392.0</td>\n      <td>2388.0</td>\n      <td>100.0</td>\n      <td>38.80</td>\n      <td>23.2302</td>\n      <td>None</td>\n      <td>None</td>\n      <td>301</td>\n      <td>150</td>\n    </tr>\n    <tr>\n      <th>13070</th>\n      <td>89</td>\n      <td>152</td>\n      <td>0.0007</td>\n      <td>0.0001</td>\n      <td>100.0</td>\n      <td>518.67</td>\n      <td>642.22</td>\n      <td>1587.38</td>\n      <td>1409.88</td>\n      <td>14.62</td>\n      <td>...</td>\n      <td>0.03</td>\n      <td>394.0</td>\n      <td>2388.0</td>\n      <td>100.0</td>\n      <td>38.82</td>\n      <td>23.2722</td>\n      <td>None</td>\n      <td>None</td>\n      <td>301</td>\n      <td>149</td>\n    </tr>\n    <tr>\n      <th>13071</th>\n      <td>89</td>\n      <td>153</td>\n      <td>0.0011</td>\n      <td>-0.0005</td>\n      <td>100.0</td>\n      <td>518.67</td>\n      <td>642.36</td>\n      <td>1589.76</td>\n      <td>1406.96</td>\n      <td>14.62</td>\n      <td>...</td>\n      <td>0.03</td>\n      <td>392.0</td>\n      <td>2388.0</td>\n      <td>100.0</td>\n      <td>38.74</td>\n      <td>23.2633</td>\n      <td>None</td>\n      <td>None</td>\n      <td>301</td>\n      <td>148</td>\n    </tr>\n    <tr>\n      <th>13072</th>\n      <td>89</td>\n      <td>154</td>\n      <td>0.0000</td>\n      <td>0.0001</td>\n      <td>100.0</td>\n      <td>518.67</td>\n      <td>642.35</td>\n      <td>1589.29</td>\n      <td>1408.93</td>\n      <td>14.62</td>\n      <td>...</td>\n      <td>0.03</td>\n      <td>393.0</td>\n      <td>2388.0</td>\n      <td>100.0</td>\n      <td>38.91</td>\n      <td>23.2341</td>\n      <td>None</td>\n      <td>None</td>\n      <td>301</td>\n      <td>147</td>\n    </tr>\n    <tr>\n      <th>13073</th>\n      <td>89</td>\n      <td>155</td>\n      <td>0.0020</td>\n      <td>-0.0005</td>\n      <td>100.0</td>\n      <td>518.67</td>\n      <td>642.60</td>\n      <td>1589.31</td>\n      <td>1414.35</td>\n      <td>14.62</td>\n      <td>...</td>\n      <td>0.03</td>\n      <td>395.0</td>\n      <td>2388.0</td>\n      <td>100.0</td>\n      <td>38.89</td>\n      <td>23.3070</td>\n      <td>None</td>\n      <td>None</td>\n      <td>301</td>\n      <td>146</td>\n    </tr>\n    <tr>\n      <th>13074</th>\n      <td>89</td>\n      <td>156</td>\n      <td>-0.0033</td>\n      <td>0.0001</td>\n      <td>100.0</td>\n      <td>518.67</td>\n      <td>642.60</td>\n      <td>1587.88</td>\n      <td>1411.66</td>\n      <td>14.62</td>\n      <td>...</td>\n      <td>0.03</td>\n      <td>393.0</td>\n      <td>2388.0</td>\n      <td>100.0</td>\n      <td>38.86</td>\n      <td>23.3659</td>\n      <td>None</td>\n      <td>None</td>\n      <td>301</td>\n      <td>145</td>\n    </tr>\n    <tr>\n      <th>13075</th>\n      <td>89</td>\n      <td>157</td>\n      <td>0.0007</td>\n      <td>-0.0002</td>\n      <td>100.0</td>\n      <td>518.67</td>\n      <td>642.49</td>\n      <td>1593.25</td>\n      <td>1405.75</td>\n      <td>14.62</td>\n      <td>...</td>\n      <td>0.03</td>\n      <td>393.0</td>\n      <td>2388.0</td>\n      <td>100.0</td>\n      <td>38.84</td>\n      <td>23.2973</td>\n      <td>None</td>\n      <td>None</td>\n      <td>301</td>\n      <td>144</td>\n    </tr>\n    <tr>\n      <th>13076</th>\n      <td>89</td>\n      <td>158</td>\n      <td>0.0008</td>\n      <td>-0.0001</td>\n      <td>100.0</td>\n      <td>518.67</td>\n      <td>642.74</td>\n      <td>1593.28</td>\n      <td>1410.33</td>\n      <td>14.62</td>\n      <td>...</td>\n      <td>0.03</td>\n      <td>392.0</td>\n      <td>2388.0</td>\n      <td>100.0</td>\n      <td>38.73</td>\n      <td>23.4282</td>\n      <td>None</td>\n      <td>None</td>\n      <td>301</td>\n      <td>143</td>\n    </tr>\n    <tr>\n      <th>13077</th>\n      <td>89</td>\n      <td>159</td>\n      <td>-0.0003</td>\n      <td>-0.0005</td>\n      <td>100.0</td>\n      <td>518.67</td>\n      <td>642.88</td>\n      <td>1587.80</td>\n      <td>1407.94</td>\n      <td>14.62</td>\n      <td>...</td>\n      <td>0.03</td>\n      <td>394.0</td>\n      <td>2388.0</td>\n      <td>100.0</td>\n      <td>38.80</td>\n      <td>23.3872</td>\n      <td>None</td>\n      <td>None</td>\n      <td>301</td>\n      <td>142</td>\n    </tr>\n    <tr>\n      <th>13078</th>\n      <td>89</td>\n      <td>160</td>\n      <td>0.0017</td>\n      <td>-0.0000</td>\n      <td>100.0</td>\n      <td>518.67</td>\n      <td>642.62</td>\n      <td>1587.93</td>\n      <td>1412.81</td>\n      <td>14.62</td>\n      <td>...</td>\n      <td>0.03</td>\n      <td>392.0</td>\n      <td>2388.0</td>\n      <td>100.0</td>\n      <td>38.77</td>\n      <td>23.3756</td>\n      <td>None</td>\n      <td>None</td>\n      <td>301</td>\n      <td>141</td>\n    </tr>\n    <tr>\n      <th>13079</th>\n      <td>89</td>\n      <td>161</td>\n      <td>-0.0006</td>\n      <td>-0.0000</td>\n      <td>100.0</td>\n      <td>518.67</td>\n      <td>642.58</td>\n      <td>1596.46</td>\n      <td>1405.86</td>\n      <td>14.62</td>\n      <td>...</td>\n      <td>0.03</td>\n      <td>392.0</td>\n      <td>2388.0</td>\n      <td>100.0</td>\n      <td>38.75</td>\n      <td>23.3442</td>\n      <td>None</td>\n      <td>None</td>\n      <td>301</td>\n      <td>140</td>\n    </tr>\n    <tr>\n      <th>13080</th>\n      <td>89</td>\n      <td>162</td>\n      <td>-0.0010</td>\n      <td>0.0000</td>\n      <td>100.0</td>\n      <td>518.67</td>\n      <td>642.30</td>\n      <td>1587.74</td>\n      <td>1404.36</td>\n      <td>14.62</td>\n      <td>...</td>\n      <td>0.03</td>\n      <td>393.0</td>\n      <td>2388.0</td>\n      <td>100.0</td>\n      <td>38.92</td>\n      <td>23.2299</td>\n      <td>None</td>\n      <td>None</td>\n      <td>301</td>\n      <td>139</td>\n    </tr>\n    <tr>\n      <th>13081</th>\n      <td>89</td>\n      <td>163</td>\n      <td>0.0009</td>\n      <td>0.0003</td>\n      <td>100.0</td>\n      <td>518.67</td>\n      <td>643.29</td>\n      <td>1584.69</td>\n      <td>1407.05</td>\n      <td>14.62</td>\n      <td>...</td>\n      <td>0.03</td>\n      <td>393.0</td>\n      <td>2388.0</td>\n      <td>100.0</td>\n      <td>38.71</td>\n      <td>23.3022</td>\n      <td>None</td>\n      <td>None</td>\n      <td>301</td>\n      <td>138</td>\n    </tr>\n    <tr>\n      <th>13082</th>\n      <td>89</td>\n      <td>164</td>\n      <td>0.0021</td>\n      <td>0.0001</td>\n      <td>100.0</td>\n      <td>518.67</td>\n      <td>642.22</td>\n      <td>1591.91</td>\n      <td>1404.94</td>\n      <td>14.62</td>\n      <td>...</td>\n      <td>0.03</td>\n      <td>392.0</td>\n      <td>2388.0</td>\n      <td>100.0</td>\n      <td>38.68</td>\n      <td>23.4057</td>\n      <td>None</td>\n      <td>None</td>\n      <td>301</td>\n      <td>137</td>\n    </tr>\n    <tr>\n      <th>13083</th>\n      <td>89</td>\n      <td>165</td>\n      <td>0.0010</td>\n      <td>-0.0000</td>\n      <td>100.0</td>\n      <td>518.67</td>\n      <td>642.84</td>\n      <td>1579.05</td>\n      <td>1415.55</td>\n      <td>14.62</td>\n      <td>...</td>\n      <td>0.03</td>\n      <td>393.0</td>\n      <td>2388.0</td>\n      <td>100.0</td>\n      <td>38.82</td>\n      <td>23.3335</td>\n      <td>None</td>\n      <td>None</td>\n      <td>301</td>\n      <td>136</td>\n    </tr>\n    <tr>\n      <th>13084</th>\n      <td>89</td>\n      <td>166</td>\n      <td>-0.0034</td>\n      <td>0.0001</td>\n      <td>100.0</td>\n      <td>518.67</td>\n      <td>642.62</td>\n      <td>1591.04</td>\n      <td>1410.24</td>\n      <td>14.62</td>\n      <td>...</td>\n      <td>0.03</td>\n      <td>394.0</td>\n      <td>2388.0</td>\n      <td>100.0</td>\n      <td>38.85</td>\n      <td>23.4036</td>\n      <td>None</td>\n      <td>None</td>\n      <td>301</td>\n      <td>135</td>\n    </tr>\n    <tr>\n      <th>13085</th>\n      <td>89</td>\n      <td>167</td>\n      <td>-0.0014</td>\n      <td>-0.0002</td>\n      <td>100.0</td>\n      <td>518.67</td>\n      <td>642.91</td>\n      <td>1586.84</td>\n      <td>1410.65</td>\n      <td>14.62</td>\n      <td>...</td>\n      <td>0.03</td>\n      <td>392.0</td>\n      <td>2388.0</td>\n      <td>100.0</td>\n      <td>38.87</td>\n      <td>23.2406</td>\n      <td>None</td>\n      <td>None</td>\n      <td>301</td>\n      <td>134</td>\n    </tr>\n    <tr>\n      <th>13086</th>\n      <td>89</td>\n      <td>168</td>\n      <td>-0.0003</td>\n      <td>0.0002</td>\n      <td>100.0</td>\n      <td>518.67</td>\n      <td>642.69</td>\n      <td>1584.68</td>\n      <td>1408.09</td>\n      <td>14.62</td>\n      <td>...</td>\n      <td>0.03</td>\n      <td>392.0</td>\n      <td>2388.0</td>\n      <td>100.0</td>\n      <td>38.67</td>\n      <td>23.3038</td>\n      <td>None</td>\n      <td>None</td>\n      <td>301</td>\n      <td>133</td>\n    </tr>\n    <tr>\n      <th>13087</th>\n      <td>89</td>\n      <td>169</td>\n      <td>-0.0023</td>\n      <td>0.0003</td>\n      <td>100.0</td>\n      <td>518.67</td>\n      <td>642.80</td>\n      <td>1595.04</td>\n      <td>1410.81</td>\n      <td>14.62</td>\n      <td>...</td>\n      <td>0.03</td>\n      <td>393.0</td>\n      <td>2388.0</td>\n      <td>100.0</td>\n      <td>38.67</td>\n      <td>23.2207</td>\n      <td>None</td>\n      <td>None</td>\n      <td>301</td>\n      <td>132</td>\n    </tr>\n    <tr>\n      <th>13088</th>\n      <td>89</td>\n      <td>170</td>\n      <td>-0.0012</td>\n      <td>0.0004</td>\n      <td>100.0</td>\n      <td>518.67</td>\n      <td>642.22</td>\n      <td>1601.50</td>\n      <td>1408.18</td>\n      <td>14.62</td>\n      <td>...</td>\n      <td>0.03</td>\n      <td>393.0</td>\n      <td>2388.0</td>\n      <td>100.0</td>\n      <td>39.02</td>\n      <td>23.3778</td>\n      <td>None</td>\n      <td>None</td>\n      <td>301</td>\n      <td>131</td>\n    </tr>\n    <tr>\n      <th>13089</th>\n      <td>89</td>\n      <td>171</td>\n      <td>0.0006</td>\n      <td>-0.0005</td>\n      <td>100.0</td>\n      <td>518.67</td>\n      <td>643.06</td>\n      <td>1594.91</td>\n      <td>1405.85</td>\n      <td>14.62</td>\n      <td>...</td>\n      <td>0.03</td>\n      <td>393.0</td>\n      <td>2388.0</td>\n      <td>100.0</td>\n      <td>38.85</td>\n      <td>23.2451</td>\n      <td>None</td>\n      <td>None</td>\n      <td>301</td>\n      <td>130</td>\n    </tr>\n    <tr>\n      <th>13090</th>\n      <td>89</td>\n      <td>172</td>\n      <td>0.0005</td>\n      <td>-0.0001</td>\n      <td>100.0</td>\n      <td>518.67</td>\n      <td>642.29</td>\n      <td>1588.92</td>\n      <td>1410.16</td>\n      <td>14.62</td>\n      <td>...</td>\n      <td>0.03</td>\n      <td>392.0</td>\n      <td>2388.0</td>\n      <td>100.0</td>\n      <td>38.84</td>\n      <td>23.3927</td>\n      <td>None</td>\n      <td>None</td>\n      <td>301</td>\n      <td>129</td>\n    </tr>\n    <tr>\n      <th>13091</th>\n      <td>89</td>\n      <td>173</td>\n      <td>-0.0011</td>\n      <td>-0.0004</td>\n      <td>100.0</td>\n      <td>518.67</td>\n      <td>642.92</td>\n      <td>1590.80</td>\n      <td>1402.50</td>\n      <td>14.62</td>\n      <td>...</td>\n      <td>0.03</td>\n      <td>393.0</td>\n      <td>2388.0</td>\n      <td>100.0</td>\n      <td>38.77</td>\n      <td>23.3311</td>\n      <td>None</td>\n      <td>None</td>\n      <td>301</td>\n      <td>128</td>\n    </tr>\n    <tr>\n      <th>13092</th>\n      <td>89</td>\n      <td>174</td>\n      <td>0.0044</td>\n      <td>0.0000</td>\n      <td>100.0</td>\n      <td>518.67</td>\n      <td>643.12</td>\n      <td>1584.55</td>\n      <td>1407.40</td>\n      <td>14.62</td>\n      <td>...</td>\n      <td>0.03</td>\n      <td>395.0</td>\n      <td>2388.0</td>\n      <td>100.0</td>\n      <td>38.96</td>\n      <td>23.2804</td>\n      <td>None</td>\n      <td>None</td>\n      <td>301</td>\n      <td>127</td>\n    </tr>\n    <tr>\n      <th>13093</th>\n      <td>89</td>\n      <td>175</td>\n      <td>-0.0003</td>\n      <td>0.0002</td>\n      <td>100.0</td>\n      <td>518.67</td>\n      <td>643.01</td>\n      <td>1592.43</td>\n      <td>1410.26</td>\n      <td>14.62</td>\n      <td>...</td>\n      <td>0.03</td>\n      <td>392.0</td>\n      <td>2388.0</td>\n      <td>100.0</td>\n      <td>38.74</td>\n      <td>23.2848</td>\n      <td>None</td>\n      <td>None</td>\n      <td>301</td>\n      <td>126</td>\n    </tr>\n    <tr>\n      <th>13094</th>\n      <td>89</td>\n      <td>176</td>\n      <td>0.0005</td>\n      <td>-0.0001</td>\n      <td>100.0</td>\n      <td>518.67</td>\n      <td>642.49</td>\n      <td>1589.87</td>\n      <td>1411.83</td>\n      <td>14.62</td>\n      <td>...</td>\n      <td>0.03</td>\n      <td>394.0</td>\n      <td>2388.0</td>\n      <td>100.0</td>\n      <td>38.83</td>\n      <td>23.2428</td>\n      <td>None</td>\n      <td>None</td>\n      <td>301</td>\n      <td>125</td>\n    </tr>\n    <tr>\n      <th>13095</th>\n      <td>89</td>\n      <td>177</td>\n      <td>0.0010</td>\n      <td>-0.0003</td>\n      <td>100.0</td>\n      <td>518.67</td>\n      <td>642.91</td>\n      <td>1588.94</td>\n      <td>1407.43</td>\n      <td>14.62</td>\n      <td>...</td>\n      <td>0.03</td>\n      <td>395.0</td>\n      <td>2388.0</td>\n      <td>100.0</td>\n      <td>38.82</td>\n      <td>23.2350</td>\n      <td>None</td>\n      <td>None</td>\n      <td>301</td>\n      <td>124</td>\n    </tr>\n  </tbody>\n</table>\n<p>13096 rows \u00d7 30 columns</p>\n</div>",
                        "text/plain": "       id  cycle  setting1  setting2  setting3      s1      s2       s3  \\\n0      31      1   -0.0019   -0.0004     100.0  518.67  642.75  1582.03   \n1      31      2   -0.0016   -0.0001     100.0  518.67  642.02  1586.39   \n2      31      3   -0.0043    0.0004     100.0  518.67  642.36  1590.20   \n3      31      4   -0.0011   -0.0001     100.0  518.67  642.18  1582.10   \n4      31      5   -0.0039    0.0005     100.0  518.67  642.23  1582.58   \n5      31      6   -0.0025   -0.0003     100.0  518.67  642.30  1581.37   \n6      31      7    0.0007    0.0004     100.0  518.67  641.61  1588.16   \n7      31      8    0.0032    0.0005     100.0  518.67  642.21  1587.75   \n8      31      9    0.0034    0.0002     100.0  518.67  642.10  1589.82   \n9      31     10   -0.0041   -0.0001     100.0  518.67  642.06  1585.22   \n10     31     11    0.0031    0.0005     100.0  518.67  642.65  1583.66   \n11     31     12    0.0023    0.0005     100.0  518.67  642.57  1587.04   \n12     31     13   -0.0017    0.0002     100.0  518.67  642.13  1593.63   \n13     31     14   -0.0009    0.0001     100.0  518.67  642.44  1588.17   \n14     31     15   -0.0016    0.0001     100.0  518.67  642.39  1584.60   \n15     31     16    0.0007    0.0001     100.0  518.67  642.43  1590.67   \n16     31     17    0.0035   -0.0004     100.0  518.67  642.08  1583.92   \n17     31     18    0.0008    0.0005     100.0  518.67  641.91  1588.30   \n18     31     19    0.0037   -0.0002     100.0  518.67  642.39  1585.61   \n19     31     20   -0.0022    0.0001     100.0  518.67  642.32  1588.07   \n20     31     21   -0.0026    0.0003     100.0  518.67  642.17  1594.85   \n21     31     22    0.0019    0.0001     100.0  518.67  642.00  1588.35   \n22     31     23   -0.0006    0.0005     100.0  518.67  642.13  1587.68   \n23     31     24    0.0004    0.0003     100.0  518.67  642.07  1589.34   \n24     31     25   -0.0003    0.0001     100.0  518.67  642.25  1587.44   \n25     31     26   -0.0022   -0.0004     100.0  518.67  641.65  1583.65   \n26     31     27    0.0045    0.0004     100.0  518.67  642.26  1585.41   \n27     31     28   -0.0040   -0.0001     100.0  518.67  642.16  1586.97   \n28     31     29    0.0037   -0.0002     100.0  518.67  642.51  1588.82   \n29     31     30   -0.0036   -0.0004     100.0  518.67  642.46  1588.84   \n...    ..    ...       ...       ...       ...     ...     ...      ...   \n13066  89    148    0.0003   -0.0006     100.0  518.67  642.93  1591.63   \n13067  89    149    0.0027    0.0001     100.0  518.67  642.38  1592.41   \n13068  89    150    0.0005   -0.0002     100.0  518.67  642.89  1582.76   \n13069  89    151   -0.0017    0.0003     100.0  518.67  642.88  1588.12   \n13070  89    152    0.0007    0.0001     100.0  518.67  642.22  1587.38   \n13071  89    153    0.0011   -0.0005     100.0  518.67  642.36  1589.76   \n13072  89    154    0.0000    0.0001     100.0  518.67  642.35  1589.29   \n13073  89    155    0.0020   -0.0005     100.0  518.67  642.60  1589.31   \n13074  89    156   -0.0033    0.0001     100.0  518.67  642.60  1587.88   \n13075  89    157    0.0007   -0.0002     100.0  518.67  642.49  1593.25   \n13076  89    158    0.0008   -0.0001     100.0  518.67  642.74  1593.28   \n13077  89    159   -0.0003   -0.0005     100.0  518.67  642.88  1587.80   \n13078  89    160    0.0017   -0.0000     100.0  518.67  642.62  1587.93   \n13079  89    161   -0.0006   -0.0000     100.0  518.67  642.58  1596.46   \n13080  89    162   -0.0010    0.0000     100.0  518.67  642.30  1587.74   \n13081  89    163    0.0009    0.0003     100.0  518.67  643.29  1584.69   \n13082  89    164    0.0021    0.0001     100.0  518.67  642.22  1591.91   \n13083  89    165    0.0010   -0.0000     100.0  518.67  642.84  1579.05   \n13084  89    166   -0.0034    0.0001     100.0  518.67  642.62  1591.04   \n13085  89    167   -0.0014   -0.0002     100.0  518.67  642.91  1586.84   \n13086  89    168   -0.0003    0.0002     100.0  518.67  642.69  1584.68   \n13087  89    169   -0.0023    0.0003     100.0  518.67  642.80  1595.04   \n13088  89    170   -0.0012    0.0004     100.0  518.67  642.22  1601.50   \n13089  89    171    0.0006   -0.0005     100.0  518.67  643.06  1594.91   \n13090  89    172    0.0005   -0.0001     100.0  518.67  642.29  1588.92   \n13091  89    173   -0.0011   -0.0004     100.0  518.67  642.92  1590.80   \n13092  89    174    0.0044    0.0000     100.0  518.67  643.12  1584.55   \n13093  89    175   -0.0003    0.0002     100.0  518.67  643.01  1592.43   \n13094  89    176    0.0005   -0.0001     100.0  518.67  642.49  1589.87   \n13095  89    177    0.0010   -0.0003     100.0  518.67  642.91  1588.94   \n\n            s4     s5  ...   s16    s17     s18    s19    s20      s21   _27  \\\n0      1392.43  14.62  ...  0.03  394.0  2388.0  100.0  38.83  23.4048  None   \n1      1398.94  14.62  ...  0.03  391.0  2388.0  100.0  39.03  23.2768  None   \n2      1405.66  14.62  ...  0.03  391.0  2388.0  100.0  38.99  23.3628  None   \n3      1395.35  14.62  ...  0.03  392.0  2388.0  100.0  38.96  23.3472  None   \n4      1401.53  14.62  ...  0.03  393.0  2388.0  100.0  38.92  23.4112  None   \n5      1393.71  14.62  ...  0.03  391.0  2388.0  100.0  39.03  23.4342  None   \n6      1404.37  14.62  ...  0.03  393.0  2388.0  100.0  38.99  23.4166  None   \n7      1402.96  14.62  ...  0.03  391.0  2388.0  100.0  38.82  23.4539  None   \n8      1396.67  14.62  ...  0.03  391.0  2388.0  100.0  39.03  23.4222  None   \n9      1401.20  14.62  ...  0.03  392.0  2388.0  100.0  38.93  23.3936  None   \n10     1397.99  14.62  ...  0.03  391.0  2388.0  100.0  39.03  23.3494  None   \n11     1400.43  14.62  ...  0.03  393.0  2388.0  100.0  39.07  23.4881  None   \n12     1401.68  14.62  ...  0.03  393.0  2388.0  100.0  39.07  23.4031  None   \n13     1404.85  14.62  ...  0.03  391.0  2388.0  100.0  38.90  23.4801  None   \n14     1395.83  14.62  ...  0.03  391.0  2388.0  100.0  38.88  23.5658  None   \n15     1398.74  14.62  ...  0.03  391.0  2388.0  100.0  39.18  23.4020  None   \n16     1397.59  14.62  ...  0.03  390.0  2388.0  100.0  39.07  23.3866  None   \n17     1398.70  14.62  ...  0.03  391.0  2388.0  100.0  39.04  23.4465  None   \n18     1396.85  14.62  ...  0.03  393.0  2388.0  100.0  38.93  23.3354  None   \n19     1398.00  14.62  ...  0.03  392.0  2388.0  100.0  38.92  23.3786  None   \n20     1395.18  14.62  ...  0.03  392.0  2388.0  100.0  39.11  23.3380  None   \n21     1402.57  14.62  ...  0.03  392.0  2388.0  100.0  38.97  23.2933  None   \n22     1397.45  14.62  ...  0.03  393.0  2388.0  100.0  39.18  23.2796  None   \n23     1403.06  14.62  ...  0.03  394.0  2388.0  100.0  38.86  23.3018  None   \n24     1409.04  14.62  ...  0.03  391.0  2388.0  100.0  38.91  23.3909  None   \n25     1398.16  14.62  ...  0.03  390.0  2388.0  100.0  39.10  23.3699  None   \n26     1404.98  14.62  ...  0.03  392.0  2388.0  100.0  38.93  23.4052  None   \n27     1403.43  14.62  ...  0.03  392.0  2388.0  100.0  38.97  23.4235  None   \n28     1403.44  14.62  ...  0.03  393.0  2388.0  100.0  38.87  23.4764  None   \n29     1404.76  14.62  ...  0.03  392.0  2388.0  100.0  39.05  23.4779  None   \n...        ...    ...  ...   ...    ...     ...    ...    ...      ...   ...   \n13066  1400.58  14.62  ...  0.03  392.0  2388.0  100.0  38.76  23.2736  None   \n13067  1403.44  14.62  ...  0.03  393.0  2388.0  100.0  39.00  23.2925  None   \n13068  1409.32  14.62  ...  0.03  391.0  2388.0  100.0  38.89  23.3449  None   \n13069  1407.91  14.62  ...  0.03  392.0  2388.0  100.0  38.80  23.2302  None   \n13070  1409.88  14.62  ...  0.03  394.0  2388.0  100.0  38.82  23.2722  None   \n13071  1406.96  14.62  ...  0.03  392.0  2388.0  100.0  38.74  23.2633  None   \n13072  1408.93  14.62  ...  0.03  393.0  2388.0  100.0  38.91  23.2341  None   \n13073  1414.35  14.62  ...  0.03  395.0  2388.0  100.0  38.89  23.3070  None   \n13074  1411.66  14.62  ...  0.03  393.0  2388.0  100.0  38.86  23.3659  None   \n13075  1405.75  14.62  ...  0.03  393.0  2388.0  100.0  38.84  23.2973  None   \n13076  1410.33  14.62  ...  0.03  392.0  2388.0  100.0  38.73  23.4282  None   \n13077  1407.94  14.62  ...  0.03  394.0  2388.0  100.0  38.80  23.3872  None   \n13078  1412.81  14.62  ...  0.03  392.0  2388.0  100.0  38.77  23.3756  None   \n13079  1405.86  14.62  ...  0.03  392.0  2388.0  100.0  38.75  23.3442  None   \n13080  1404.36  14.62  ...  0.03  393.0  2388.0  100.0  38.92  23.2299  None   \n13081  1407.05  14.62  ...  0.03  393.0  2388.0  100.0  38.71  23.3022  None   \n13082  1404.94  14.62  ...  0.03  392.0  2388.0  100.0  38.68  23.4057  None   \n13083  1415.55  14.62  ...  0.03  393.0  2388.0  100.0  38.82  23.3335  None   \n13084  1410.24  14.62  ...  0.03  394.0  2388.0  100.0  38.85  23.4036  None   \n13085  1410.65  14.62  ...  0.03  392.0  2388.0  100.0  38.87  23.2406  None   \n13086  1408.09  14.62  ...  0.03  392.0  2388.0  100.0  38.67  23.3038  None   \n13087  1410.81  14.62  ...  0.03  393.0  2388.0  100.0  38.67  23.2207  None   \n13088  1408.18  14.62  ...  0.03  393.0  2388.0  100.0  39.02  23.3778  None   \n13089  1405.85  14.62  ...  0.03  393.0  2388.0  100.0  38.85  23.2451  None   \n13090  1410.16  14.62  ...  0.03  392.0  2388.0  100.0  38.84  23.3927  None   \n13091  1402.50  14.62  ...  0.03  393.0  2388.0  100.0  38.77  23.3311  None   \n13092  1407.40  14.62  ...  0.03  395.0  2388.0  100.0  38.96  23.2804  None   \n13093  1410.26  14.62  ...  0.03  392.0  2388.0  100.0  38.74  23.2848  None   \n13094  1411.83  14.62  ...  0.03  394.0  2388.0  100.0  38.83  23.2428  None   \n13095  1407.43  14.62  ...  0.03  395.0  2388.0  100.0  38.82  23.2350  None   \n\n        _28  total_rul  rul  \n0      None        246  245  \n1      None        246  244  \n2      None        246  243  \n3      None        246  242  \n4      None        246  241  \n5      None        246  240  \n6      None        246  239  \n7      None        246  238  \n8      None        246  237  \n9      None        246  236  \n10     None        246  235  \n11     None        246  234  \n12     None        246  233  \n13     None        246  232  \n14     None        246  231  \n15     None        246  230  \n16     None        246  229  \n17     None        246  228  \n18     None        246  227  \n19     None        246  226  \n20     None        246  225  \n21     None        246  224  \n22     None        246  223  \n23     None        246  222  \n24     None        246  221  \n25     None        246  220  \n26     None        246  219  \n27     None        246  218  \n28     None        246  217  \n29     None        246  216  \n...     ...        ...  ...  \n13066  None        301  153  \n13067  None        301  152  \n13068  None        301  151  \n13069  None        301  150  \n13070  None        301  149  \n13071  None        301  148  \n13072  None        301  147  \n13073  None        301  146  \n13074  None        301  145  \n13075  None        301  144  \n13076  None        301  143  \n13077  None        301  142  \n13078  None        301  141  \n13079  None        301  140  \n13080  None        301  139  \n13081  None        301  138  \n13082  None        301  137  \n13083  None        301  136  \n13084  None        301  135  \n13085  None        301  134  \n13086  None        301  133  \n13087  None        301  132  \n13088  None        301  131  \n13089  None        301  130  \n13090  None        301  129  \n13091  None        301  128  \n13092  None        301  127  \n13093  None        301  126  \n13094  None        301  125  \n13095  None        301  124  \n\n[13096 rows x 30 columns]"
                    },
                    "execution_count": 90,
                    "metadata": {},
                    "output_type": "execute_result"
                }
            ],
            "source": "test_df.toPandas()"
        },
        {
            "cell_type": "code",
            "execution_count": 91,
            "metadata": {},
            "outputs": [],
            "source": "test_df=test_df.drop(\"total_rul\")"
        },
        {
            "cell_type": "code",
            "execution_count": null,
            "metadata": {},
            "outputs": [],
            "source": "test_df.orderBy(\"id\").show()"
        }
    ],
    "metadata": {
        "kernelspec": {
            "display_name": "Python 3.6 with Spark",
            "language": "python3",
            "name": "python36"
        },
        "language_info": {
            "codemirror_mode": {
                "name": "ipython",
                "version": 3
            },
            "file_extension": ".py",
            "mimetype": "text/x-python",
            "name": "python",
            "nbconvert_exporter": "python",
            "pygments_lexer": "ipython3",
            "version": "3.6.8"
        }
    },
    "nbformat": 4,
    "nbformat_minor": 1
}