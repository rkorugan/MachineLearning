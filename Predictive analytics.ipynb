{
    "cells": [
        {
            "cell_type": "code",
            "execution_count": null,
            "metadata": {},
            "outputs": [],
            "source": "from pyspark.sql.types import *\nimport pyspark.sql.functions as F"
        },
        {
            "cell_type": "code",
            "execution_count": null,
            "metadata": {},
            "outputs": [],
            "source": "!wget https://github.com/TobiasGlaubach/python-ml-turbofan/archive/master.zip"
        },
        {
            "cell_type": "code",
            "execution_count": null,
            "metadata": {},
            "outputs": [],
            "source": "!unzip master.zip\n"
        },
        {
            "cell_type": "code",
            "execution_count": null,
            "metadata": {},
            "outputs": [],
            "source": "!ls"
        },
        {
            "cell_type": "code",
            "execution_count": null,
            "metadata": {},
            "outputs": [],
            "source": "path='/home/spark/shared/python-ml-turbofan-master/CMAPSSData'\nprint(path)\n"
        },
        {
            "cell_type": "code",
            "execution_count": null,
            "metadata": {},
            "outputs": [],
            "source": "os.listdir(path)"
        },
        {
            "cell_type": "code",
            "execution_count": null,
            "metadata": {},
            "outputs": [],
            "source": "train_files= [filename for filename in os.listdir(path) if(filename.startswith('train') and filename.endswith('.txt'))]\n                                                           "
        },
        {
            "cell_type": "code",
            "execution_count": null,
            "metadata": {},
            "outputs": [],
            "source": "train_files[0]"
        },
        {
            "cell_type": "code",
            "execution_count": null,
            "metadata": {},
            "outputs": [],
            "source": "test_files= [filename for filename in os.listdir(path) if(filename.startswith('test') and filename.endswith('.txt'))]"
        },
        {
            "cell_type": "code",
            "execution_count": null,
            "metadata": {},
            "outputs": [],
            "source": "print(train_files)\ntest_files"
        },
        {
            "cell_type": "code",
            "execution_count": null,
            "metadata": {},
            "outputs": [],
            "source": "!ls"
        },
        {
            "cell_type": "code",
            "execution_count": null,
            "metadata": {},
            "outputs": [],
            "source": "train_rdd=sc.textFile(path+'/'+train_files[0])"
        },
        {
            "cell_type": "code",
            "execution_count": null,
            "metadata": {},
            "outputs": [],
            "source": "train_rdd=train_rdd.map(lambda line:line.split(\" \"))"
        },
        {
            "cell_type": "code",
            "execution_count": null,
            "metadata": {},
            "outputs": [],
            "source": "train_rdd.count()"
        },
        {
            "cell_type": "code",
            "execution_count": null,
            "metadata": {},
            "outputs": [],
            "source": "test_rdd=sc.textFile(path+'/'+test_files[0])\ntest_rdd=test_rdd.map(lambda line:line.split(\" \"))"
        },
        {
            "cell_type": "code",
            "execution_count": null,
            "metadata": {},
            "outputs": [],
            "source": "test_rdd.count()"
        },
        {
            "cell_type": "code",
            "execution_count": null,
            "metadata": {},
            "outputs": [],
            "source": "header = [\"id\", \"cycle\", \"setting1\", \"setting2\", \"setting3\",\n                    \"s1\", \"s2\", \"s3\", \"s4\", \"s5\", \"s6\", \"s7\", \"s8\",\n                    \"s9\", \"s10\", \"s11\", \"s12\", \"s13\", \"s14\", \"s15\", \n                    \"s16\",\"s17\", \"s18\", \"s19\", \"s20\", \"s21\"]"
        },
        {
            "cell_type": "code",
            "execution_count": null,
            "metadata": {},
            "outputs": [],
            "source": "train_df=train_rdd.toDF(header)"
        },
        {
            "cell_type": "code",
            "execution_count": null,
            "metadata": {
                "scrolled": true
            },
            "outputs": [],
            "source": "train_df.collect()"
        },
        {
            "cell_type": "code",
            "execution_count": null,
            "metadata": {},
            "outputs": [],
            "source": "test_df=test_rdd.toDF(header)"
        },
        {
            "cell_type": "code",
            "execution_count": null,
            "metadata": {},
            "outputs": [],
            "source": "test_df.show()"
        },
        {
            "cell_type": "code",
            "execution_count": null,
            "metadata": {},
            "outputs": [],
            "source": "import pandas as pd\ntrain_pandas_df=train_df.toPandas()"
        },
        {
            "cell_type": "code",
            "execution_count": null,
            "metadata": {},
            "outputs": [],
            "source": "train_pandas_df.head()"
        },
        {
            "cell_type": "code",
            "execution_count": null,
            "metadata": {},
            "outputs": [],
            "source": "test_pandas_df=test_df.toPandas()\ntest_pandas_df.head()"
        },
        {
            "cell_type": "code",
            "execution_count": null,
            "metadata": {},
            "outputs": [],
            "source": "train_pandas_df.isnull().sum()\n"
        },
        {
            "cell_type": "code",
            "execution_count": null,
            "metadata": {},
            "outputs": [],
            "source": "train_df.na.drop()"
        },
        {
            "cell_type": "code",
            "execution_count": null,
            "metadata": {},
            "outputs": [],
            "source": "test_df.na.drop()"
        },
        {
            "cell_type": "code",
            "execution_count": null,
            "metadata": {},
            "outputs": [],
            "source": "train_pandas_df.dropna()"
        },
        {
            "cell_type": "code",
            "execution_count": null,
            "metadata": {},
            "outputs": [],
            "source": "df = train_df.withColumn('id', train_df['id'].cast(IntegerType()))"
        },
        {
            "cell_type": "code",
            "execution_count": null,
            "metadata": {},
            "outputs": [],
            "source": "df.collect()"
        },
        {
            "cell_type": "code",
            "execution_count": null,
            "metadata": {},
            "outputs": [],
            "source": "def set_type(df,intlist=[],doublelist=[]):\n    if len(intlist)>0:\n        for col in intlist:\n            df=df.withColumn(col,df[col].cast(IntegerType()))\n                             \n    if len(doublelist)>0:\n        for col in doublelist:\n            df=df.withColumn(col,df[col].cast(DoubleType()))\n    return df                            \n                             "
        },
        {
            "cell_type": "code",
            "execution_count": null,
            "metadata": {},
            "outputs": [],
            "source": "train_df.columns"
        },
        {
            "cell_type": "code",
            "execution_count": null,
            "metadata": {},
            "outputs": [],
            "source": "int_list = [\"id\", \"cycle\"]\ndouble_list= list(set(train_df.columns)-set(int_list) )\ndouble_list"
        },
        {
            "cell_type": "code",
            "execution_count": null,
            "metadata": {},
            "outputs": [],
            "source": "train_df=set_type(train_df,int_list,double_list)\ntest_df=set_type(test_df,int_list,double_list)"
        },
        {
            "cell_type": "code",
            "execution_count": null,
            "metadata": {},
            "outputs": [],
            "source": "train_df.columns"
        },
        {
            "cell_type": "code",
            "execution_count": null,
            "metadata": {},
            "outputs": [],
            "source": "test_df.schema"
        },
        {
            "cell_type": "code",
            "execution_count": null,
            "metadata": {},
            "outputs": [],
            "source": "train_df.schema"
        },
        {
            "cell_type": "code",
            "execution_count": null,
            "metadata": {},
            "outputs": [],
            "source": "print (\"For train data:\")\ntrain_df.groupBy('id').count().sort(F.col(\"count\")).show(1)\n"
        },
        {
            "cell_type": "code",
            "execution_count": null,
            "metadata": {},
            "outputs": [],
            "source": "train_df.groupBy('id').count().sort(F.col(\"count\")).show(1)"
        },
        {
            "cell_type": "code",
            "execution_count": null,
            "metadata": {},
            "outputs": [],
            "source": "train_df.groupBy('id').count().sort(F.col(\"count\").desc()).show(1)"
        },
        {
            "cell_type": "code",
            "execution_count": null,
            "metadata": {},
            "outputs": [],
            "source": "test_df.groupBy('id').count().show()"
        },
        {
            "cell_type": "code",
            "execution_count": null,
            "metadata": {},
            "outputs": [],
            "source": "train_df.toPandas().count()"
        },
        {
            "cell_type": "markdown",
            "metadata": {},
            "source": "# 2020-02-04 FEATURE SCALING"
        },
        {
            "cell_type": "code",
            "execution_count": null,
            "metadata": {},
            "outputs": [],
            "source": "rul=train_df.groupBy('id').agg({\"cycle\":\"max\"}).sort((\"id\"))"
        },
        {
            "cell_type": "code",
            "execution_count": null,
            "metadata": {},
            "outputs": [],
            "source": "type(rul)"
        },
        {
            "cell_type": "code",
            "execution_count": null,
            "metadata": {},
            "outputs": [],
            "source": "rul=rul.toDF('id','max')"
        },
        {
            "cell_type": "code",
            "execution_count": null,
            "metadata": {},
            "outputs": [],
            "source": "rul.show()"
        },
        {
            "cell_type": "code",
            "execution_count": null,
            "metadata": {},
            "outputs": [],
            "source": "temp_df=train_df.join(rul,on=['id'],how='left').toPandas()"
        },
        {
            "cell_type": "code",
            "execution_count": null,
            "metadata": {
                "scrolled": true
            },
            "outputs": [],
            "source": "temp_df.sort_values(by=[\"id\"])"
        },
        {
            "cell_type": "code",
            "execution_count": null,
            "metadata": {},
            "outputs": [],
            "source": "temp_df['RUL']=temp_df['max']-temp_df['cycle']"
        },
        {
            "cell_type": "code",
            "execution_count": null,
            "metadata": {},
            "outputs": [],
            "source": "temp_df.sort_values(by=[\"id\",\"cycle\"])"
        },
        {
            "cell_type": "code",
            "execution_count": null,
            "metadata": {},
            "outputs": [],
            "source": "def add_rul_labelling(df,id,time):\n    rul=df.groupBy(id).agg({time:\"max\"}).sort('id')\n    rul=rul.toDF('id','max')\n    df=df.join(rul,on=['id'],how='left')\n    df=df.withColumn(\"rul\",df[\"max\"]-df[time])\n    return df"
        },
        {
            "cell_type": "code",
            "execution_count": null,
            "metadata": {},
            "outputs": [],
            "source": "df=add_rul_labelling(train_df,\"id\",\"cycle\")"
        },
        {
            "cell_type": "code",
            "execution_count": null,
            "metadata": {},
            "outputs": [],
            "source": "df.toPandas()"
        },
        {
            "cell_type": "code",
            "execution_count": null,
            "metadata": {},
            "outputs": [],
            "source": ""
        },
        {
            "cell_type": "code",
            "execution_count": null,
            "metadata": {},
            "outputs": [],
            "source": "def add_window_labelling(df,w1,w2):\n    df=df.withColumn('label1',F.when(df.rul<w1,1).otherwise(0))\n    df=df.withColumn('label2',df.label1)\n    df=df.withColumn('label2',F.when(df.rul<w2,2).otherwise(df.label1))\n    return df"
        },
        {
            "cell_type": "code",
            "execution_count": null,
            "metadata": {},
            "outputs": [],
            "source": "train_df.collect()"
        },
        {
            "cell_type": "code",
            "execution_count": null,
            "metadata": {},
            "outputs": [],
            "source": "df=add_window_labelling(df,30,15)"
        },
        {
            "cell_type": "code",
            "execution_count": null,
            "metadata": {},
            "outputs": [],
            "source": "df.toPandas()"
        },
        {
            "cell_type": "code",
            "execution_count": null,
            "metadata": {},
            "outputs": [],
            "source": "\n"
        },
        {
            "cell_type": "code",
            "execution_count": null,
            "metadata": {},
            "outputs": [],
            "source": "path"
        },
        {
            "cell_type": "code",
            "execution_count": null,
            "metadata": {},
            "outputs": [],
            "source": "os.listdir(path)"
        },
        {
            "cell_type": "code",
            "execution_count": null,
            "metadata": {},
            "outputs": [],
            "source": "GT_FILE_TYPE=\"RUL\"\ngt_files=[filename for filename  in os.listdir(path) if filename.startswith(GT_FILE_TYPE) ]\ngt_files"
        },
        {
            "cell_type": "code",
            "execution_count": 80,
            "metadata": {},
            "outputs": [],
            "source": "rdd_gt=sc.textFile(path+'/'+gt_files[0])\nrdd_gt=rdd_gt.map(lambda line : line.split(\" \"))"
        },
        {
            "cell_type": "code",
            "execution_count": 83,
            "metadata": {},
            "outputs": [
                {
                    "data": {
                        "text/plain": "100"
                    },
                    "execution_count": 83,
                    "metadata": {},
                    "output_type": "execute_result"
                }
            ],
            "source": "rdd_gt.count()"
        },
        {
            "cell_type": "code",
            "execution_count": 100,
            "metadata": {},
            "outputs": [],
            "source": "header=[\"rul\"]\ndf_gt=rdd_gt.toDF(header)"
        },
        {
            "cell_type": "code",
            "execution_count": 95,
            "metadata": {},
            "outputs": [],
            "source": "df_gt=df_gt.drop(\"_2\")"
        },
        {
            "cell_type": "code",
            "execution_count": 98,
            "metadata": {
                "collapsed": true
            },
            "outputs": [
                {
                    "data": {
                        "text/html": "<div>\n<style scoped>\n    .dataframe tbody tr th:only-of-type {\n        vertical-align: middle;\n    }\n\n    .dataframe tbody tr th {\n        vertical-align: top;\n    }\n\n    .dataframe thead th {\n        text-align: right;\n    }\n</style>\n<table border=\"1\" class=\"dataframe\">\n  <thead>\n    <tr style=\"text-align: right;\">\n      <th></th>\n      <th>rul</th>\n    </tr>\n  </thead>\n  <tbody>\n    <tr>\n      <th>0</th>\n      <td>112</td>\n    </tr>\n    <tr>\n      <th>1</th>\n      <td>98</td>\n    </tr>\n    <tr>\n      <th>2</th>\n      <td>69</td>\n    </tr>\n    <tr>\n      <th>3</th>\n      <td>82</td>\n    </tr>\n    <tr>\n      <th>4</th>\n      <td>91</td>\n    </tr>\n    <tr>\n      <th>5</th>\n      <td>93</td>\n    </tr>\n    <tr>\n      <th>6</th>\n      <td>91</td>\n    </tr>\n    <tr>\n      <th>7</th>\n      <td>95</td>\n    </tr>\n    <tr>\n      <th>8</th>\n      <td>111</td>\n    </tr>\n    <tr>\n      <th>9</th>\n      <td>96</td>\n    </tr>\n    <tr>\n      <th>10</th>\n      <td>97</td>\n    </tr>\n    <tr>\n      <th>11</th>\n      <td>124</td>\n    </tr>\n    <tr>\n      <th>12</th>\n      <td>95</td>\n    </tr>\n    <tr>\n      <th>13</th>\n      <td>107</td>\n    </tr>\n    <tr>\n      <th>14</th>\n      <td>83</td>\n    </tr>\n    <tr>\n      <th>15</th>\n      <td>84</td>\n    </tr>\n    <tr>\n      <th>16</th>\n      <td>50</td>\n    </tr>\n    <tr>\n      <th>17</th>\n      <td>28</td>\n    </tr>\n    <tr>\n      <th>18</th>\n      <td>87</td>\n    </tr>\n    <tr>\n      <th>19</th>\n      <td>16</td>\n    </tr>\n    <tr>\n      <th>20</th>\n      <td>57</td>\n    </tr>\n    <tr>\n      <th>21</th>\n      <td>111</td>\n    </tr>\n    <tr>\n      <th>22</th>\n      <td>113</td>\n    </tr>\n    <tr>\n      <th>23</th>\n      <td>20</td>\n    </tr>\n    <tr>\n      <th>24</th>\n      <td>145</td>\n    </tr>\n    <tr>\n      <th>25</th>\n      <td>119</td>\n    </tr>\n    <tr>\n      <th>26</th>\n      <td>66</td>\n    </tr>\n    <tr>\n      <th>27</th>\n      <td>97</td>\n    </tr>\n    <tr>\n      <th>28</th>\n      <td>90</td>\n    </tr>\n    <tr>\n      <th>29</th>\n      <td>115</td>\n    </tr>\n    <tr>\n      <th>...</th>\n      <td>...</td>\n    </tr>\n    <tr>\n      <th>70</th>\n      <td>118</td>\n    </tr>\n    <tr>\n      <th>71</th>\n      <td>50</td>\n    </tr>\n    <tr>\n      <th>72</th>\n      <td>131</td>\n    </tr>\n    <tr>\n      <th>73</th>\n      <td>126</td>\n    </tr>\n    <tr>\n      <th>74</th>\n      <td>113</td>\n    </tr>\n    <tr>\n      <th>75</th>\n      <td>10</td>\n    </tr>\n    <tr>\n      <th>76</th>\n      <td>34</td>\n    </tr>\n    <tr>\n      <th>77</th>\n      <td>107</td>\n    </tr>\n    <tr>\n      <th>78</th>\n      <td>63</td>\n    </tr>\n    <tr>\n      <th>79</th>\n      <td>90</td>\n    </tr>\n    <tr>\n      <th>80</th>\n      <td>8</td>\n    </tr>\n    <tr>\n      <th>81</th>\n      <td>9</td>\n    </tr>\n    <tr>\n      <th>82</th>\n      <td>137</td>\n    </tr>\n    <tr>\n      <th>83</th>\n      <td>58</td>\n    </tr>\n    <tr>\n      <th>84</th>\n      <td>118</td>\n    </tr>\n    <tr>\n      <th>85</th>\n      <td>89</td>\n    </tr>\n    <tr>\n      <th>86</th>\n      <td>116</td>\n    </tr>\n    <tr>\n      <th>87</th>\n      <td>115</td>\n    </tr>\n    <tr>\n      <th>88</th>\n      <td>136</td>\n    </tr>\n    <tr>\n      <th>89</th>\n      <td>28</td>\n    </tr>\n    <tr>\n      <th>90</th>\n      <td>38</td>\n    </tr>\n    <tr>\n      <th>91</th>\n      <td>20</td>\n    </tr>\n    <tr>\n      <th>92</th>\n      <td>85</td>\n    </tr>\n    <tr>\n      <th>93</th>\n      <td>55</td>\n    </tr>\n    <tr>\n      <th>94</th>\n      <td>128</td>\n    </tr>\n    <tr>\n      <th>95</th>\n      <td>137</td>\n    </tr>\n    <tr>\n      <th>96</th>\n      <td>82</td>\n    </tr>\n    <tr>\n      <th>97</th>\n      <td>59</td>\n    </tr>\n    <tr>\n      <th>98</th>\n      <td>117</td>\n    </tr>\n    <tr>\n      <th>99</th>\n      <td>20</td>\n    </tr>\n  </tbody>\n</table>\n<p>100 rows \u00d7 1 columns</p>\n</div>",
                        "text/plain": "    rul\n0   112\n1    98\n2    69\n3    82\n4    91\n5    93\n6    91\n7    95\n8   111\n9    96\n10   97\n11  124\n12   95\n13  107\n14   83\n15   84\n16   50\n17   28\n18   87\n19   16\n20   57\n21  111\n22  113\n23   20\n24  145\n25  119\n26   66\n27   97\n28   90\n29  115\n..  ...\n70  118\n71   50\n72  131\n73  126\n74  113\n75   10\n76   34\n77  107\n78   63\n79   90\n80    8\n81    9\n82  137\n83   58\n84  118\n85   89\n86  116\n87  115\n88  136\n89   28\n90   38\n91   20\n92   85\n93   55\n94  128\n95  137\n96   82\n97   59\n98  117\n99   20\n\n[100 rows x 1 columns]"
                    },
                    "execution_count": 98,
                    "metadata": {},
                    "output_type": "execute_result"
                }
            ],
            "source": "df_gt.toPandas()"
        },
        {
            "cell_type": "code",
            "execution_count": 101,
            "metadata": {},
            "outputs": [],
            "source": "df_gt=df_gt.withColumn(\"rul\",df_gt[\"rul\"].cast(IntegerType()))"
        },
        {
            "cell_type": "code",
            "execution_count": 104,
            "metadata": {},
            "outputs": [],
            "source": "df_gt=df_gt.drop(\"_2\")"
        },
        {
            "cell_type": "code",
            "execution_count": 105,
            "metadata": {},
            "outputs": [
                {
                    "data": {
                        "text/plain": "DataFrame[rul: int]"
                    },
                    "execution_count": 105,
                    "metadata": {},
                    "output_type": "execute_result"
                }
            ],
            "source": "df_gt"
        }
    ],
    "metadata": {
        "kernelspec": {
            "display_name": "Python 3.6 with Spark",
            "language": "python3",
            "name": "python36"
        },
        "language_info": {
            "codemirror_mode": {
                "name": "ipython",
                "version": 3
            },
            "file_extension": ".py",
            "mimetype": "text/x-python",
            "name": "python",
            "nbconvert_exporter": "python",
            "pygments_lexer": "ipython3",
            "version": "3.6.8"
        }
    },
    "nbformat": 4,
    "nbformat_minor": 1
}