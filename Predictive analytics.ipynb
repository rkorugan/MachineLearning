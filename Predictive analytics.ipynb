{
    "cells": [
        {
            "cell_type": "code",
            "execution_count": null,
            "metadata": {},
            "outputs": [],
            "source": "from pyspark.sql.types import *\nimport pyspark.sql.functions as F"
        },
        {
            "cell_type": "code",
            "execution_count": null,
            "metadata": {},
            "outputs": [],
            "source": "!wget https://github.com/TobiasGlaubach/python-ml-turbofan/archive/master.zip"
        },
        {
            "cell_type": "code",
            "execution_count": null,
            "metadata": {},
            "outputs": [],
            "source": "!unzip master.zip\n"
        },
        {
            "cell_type": "code",
            "execution_count": null,
            "metadata": {},
            "outputs": [],
            "source": "!ls"
        },
        {
            "cell_type": "code",
            "execution_count": null,
            "metadata": {},
            "outputs": [],
            "source": "path='/home/spark/shared/python-ml-turbofan-master/CMAPSSData'\nprint(path)\n"
        },
        {
            "cell_type": "code",
            "execution_count": null,
            "metadata": {},
            "outputs": [],
            "source": "os.listdir(path)"
        },
        {
            "cell_type": "code",
            "execution_count": null,
            "metadata": {},
            "outputs": [],
            "source": "train_files= [filename for filename in os.listdir(path) if(filename.startswith('train') and filename.endswith('.txt'))]\n                                                           "
        },
        {
            "cell_type": "code",
            "execution_count": null,
            "metadata": {},
            "outputs": [],
            "source": "train_files[0]"
        },
        {
            "cell_type": "code",
            "execution_count": null,
            "metadata": {},
            "outputs": [],
            "source": "test_files= [filename for filename in os.listdir(path) if(filename.startswith('test') and filename.endswith('.txt'))]"
        },
        {
            "cell_type": "code",
            "execution_count": null,
            "metadata": {},
            "outputs": [],
            "source": "print(train_files)\ntest_files"
        },
        {
            "cell_type": "code",
            "execution_count": null,
            "metadata": {},
            "outputs": [],
            "source": "!ls"
        },
        {
            "cell_type": "code",
            "execution_count": null,
            "metadata": {},
            "outputs": [],
            "source": "train_rdd=sc.textFile(path+'/'+train_files[0])"
        },
        {
            "cell_type": "code",
            "execution_count": null,
            "metadata": {},
            "outputs": [],
            "source": "train_rdd=train_rdd.map(lambda line:line.split(\" \"))"
        },
        {
            "cell_type": "code",
            "execution_count": null,
            "metadata": {},
            "outputs": [],
            "source": "train_rdd.count()"
        },
        {
            "cell_type": "code",
            "execution_count": null,
            "metadata": {},
            "outputs": [],
            "source": "test_rdd=sc.textFile(path+'/'+test_files[0])\ntest_rdd=test_rdd.map(lambda line:line.split(\" \"))"
        },
        {
            "cell_type": "code",
            "execution_count": null,
            "metadata": {},
            "outputs": [],
            "source": "test_rdd.count()"
        },
        {
            "cell_type": "code",
            "execution_count": null,
            "metadata": {},
            "outputs": [],
            "source": "header = [\"id\", \"cycle\", \"setting1\", \"setting2\", \"setting3\",\n                    \"s1\", \"s2\", \"s3\", \"s4\", \"s5\", \"s6\", \"s7\", \"s8\",\n                    \"s9\", \"s10\", \"s11\", \"s12\", \"s13\", \"s14\", \"s15\", \n                    \"s16\",\"s17\", \"s18\", \"s19\", \"s20\", \"s21\"]"
        },
        {
            "cell_type": "code",
            "execution_count": null,
            "metadata": {},
            "outputs": [],
            "source": "train_df=train_rdd.toDF(header)"
        },
        {
            "cell_type": "code",
            "execution_count": null,
            "metadata": {
                "scrolled": true
            },
            "outputs": [],
            "source": "train_df.collect()"
        },
        {
            "cell_type": "code",
            "execution_count": null,
            "metadata": {},
            "outputs": [],
            "source": "test_df=test_rdd.toDF(header)"
        },
        {
            "cell_type": "code",
            "execution_count": null,
            "metadata": {},
            "outputs": [],
            "source": "test_df.show()"
        },
        {
            "cell_type": "code",
            "execution_count": null,
            "metadata": {},
            "outputs": [],
            "source": "import pandas as pd\ntrain_pandas_df=train_df.toPandas()"
        },
        {
            "cell_type": "code",
            "execution_count": null,
            "metadata": {},
            "outputs": [],
            "source": "train_pandas_df.head()"
        },
        {
            "cell_type": "code",
            "execution_count": null,
            "metadata": {},
            "outputs": [],
            "source": "test_pandas_df=test_df.toPandas()\ntest_pandas_df.head()"
        },
        {
            "cell_type": "code",
            "execution_count": null,
            "metadata": {},
            "outputs": [],
            "source": "train_pandas_df.isnull().sum()\n"
        },
        {
            "cell_type": "code",
            "execution_count": null,
            "metadata": {},
            "outputs": [],
            "source": "train_df.na.drop()"
        },
        {
            "cell_type": "code",
            "execution_count": null,
            "metadata": {},
            "outputs": [],
            "source": "test_df.na.drop()"
        },
        {
            "cell_type": "code",
            "execution_count": null,
            "metadata": {},
            "outputs": [],
            "source": "train_pandas_df.dropna()"
        },
        {
            "cell_type": "code",
            "execution_count": null,
            "metadata": {},
            "outputs": [],
            "source": "df = train_df.withColumn('id', train_df['id'].cast(IntegerType()))"
        },
        {
            "cell_type": "code",
            "execution_count": null,
            "metadata": {},
            "outputs": [],
            "source": "df.collect()"
        },
        {
            "cell_type": "code",
            "execution_count": null,
            "metadata": {},
            "outputs": [],
            "source": "def set_type(df,intlist=[],doublelist=[]):\n    if len(intlist)>0:\n        for col in intlist:\n            df=df.withColumn(col,df[col].cast(IntegerType()))\n                             \n    if len(doublelist)>0:\n        for col in doublelist:\n            df=df.withColumn(col,df[col].cast(DoubleType()))\n    return df                            \n                             "
        },
        {
            "cell_type": "code",
            "execution_count": null,
            "metadata": {},
            "outputs": [],
            "source": "train_df.columns"
        },
        {
            "cell_type": "code",
            "execution_count": null,
            "metadata": {},
            "outputs": [],
            "source": "int_list = [\"id\", \"cycle\"]\ndouble_list= list(set(train_df.columns)-set(int_list) )\ndouble_list"
        },
        {
            "cell_type": "code",
            "execution_count": null,
            "metadata": {},
            "outputs": [],
            "source": "train_df=set_type(train_df,int_list,double_list)\ntest_df=set_type(test_df,int_list,double_list)"
        },
        {
            "cell_type": "code",
            "execution_count": null,
            "metadata": {},
            "outputs": [],
            "source": "train_df.columns"
        },
        {
            "cell_type": "code",
            "execution_count": null,
            "metadata": {},
            "outputs": [],
            "source": "test_df.schema"
        },
        {
            "cell_type": "code",
            "execution_count": null,
            "metadata": {},
            "outputs": [],
            "source": "train_df.schema"
        },
        {
            "cell_type": "code",
            "execution_count": null,
            "metadata": {},
            "outputs": [],
            "source": "print (\"For train data:\")\ntrain_df.groupBy('id').count().sort(F.col(\"count\")).show(1)\n"
        },
        {
            "cell_type": "code",
            "execution_count": null,
            "metadata": {},
            "outputs": [],
            "source": "train_df.groupBy('id').count().sort(F.col(\"count\")).show(1)"
        },
        {
            "cell_type": "code",
            "execution_count": null,
            "metadata": {},
            "outputs": [],
            "source": "train_df.groupBy('id').count().sort(F.col(\"count\").desc()).show(1)"
        },
        {
            "cell_type": "code",
            "execution_count": null,
            "metadata": {},
            "outputs": [],
            "source": "test_df.groupBy('id').count().show()"
        },
        {
            "cell_type": "code",
            "execution_count": null,
            "metadata": {},
            "outputs": [],
            "source": "train_df.toPandas().count()"
        },
        {
            "cell_type": "markdown",
            "metadata": {},
            "source": "# 2020-02-04"
        },
        {
            "cell_type": "code",
            "execution_count": null,
            "metadata": {},
            "outputs": [],
            "source": "rul=train_df.groupBy('id').agg({\"cycle\":\"max\"}).sort((\"id\"))"
        },
        {
            "cell_type": "code",
            "execution_count": null,
            "metadata": {},
            "outputs": [],
            "source": "type(rul)"
        },
        {
            "cell_type": "code",
            "execution_count": null,
            "metadata": {},
            "outputs": [],
            "source": "rul=rul.toDF('id','max')"
        },
        {
            "cell_type": "code",
            "execution_count": null,
            "metadata": {},
            "outputs": [],
            "source": "rul.show()"
        },
        {
            "cell_type": "code",
            "execution_count": null,
            "metadata": {},
            "outputs": [],
            "source": "temp_df=train_df.join(rul,on=['id'],how='left').toPandas()"
        },
        {
            "cell_type": "code",
            "execution_count": null,
            "metadata": {
                "scrolled": true
            },
            "outputs": [],
            "source": "temp_df.sort_values(by=[\"id\"])"
        },
        {
            "cell_type": "code",
            "execution_count": null,
            "metadata": {},
            "outputs": [],
            "source": "temp_df['RUL']=temp_df['max']-temp_df['cycle']"
        },
        {
            "cell_type": "code",
            "execution_count": null,
            "metadata": {},
            "outputs": [],
            "source": "temp_df.sort_values(by=[\"id\",\"cycle\"])"
        },
        {
            "cell_type": "code",
            "execution_count": 54,
            "metadata": {},
            "outputs": [],
            "source": "def add_rul_labelling(df,id,time):\n    rul=df.groupBy(id).agg({time:\"max\"}).sort('id')\n    rul=rul.toDF('id','max')\n    df=df.join(rul,on=['id'],how='left')\n    df=df.withColumn(\"rul\",df[\"max\"]-df[time])\n    return df"
        },
        {
            "cell_type": "code",
            "execution_count": 55,
            "metadata": {},
            "outputs": [],
            "source": "df=add_rul_labelling(train_df,\"id\",\"cycle\")"
        },
        {
            "cell_type": "code",
            "execution_count": 56,
            "metadata": {},
            "outputs": [
                {
                    "data": {
                        "text/html": "<div>\n<style scoped>\n    .dataframe tbody tr th:only-of-type {\n        vertical-align: middle;\n    }\n\n    .dataframe tbody tr th {\n        vertical-align: top;\n    }\n\n    .dataframe thead th {\n        text-align: right;\n    }\n</style>\n<table border=\"1\" class=\"dataframe\">\n  <thead>\n    <tr style=\"text-align: right;\">\n      <th></th>\n      <th>id</th>\n      <th>cycle</th>\n      <th>setting1</th>\n      <th>setting2</th>\n      <th>setting3</th>\n      <th>s1</th>\n      <th>s2</th>\n      <th>s3</th>\n      <th>s4</th>\n      <th>s5</th>\n      <th>...</th>\n      <th>s16</th>\n      <th>s17</th>\n      <th>s18</th>\n      <th>s19</th>\n      <th>s20</th>\n      <th>s21</th>\n      <th>_27</th>\n      <th>_28</th>\n      <th>max</th>\n      <th>rul</th>\n    </tr>\n  </thead>\n  <tbody>\n    <tr>\n      <th>0</th>\n      <td>31</td>\n      <td>1</td>\n      <td>-0.0009</td>\n      <td>-0.0000</td>\n      <td>100.0</td>\n      <td>518.67</td>\n      <td>642.32</td>\n      <td>1582.38</td>\n      <td>1393.03</td>\n      <td>14.62</td>\n      <td>...</td>\n      <td>0.03</td>\n      <td>392.0</td>\n      <td>2388.0</td>\n      <td>100.0</td>\n      <td>39.02</td>\n      <td>23.4287</td>\n      <td>None</td>\n      <td>None</td>\n      <td>234</td>\n      <td>233</td>\n    </tr>\n    <tr>\n      <th>1</th>\n      <td>31</td>\n      <td>2</td>\n      <td>-0.0005</td>\n      <td>-0.0003</td>\n      <td>100.0</td>\n      <td>518.67</td>\n      <td>642.49</td>\n      <td>1584.07</td>\n      <td>1394.01</td>\n      <td>14.62</td>\n      <td>...</td>\n      <td>0.03</td>\n      <td>393.0</td>\n      <td>2388.0</td>\n      <td>100.0</td>\n      <td>39.01</td>\n      <td>23.4805</td>\n      <td>None</td>\n      <td>None</td>\n      <td>234</td>\n      <td>232</td>\n    </tr>\n    <tr>\n      <th>2</th>\n      <td>31</td>\n      <td>3</td>\n      <td>0.0029</td>\n      <td>-0.0002</td>\n      <td>100.0</td>\n      <td>518.67</td>\n      <td>642.49</td>\n      <td>1585.07</td>\n      <td>1394.99</td>\n      <td>14.62</td>\n      <td>...</td>\n      <td>0.03</td>\n      <td>391.0</td>\n      <td>2388.0</td>\n      <td>100.0</td>\n      <td>39.05</td>\n      <td>23.3977</td>\n      <td>None</td>\n      <td>None</td>\n      <td>234</td>\n      <td>231</td>\n    </tr>\n    <tr>\n      <th>3</th>\n      <td>31</td>\n      <td>4</td>\n      <td>-0.0037</td>\n      <td>-0.0002</td>\n      <td>100.0</td>\n      <td>518.67</td>\n      <td>642.21</td>\n      <td>1572.40</td>\n      <td>1394.07</td>\n      <td>14.62</td>\n      <td>...</td>\n      <td>0.03</td>\n      <td>391.0</td>\n      <td>2388.0</td>\n      <td>100.0</td>\n      <td>39.02</td>\n      <td>23.3805</td>\n      <td>None</td>\n      <td>None</td>\n      <td>234</td>\n      <td>230</td>\n    </tr>\n    <tr>\n      <th>4</th>\n      <td>31</td>\n      <td>5</td>\n      <td>-0.0011</td>\n      <td>0.0005</td>\n      <td>100.0</td>\n      <td>518.67</td>\n      <td>641.84</td>\n      <td>1584.77</td>\n      <td>1396.82</td>\n      <td>14.62</td>\n      <td>...</td>\n      <td>0.03</td>\n      <td>393.0</td>\n      <td>2388.0</td>\n      <td>100.0</td>\n      <td>39.11</td>\n      <td>23.3663</td>\n      <td>None</td>\n      <td>None</td>\n      <td>234</td>\n      <td>229</td>\n    </tr>\n    <tr>\n      <th>5</th>\n      <td>31</td>\n      <td>6</td>\n      <td>-0.0003</td>\n      <td>-0.0003</td>\n      <td>100.0</td>\n      <td>518.67</td>\n      <td>642.48</td>\n      <td>1582.50</td>\n      <td>1398.27</td>\n      <td>14.62</td>\n      <td>...</td>\n      <td>0.03</td>\n      <td>391.0</td>\n      <td>2388.0</td>\n      <td>100.0</td>\n      <td>38.97</td>\n      <td>23.5206</td>\n      <td>None</td>\n      <td>None</td>\n      <td>234</td>\n      <td>228</td>\n    </tr>\n    <tr>\n      <th>6</th>\n      <td>31</td>\n      <td>7</td>\n      <td>-0.0031</td>\n      <td>0.0005</td>\n      <td>100.0</td>\n      <td>518.67</td>\n      <td>642.30</td>\n      <td>1584.57</td>\n      <td>1405.87</td>\n      <td>14.62</td>\n      <td>...</td>\n      <td>0.03</td>\n      <td>391.0</td>\n      <td>2388.0</td>\n      <td>100.0</td>\n      <td>39.10</td>\n      <td>23.3069</td>\n      <td>None</td>\n      <td>None</td>\n      <td>234</td>\n      <td>227</td>\n    </tr>\n    <tr>\n      <th>7</th>\n      <td>31</td>\n      <td>8</td>\n      <td>0.0032</td>\n      <td>-0.0002</td>\n      <td>100.0</td>\n      <td>518.67</td>\n      <td>642.32</td>\n      <td>1586.33</td>\n      <td>1401.08</td>\n      <td>14.62</td>\n      <td>...</td>\n      <td>0.03</td>\n      <td>391.0</td>\n      <td>2388.0</td>\n      <td>100.0</td>\n      <td>38.97</td>\n      <td>23.4163</td>\n      <td>None</td>\n      <td>None</td>\n      <td>234</td>\n      <td>226</td>\n    </tr>\n    <tr>\n      <th>8</th>\n      <td>31</td>\n      <td>9</td>\n      <td>0.0037</td>\n      <td>-0.0001</td>\n      <td>100.0</td>\n      <td>518.67</td>\n      <td>641.84</td>\n      <td>1585.09</td>\n      <td>1402.92</td>\n      <td>14.62</td>\n      <td>...</td>\n      <td>0.03</td>\n      <td>391.0</td>\n      <td>2388.0</td>\n      <td>100.0</td>\n      <td>38.90</td>\n      <td>23.4756</td>\n      <td>None</td>\n      <td>None</td>\n      <td>234</td>\n      <td>225</td>\n    </tr>\n    <tr>\n      <th>9</th>\n      <td>31</td>\n      <td>10</td>\n      <td>-0.0027</td>\n      <td>-0.0001</td>\n      <td>100.0</td>\n      <td>518.67</td>\n      <td>642.64</td>\n      <td>1595.07</td>\n      <td>1399.16</td>\n      <td>14.62</td>\n      <td>...</td>\n      <td>0.03</td>\n      <td>389.0</td>\n      <td>2388.0</td>\n      <td>100.0</td>\n      <td>39.12</td>\n      <td>23.4690</td>\n      <td>None</td>\n      <td>None</td>\n      <td>234</td>\n      <td>224</td>\n    </tr>\n    <tr>\n      <th>10</th>\n      <td>31</td>\n      <td>11</td>\n      <td>0.0013</td>\n      <td>0.0002</td>\n      <td>100.0</td>\n      <td>518.67</td>\n      <td>642.17</td>\n      <td>1579.12</td>\n      <td>1399.42</td>\n      <td>14.62</td>\n      <td>...</td>\n      <td>0.03</td>\n      <td>392.0</td>\n      <td>2388.0</td>\n      <td>100.0</td>\n      <td>39.12</td>\n      <td>23.4295</td>\n      <td>None</td>\n      <td>None</td>\n      <td>234</td>\n      <td>223</td>\n    </tr>\n    <tr>\n      <th>11</th>\n      <td>31</td>\n      <td>12</td>\n      <td>-0.0009</td>\n      <td>0.0003</td>\n      <td>100.0</td>\n      <td>518.67</td>\n      <td>642.18</td>\n      <td>1579.01</td>\n      <td>1394.44</td>\n      <td>14.62</td>\n      <td>...</td>\n      <td>0.03</td>\n      <td>390.0</td>\n      <td>2388.0</td>\n      <td>100.0</td>\n      <td>39.00</td>\n      <td>23.4151</td>\n      <td>None</td>\n      <td>None</td>\n      <td>234</td>\n      <td>222</td>\n    </tr>\n    <tr>\n      <th>12</th>\n      <td>31</td>\n      <td>13</td>\n      <td>0.0042</td>\n      <td>-0.0001</td>\n      <td>100.0</td>\n      <td>518.67</td>\n      <td>642.06</td>\n      <td>1581.71</td>\n      <td>1397.10</td>\n      <td>14.62</td>\n      <td>...</td>\n      <td>0.03</td>\n      <td>393.0</td>\n      <td>2388.0</td>\n      <td>100.0</td>\n      <td>38.89</td>\n      <td>23.5862</td>\n      <td>None</td>\n      <td>None</td>\n      <td>234</td>\n      <td>221</td>\n    </tr>\n    <tr>\n      <th>13</th>\n      <td>31</td>\n      <td>14</td>\n      <td>-0.0030</td>\n      <td>0.0001</td>\n      <td>100.0</td>\n      <td>518.67</td>\n      <td>641.66</td>\n      <td>1587.61</td>\n      <td>1398.61</td>\n      <td>14.62</td>\n      <td>...</td>\n      <td>0.03</td>\n      <td>391.0</td>\n      <td>2388.0</td>\n      <td>100.0</td>\n      <td>38.99</td>\n      <td>23.4726</td>\n      <td>None</td>\n      <td>None</td>\n      <td>234</td>\n      <td>220</td>\n    </tr>\n    <tr>\n      <th>14</th>\n      <td>31</td>\n      <td>15</td>\n      <td>0.0011</td>\n      <td>0.0001</td>\n      <td>100.0</td>\n      <td>518.67</td>\n      <td>642.49</td>\n      <td>1583.13</td>\n      <td>1391.64</td>\n      <td>14.62</td>\n      <td>...</td>\n      <td>0.03</td>\n      <td>392.0</td>\n      <td>2388.0</td>\n      <td>100.0</td>\n      <td>39.06</td>\n      <td>23.4839</td>\n      <td>None</td>\n      <td>None</td>\n      <td>234</td>\n      <td>219</td>\n    </tr>\n    <tr>\n      <th>15</th>\n      <td>31</td>\n      <td>16</td>\n      <td>0.0013</td>\n      <td>-0.0000</td>\n      <td>100.0</td>\n      <td>518.67</td>\n      <td>641.65</td>\n      <td>1585.84</td>\n      <td>1398.70</td>\n      <td>14.62</td>\n      <td>...</td>\n      <td>0.03</td>\n      <td>392.0</td>\n      <td>2388.0</td>\n      <td>100.0</td>\n      <td>38.94</td>\n      <td>23.3974</td>\n      <td>None</td>\n      <td>None</td>\n      <td>234</td>\n      <td>218</td>\n    </tr>\n    <tr>\n      <th>16</th>\n      <td>31</td>\n      <td>17</td>\n      <td>-0.0027</td>\n      <td>0.0005</td>\n      <td>100.0</td>\n      <td>518.67</td>\n      <td>642.13</td>\n      <td>1582.29</td>\n      <td>1401.29</td>\n      <td>14.62</td>\n      <td>...</td>\n      <td>0.03</td>\n      <td>392.0</td>\n      <td>2388.0</td>\n      <td>100.0</td>\n      <td>39.11</td>\n      <td>23.3932</td>\n      <td>None</td>\n      <td>None</td>\n      <td>234</td>\n      <td>217</td>\n    </tr>\n    <tr>\n      <th>17</th>\n      <td>31</td>\n      <td>18</td>\n      <td>0.0019</td>\n      <td>0.0004</td>\n      <td>100.0</td>\n      <td>518.67</td>\n      <td>641.76</td>\n      <td>1589.63</td>\n      <td>1392.85</td>\n      <td>14.62</td>\n      <td>...</td>\n      <td>0.03</td>\n      <td>393.0</td>\n      <td>2388.0</td>\n      <td>100.0</td>\n      <td>39.02</td>\n      <td>23.5791</td>\n      <td>None</td>\n      <td>None</td>\n      <td>234</td>\n      <td>216</td>\n    </tr>\n    <tr>\n      <th>18</th>\n      <td>31</td>\n      <td>19</td>\n      <td>-0.0011</td>\n      <td>0.0000</td>\n      <td>100.0</td>\n      <td>518.67</td>\n      <td>642.18</td>\n      <td>1587.07</td>\n      <td>1399.25</td>\n      <td>14.62</td>\n      <td>...</td>\n      <td>0.03</td>\n      <td>389.0</td>\n      <td>2388.0</td>\n      <td>100.0</td>\n      <td>39.03</td>\n      <td>23.4234</td>\n      <td>None</td>\n      <td>None</td>\n      <td>234</td>\n      <td>215</td>\n    </tr>\n    <tr>\n      <th>19</th>\n      <td>31</td>\n      <td>20</td>\n      <td>0.0009</td>\n      <td>-0.0003</td>\n      <td>100.0</td>\n      <td>518.67</td>\n      <td>642.16</td>\n      <td>1592.08</td>\n      <td>1397.95</td>\n      <td>14.62</td>\n      <td>...</td>\n      <td>0.03</td>\n      <td>393.0</td>\n      <td>2388.0</td>\n      <td>100.0</td>\n      <td>39.08</td>\n      <td>23.4760</td>\n      <td>None</td>\n      <td>None</td>\n      <td>234</td>\n      <td>214</td>\n    </tr>\n    <tr>\n      <th>20</th>\n      <td>31</td>\n      <td>21</td>\n      <td>-0.0041</td>\n      <td>-0.0003</td>\n      <td>100.0</td>\n      <td>518.67</td>\n      <td>642.43</td>\n      <td>1590.86</td>\n      <td>1405.43</td>\n      <td>14.62</td>\n      <td>...</td>\n      <td>0.03</td>\n      <td>392.0</td>\n      <td>2388.0</td>\n      <td>100.0</td>\n      <td>39.01</td>\n      <td>23.4254</td>\n      <td>None</td>\n      <td>None</td>\n      <td>234</td>\n      <td>213</td>\n    </tr>\n    <tr>\n      <th>21</th>\n      <td>31</td>\n      <td>22</td>\n      <td>-0.0000</td>\n      <td>0.0005</td>\n      <td>100.0</td>\n      <td>518.67</td>\n      <td>642.41</td>\n      <td>1585.30</td>\n      <td>1395.91</td>\n      <td>14.62</td>\n      <td>...</td>\n      <td>0.03</td>\n      <td>390.0</td>\n      <td>2388.0</td>\n      <td>100.0</td>\n      <td>39.07</td>\n      <td>23.3529</td>\n      <td>None</td>\n      <td>None</td>\n      <td>234</td>\n      <td>212</td>\n    </tr>\n    <tr>\n      <th>22</th>\n      <td>31</td>\n      <td>23</td>\n      <td>-0.0003</td>\n      <td>0.0001</td>\n      <td>100.0</td>\n      <td>518.67</td>\n      <td>642.13</td>\n      <td>1583.72</td>\n      <td>1398.73</td>\n      <td>14.62</td>\n      <td>...</td>\n      <td>0.03</td>\n      <td>392.0</td>\n      <td>2388.0</td>\n      <td>100.0</td>\n      <td>39.07</td>\n      <td>23.4756</td>\n      <td>None</td>\n      <td>None</td>\n      <td>234</td>\n      <td>211</td>\n    </tr>\n    <tr>\n      <th>23</th>\n      <td>31</td>\n      <td>24</td>\n      <td>-0.0009</td>\n      <td>0.0003</td>\n      <td>100.0</td>\n      <td>518.67</td>\n      <td>642.02</td>\n      <td>1583.53</td>\n      <td>1400.11</td>\n      <td>14.62</td>\n      <td>...</td>\n      <td>0.03</td>\n      <td>391.0</td>\n      <td>2388.0</td>\n      <td>100.0</td>\n      <td>39.05</td>\n      <td>23.4339</td>\n      <td>None</td>\n      <td>None</td>\n      <td>234</td>\n      <td>210</td>\n    </tr>\n    <tr>\n      <th>24</th>\n      <td>31</td>\n      <td>25</td>\n      <td>-0.0001</td>\n      <td>0.0003</td>\n      <td>100.0</td>\n      <td>518.67</td>\n      <td>641.81</td>\n      <td>1587.24</td>\n      <td>1395.24</td>\n      <td>14.62</td>\n      <td>...</td>\n      <td>0.03</td>\n      <td>392.0</td>\n      <td>2388.0</td>\n      <td>100.0</td>\n      <td>38.93</td>\n      <td>23.3552</td>\n      <td>None</td>\n      <td>None</td>\n      <td>234</td>\n      <td>209</td>\n    </tr>\n    <tr>\n      <th>25</th>\n      <td>31</td>\n      <td>26</td>\n      <td>-0.0034</td>\n      <td>0.0005</td>\n      <td>100.0</td>\n      <td>518.67</td>\n      <td>642.49</td>\n      <td>1588.89</td>\n      <td>1394.61</td>\n      <td>14.62</td>\n      <td>...</td>\n      <td>0.03</td>\n      <td>393.0</td>\n      <td>2388.0</td>\n      <td>100.0</td>\n      <td>38.83</td>\n      <td>23.4585</td>\n      <td>None</td>\n      <td>None</td>\n      <td>234</td>\n      <td>208</td>\n    </tr>\n    <tr>\n      <th>26</th>\n      <td>31</td>\n      <td>27</td>\n      <td>0.0007</td>\n      <td>0.0000</td>\n      <td>100.0</td>\n      <td>518.67</td>\n      <td>641.97</td>\n      <td>1586.29</td>\n      <td>1395.12</td>\n      <td>14.62</td>\n      <td>...</td>\n      <td>0.03</td>\n      <td>390.0</td>\n      <td>2388.0</td>\n      <td>100.0</td>\n      <td>38.92</td>\n      <td>23.3088</td>\n      <td>None</td>\n      <td>None</td>\n      <td>234</td>\n      <td>207</td>\n    </tr>\n    <tr>\n      <th>27</th>\n      <td>31</td>\n      <td>28</td>\n      <td>-0.0014</td>\n      <td>-0.0002</td>\n      <td>100.0</td>\n      <td>518.67</td>\n      <td>641.82</td>\n      <td>1584.33</td>\n      <td>1395.34</td>\n      <td>14.62</td>\n      <td>...</td>\n      <td>0.03</td>\n      <td>392.0</td>\n      <td>2388.0</td>\n      <td>100.0</td>\n      <td>38.99</td>\n      <td>23.3738</td>\n      <td>None</td>\n      <td>None</td>\n      <td>234</td>\n      <td>206</td>\n    </tr>\n    <tr>\n      <th>28</th>\n      <td>31</td>\n      <td>29</td>\n      <td>0.0015</td>\n      <td>0.0004</td>\n      <td>100.0</td>\n      <td>518.67</td>\n      <td>642.75</td>\n      <td>1582.95</td>\n      <td>1397.95</td>\n      <td>14.62</td>\n      <td>...</td>\n      <td>0.03</td>\n      <td>390.0</td>\n      <td>2388.0</td>\n      <td>100.0</td>\n      <td>39.13</td>\n      <td>23.4073</td>\n      <td>None</td>\n      <td>None</td>\n      <td>234</td>\n      <td>205</td>\n    </tr>\n    <tr>\n      <th>29</th>\n      <td>31</td>\n      <td>30</td>\n      <td>0.0012</td>\n      <td>0.0003</td>\n      <td>100.0</td>\n      <td>518.67</td>\n      <td>642.43</td>\n      <td>1584.37</td>\n      <td>1402.39</td>\n      <td>14.62</td>\n      <td>...</td>\n      <td>0.03</td>\n      <td>391.0</td>\n      <td>2388.0</td>\n      <td>100.0</td>\n      <td>38.82</td>\n      <td>23.2630</td>\n      <td>None</td>\n      <td>None</td>\n      <td>234</td>\n      <td>204</td>\n    </tr>\n    <tr>\n      <th>...</th>\n      <td>...</td>\n      <td>...</td>\n      <td>...</td>\n      <td>...</td>\n      <td>...</td>\n      <td>...</td>\n      <td>...</td>\n      <td>...</td>\n      <td>...</td>\n      <td>...</td>\n      <td>...</td>\n      <td>...</td>\n      <td>...</td>\n      <td>...</td>\n      <td>...</td>\n      <td>...</td>\n      <td>...</td>\n      <td>...</td>\n      <td>...</td>\n      <td>...</td>\n      <td>...</td>\n    </tr>\n    <tr>\n      <th>20601</th>\n      <td>89</td>\n      <td>188</td>\n      <td>-0.0026</td>\n      <td>-0.0003</td>\n      <td>100.0</td>\n      <td>518.67</td>\n      <td>643.30</td>\n      <td>1604.83</td>\n      <td>1411.74</td>\n      <td>14.62</td>\n      <td>...</td>\n      <td>0.03</td>\n      <td>394.0</td>\n      <td>2388.0</td>\n      <td>100.0</td>\n      <td>38.68</td>\n      <td>23.1693</td>\n      <td>None</td>\n      <td>None</td>\n      <td>217</td>\n      <td>29</td>\n    </tr>\n    <tr>\n      <th>20602</th>\n      <td>89</td>\n      <td>189</td>\n      <td>-0.0004</td>\n      <td>0.0002</td>\n      <td>100.0</td>\n      <td>518.67</td>\n      <td>643.10</td>\n      <td>1584.40</td>\n      <td>1415.77</td>\n      <td>14.62</td>\n      <td>...</td>\n      <td>0.03</td>\n      <td>394.0</td>\n      <td>2388.0</td>\n      <td>100.0</td>\n      <td>38.68</td>\n      <td>23.1862</td>\n      <td>None</td>\n      <td>None</td>\n      <td>217</td>\n      <td>28</td>\n    </tr>\n    <tr>\n      <th>20603</th>\n      <td>89</td>\n      <td>190</td>\n      <td>0.0009</td>\n      <td>0.0003</td>\n      <td>100.0</td>\n      <td>518.67</td>\n      <td>642.89</td>\n      <td>1594.55</td>\n      <td>1420.09</td>\n      <td>14.62</td>\n      <td>...</td>\n      <td>0.03</td>\n      <td>394.0</td>\n      <td>2388.0</td>\n      <td>100.0</td>\n      <td>38.59</td>\n      <td>23.1022</td>\n      <td>None</td>\n      <td>None</td>\n      <td>217</td>\n      <td>27</td>\n    </tr>\n    <tr>\n      <th>20604</th>\n      <td>89</td>\n      <td>191</td>\n      <td>0.0043</td>\n      <td>-0.0001</td>\n      <td>100.0</td>\n      <td>518.67</td>\n      <td>643.40</td>\n      <td>1595.43</td>\n      <td>1412.10</td>\n      <td>14.62</td>\n      <td>...</td>\n      <td>0.03</td>\n      <td>393.0</td>\n      <td>2388.0</td>\n      <td>100.0</td>\n      <td>38.58</td>\n      <td>23.1726</td>\n      <td>None</td>\n      <td>None</td>\n      <td>217</td>\n      <td>26</td>\n    </tr>\n    <tr>\n      <th>20605</th>\n      <td>89</td>\n      <td>192</td>\n      <td>-0.0025</td>\n      <td>-0.0001</td>\n      <td>100.0</td>\n      <td>518.67</td>\n      <td>642.84</td>\n      <td>1597.03</td>\n      <td>1420.85</td>\n      <td>14.62</td>\n      <td>...</td>\n      <td>0.03</td>\n      <td>395.0</td>\n      <td>2388.0</td>\n      <td>100.0</td>\n      <td>38.79</td>\n      <td>23.2304</td>\n      <td>None</td>\n      <td>None</td>\n      <td>217</td>\n      <td>25</td>\n    </tr>\n    <tr>\n      <th>20606</th>\n      <td>89</td>\n      <td>193</td>\n      <td>-0.0020</td>\n      <td>-0.0005</td>\n      <td>100.0</td>\n      <td>518.67</td>\n      <td>643.29</td>\n      <td>1593.05</td>\n      <td>1416.22</td>\n      <td>14.62</td>\n      <td>...</td>\n      <td>0.03</td>\n      <td>394.0</td>\n      <td>2388.0</td>\n      <td>100.0</td>\n      <td>38.56</td>\n      <td>23.2332</td>\n      <td>None</td>\n      <td>None</td>\n      <td>217</td>\n      <td>24</td>\n    </tr>\n    <tr>\n      <th>20607</th>\n      <td>89</td>\n      <td>194</td>\n      <td>0.0012</td>\n      <td>-0.0001</td>\n      <td>100.0</td>\n      <td>518.67</td>\n      <td>643.36</td>\n      <td>1588.51</td>\n      <td>1413.85</td>\n      <td>14.62</td>\n      <td>...</td>\n      <td>0.03</td>\n      <td>394.0</td>\n      <td>2388.0</td>\n      <td>100.0</td>\n      <td>38.50</td>\n      <td>23.0612</td>\n      <td>None</td>\n      <td>None</td>\n      <td>217</td>\n      <td>23</td>\n    </tr>\n    <tr>\n      <th>20608</th>\n      <td>89</td>\n      <td>195</td>\n      <td>-0.0012</td>\n      <td>0.0004</td>\n      <td>100.0</td>\n      <td>518.67</td>\n      <td>643.12</td>\n      <td>1600.09</td>\n      <td>1419.15</td>\n      <td>14.62</td>\n      <td>...</td>\n      <td>0.03</td>\n      <td>396.0</td>\n      <td>2388.0</td>\n      <td>100.0</td>\n      <td>38.52</td>\n      <td>23.1635</td>\n      <td>None</td>\n      <td>None</td>\n      <td>217</td>\n      <td>22</td>\n    </tr>\n    <tr>\n      <th>20609</th>\n      <td>89</td>\n      <td>196</td>\n      <td>-0.0021</td>\n      <td>-0.0000</td>\n      <td>100.0</td>\n      <td>518.67</td>\n      <td>643.52</td>\n      <td>1596.30</td>\n      <td>1421.22</td>\n      <td>14.62</td>\n      <td>...</td>\n      <td>0.03</td>\n      <td>394.0</td>\n      <td>2388.0</td>\n      <td>100.0</td>\n      <td>38.49</td>\n      <td>23.1272</td>\n      <td>None</td>\n      <td>None</td>\n      <td>217</td>\n      <td>21</td>\n    </tr>\n    <tr>\n      <th>20610</th>\n      <td>89</td>\n      <td>197</td>\n      <td>-0.0012</td>\n      <td>0.0004</td>\n      <td>100.0</td>\n      <td>518.67</td>\n      <td>643.30</td>\n      <td>1600.02</td>\n      <td>1421.18</td>\n      <td>14.62</td>\n      <td>...</td>\n      <td>0.03</td>\n      <td>395.0</td>\n      <td>2388.0</td>\n      <td>100.0</td>\n      <td>38.72</td>\n      <td>23.1597</td>\n      <td>None</td>\n      <td>None</td>\n      <td>217</td>\n      <td>20</td>\n    </tr>\n    <tr>\n      <th>20611</th>\n      <td>89</td>\n      <td>198</td>\n      <td>0.0004</td>\n      <td>0.0000</td>\n      <td>100.0</td>\n      <td>518.67</td>\n      <td>642.86</td>\n      <td>1604.79</td>\n      <td>1424.43</td>\n      <td>14.62</td>\n      <td>...</td>\n      <td>0.03</td>\n      <td>395.0</td>\n      <td>2388.0</td>\n      <td>100.0</td>\n      <td>38.71</td>\n      <td>23.1306</td>\n      <td>None</td>\n      <td>None</td>\n      <td>217</td>\n      <td>19</td>\n    </tr>\n    <tr>\n      <th>20612</th>\n      <td>89</td>\n      <td>199</td>\n      <td>-0.0012</td>\n      <td>-0.0005</td>\n      <td>100.0</td>\n      <td>518.67</td>\n      <td>643.36</td>\n      <td>1600.86</td>\n      <td>1421.55</td>\n      <td>14.62</td>\n      <td>...</td>\n      <td>0.03</td>\n      <td>394.0</td>\n      <td>2388.0</td>\n      <td>100.0</td>\n      <td>38.51</td>\n      <td>23.1787</td>\n      <td>None</td>\n      <td>None</td>\n      <td>217</td>\n      <td>18</td>\n    </tr>\n    <tr>\n      <th>20613</th>\n      <td>89</td>\n      <td>200</td>\n      <td>0.0024</td>\n      <td>-0.0002</td>\n      <td>100.0</td>\n      <td>518.67</td>\n      <td>643.68</td>\n      <td>1596.87</td>\n      <td>1430.57</td>\n      <td>14.62</td>\n      <td>...</td>\n      <td>0.03</td>\n      <td>395.0</td>\n      <td>2388.0</td>\n      <td>100.0</td>\n      <td>38.53</td>\n      <td>23.1410</td>\n      <td>None</td>\n      <td>None</td>\n      <td>217</td>\n      <td>17</td>\n    </tr>\n    <tr>\n      <th>20614</th>\n      <td>89</td>\n      <td>201</td>\n      <td>-0.0064</td>\n      <td>0.0004</td>\n      <td>100.0</td>\n      <td>518.67</td>\n      <td>643.13</td>\n      <td>1596.76</td>\n      <td>1419.00</td>\n      <td>14.62</td>\n      <td>...</td>\n      <td>0.03</td>\n      <td>396.0</td>\n      <td>2388.0</td>\n      <td>100.0</td>\n      <td>38.46</td>\n      <td>23.2566</td>\n      <td>None</td>\n      <td>None</td>\n      <td>217</td>\n      <td>16</td>\n    </tr>\n    <tr>\n      <th>20615</th>\n      <td>89</td>\n      <td>202</td>\n      <td>-0.0017</td>\n      <td>-0.0003</td>\n      <td>100.0</td>\n      <td>518.67</td>\n      <td>643.35</td>\n      <td>1606.57</td>\n      <td>1428.24</td>\n      <td>14.62</td>\n      <td>...</td>\n      <td>0.03</td>\n      <td>397.0</td>\n      <td>2388.0</td>\n      <td>100.0</td>\n      <td>38.64</td>\n      <td>23.1472</td>\n      <td>None</td>\n      <td>None</td>\n      <td>217</td>\n      <td>15</td>\n    </tr>\n    <tr>\n      <th>20616</th>\n      <td>89</td>\n      <td>203</td>\n      <td>0.0014</td>\n      <td>-0.0001</td>\n      <td>100.0</td>\n      <td>518.67</td>\n      <td>644.08</td>\n      <td>1600.49</td>\n      <td>1424.47</td>\n      <td>14.62</td>\n      <td>...</td>\n      <td>0.03</td>\n      <td>395.0</td>\n      <td>2388.0</td>\n      <td>100.0</td>\n      <td>38.58</td>\n      <td>23.0807</td>\n      <td>None</td>\n      <td>None</td>\n      <td>217</td>\n      <td>14</td>\n    </tr>\n    <tr>\n      <th>20617</th>\n      <td>89</td>\n      <td>204</td>\n      <td>0.0010</td>\n      <td>-0.0004</td>\n      <td>100.0</td>\n      <td>518.67</td>\n      <td>644.18</td>\n      <td>1601.77</td>\n      <td>1421.70</td>\n      <td>14.62</td>\n      <td>...</td>\n      <td>0.03</td>\n      <td>395.0</td>\n      <td>2388.0</td>\n      <td>100.0</td>\n      <td>38.48</td>\n      <td>23.1124</td>\n      <td>None</td>\n      <td>None</td>\n      <td>217</td>\n      <td>13</td>\n    </tr>\n    <tr>\n      <th>20618</th>\n      <td>89</td>\n      <td>205</td>\n      <td>0.0028</td>\n      <td>0.0003</td>\n      <td>100.0</td>\n      <td>518.67</td>\n      <td>643.08</td>\n      <td>1591.69</td>\n      <td>1420.89</td>\n      <td>14.62</td>\n      <td>...</td>\n      <td>0.03</td>\n      <td>396.0</td>\n      <td>2388.0</td>\n      <td>100.0</td>\n      <td>38.45</td>\n      <td>23.1243</td>\n      <td>None</td>\n      <td>None</td>\n      <td>217</td>\n      <td>12</td>\n    </tr>\n    <tr>\n      <th>20619</th>\n      <td>89</td>\n      <td>206</td>\n      <td>0.0004</td>\n      <td>-0.0003</td>\n      <td>100.0</td>\n      <td>518.67</td>\n      <td>643.32</td>\n      <td>1597.98</td>\n      <td>1421.76</td>\n      <td>14.62</td>\n      <td>...</td>\n      <td>0.03</td>\n      <td>397.0</td>\n      <td>2388.0</td>\n      <td>100.0</td>\n      <td>38.52</td>\n      <td>23.0154</td>\n      <td>None</td>\n      <td>None</td>\n      <td>217</td>\n      <td>11</td>\n    </tr>\n    <tr>\n      <th>20620</th>\n      <td>89</td>\n      <td>207</td>\n      <td>-0.0011</td>\n      <td>-0.0001</td>\n      <td>100.0</td>\n      <td>518.67</td>\n      <td>643.46</td>\n      <td>1606.50</td>\n      <td>1428.42</td>\n      <td>14.62</td>\n      <td>...</td>\n      <td>0.03</td>\n      <td>397.0</td>\n      <td>2388.0</td>\n      <td>100.0</td>\n      <td>38.32</td>\n      <td>23.0773</td>\n      <td>None</td>\n      <td>None</td>\n      <td>217</td>\n      <td>10</td>\n    </tr>\n    <tr>\n      <th>20621</th>\n      <td>89</td>\n      <td>208</td>\n      <td>-0.0019</td>\n      <td>-0.0002</td>\n      <td>100.0</td>\n      <td>518.67</td>\n      <td>643.47</td>\n      <td>1596.54</td>\n      <td>1422.41</td>\n      <td>14.62</td>\n      <td>...</td>\n      <td>0.03</td>\n      <td>395.0</td>\n      <td>2388.0</td>\n      <td>100.0</td>\n      <td>38.55</td>\n      <td>23.0596</td>\n      <td>None</td>\n      <td>None</td>\n      <td>217</td>\n      <td>9</td>\n    </tr>\n    <tr>\n      <th>20622</th>\n      <td>89</td>\n      <td>209</td>\n      <td>0.0020</td>\n      <td>0.0003</td>\n      <td>100.0</td>\n      <td>518.67</td>\n      <td>643.70</td>\n      <td>1605.06</td>\n      <td>1430.72</td>\n      <td>14.62</td>\n      <td>...</td>\n      <td>0.03</td>\n      <td>395.0</td>\n      <td>2388.0</td>\n      <td>100.0</td>\n      <td>38.66</td>\n      <td>23.2052</td>\n      <td>None</td>\n      <td>None</td>\n      <td>217</td>\n      <td>8</td>\n    </tr>\n    <tr>\n      <th>20623</th>\n      <td>89</td>\n      <td>210</td>\n      <td>0.0023</td>\n      <td>0.0002</td>\n      <td>100.0</td>\n      <td>518.67</td>\n      <td>643.44</td>\n      <td>1599.78</td>\n      <td>1430.95</td>\n      <td>14.62</td>\n      <td>...</td>\n      <td>0.03</td>\n      <td>395.0</td>\n      <td>2388.0</td>\n      <td>100.0</td>\n      <td>38.46</td>\n      <td>23.0903</td>\n      <td>None</td>\n      <td>None</td>\n      <td>217</td>\n      <td>7</td>\n    </tr>\n    <tr>\n      <th>20624</th>\n      <td>89</td>\n      <td>211</td>\n      <td>0.0017</td>\n      <td>0.0002</td>\n      <td>100.0</td>\n      <td>518.67</td>\n      <td>643.33</td>\n      <td>1599.81</td>\n      <td>1429.88</td>\n      <td>14.62</td>\n      <td>...</td>\n      <td>0.03</td>\n      <td>396.0</td>\n      <td>2388.0</td>\n      <td>100.0</td>\n      <td>38.48</td>\n      <td>23.0963</td>\n      <td>None</td>\n      <td>None</td>\n      <td>217</td>\n      <td>6</td>\n    </tr>\n    <tr>\n      <th>20625</th>\n      <td>89</td>\n      <td>212</td>\n      <td>0.0003</td>\n      <td>0.0002</td>\n      <td>100.0</td>\n      <td>518.67</td>\n      <td>643.21</td>\n      <td>1598.68</td>\n      <td>1432.50</td>\n      <td>14.62</td>\n      <td>...</td>\n      <td>0.03</td>\n      <td>396.0</td>\n      <td>2388.0</td>\n      <td>100.0</td>\n      <td>38.38</td>\n      <td>23.0103</td>\n      <td>None</td>\n      <td>None</td>\n      <td>217</td>\n      <td>5</td>\n    </tr>\n    <tr>\n      <th>20626</th>\n      <td>89</td>\n      <td>213</td>\n      <td>0.0001</td>\n      <td>-0.0003</td>\n      <td>100.0</td>\n      <td>518.67</td>\n      <td>643.49</td>\n      <td>1604.45</td>\n      <td>1426.52</td>\n      <td>14.62</td>\n      <td>...</td>\n      <td>0.03</td>\n      <td>397.0</td>\n      <td>2388.0</td>\n      <td>100.0</td>\n      <td>38.25</td>\n      <td>23.1600</td>\n      <td>None</td>\n      <td>None</td>\n      <td>217</td>\n      <td>4</td>\n    </tr>\n    <tr>\n      <th>20627</th>\n      <td>89</td>\n      <td>214</td>\n      <td>0.0008</td>\n      <td>0.0003</td>\n      <td>100.0</td>\n      <td>518.67</td>\n      <td>643.24</td>\n      <td>1596.72</td>\n      <td>1426.05</td>\n      <td>14.62</td>\n      <td>...</td>\n      <td>0.03</td>\n      <td>396.0</td>\n      <td>2388.0</td>\n      <td>100.0</td>\n      <td>38.54</td>\n      <td>23.1833</td>\n      <td>None</td>\n      <td>None</td>\n      <td>217</td>\n      <td>3</td>\n    </tr>\n    <tr>\n      <th>20628</th>\n      <td>89</td>\n      <td>215</td>\n      <td>0.0018</td>\n      <td>0.0000</td>\n      <td>100.0</td>\n      <td>518.67</td>\n      <td>643.39</td>\n      <td>1603.19</td>\n      <td>1430.73</td>\n      <td>14.62</td>\n      <td>...</td>\n      <td>0.03</td>\n      <td>396.0</td>\n      <td>2388.0</td>\n      <td>100.0</td>\n      <td>38.30</td>\n      <td>23.0166</td>\n      <td>None</td>\n      <td>None</td>\n      <td>217</td>\n      <td>2</td>\n    </tr>\n    <tr>\n      <th>20629</th>\n      <td>89</td>\n      <td>216</td>\n      <td>0.0004</td>\n      <td>0.0001</td>\n      <td>100.0</td>\n      <td>518.67</td>\n      <td>643.60</td>\n      <td>1604.76</td>\n      <td>1427.66</td>\n      <td>14.62</td>\n      <td>...</td>\n      <td>0.03</td>\n      <td>395.0</td>\n      <td>2388.0</td>\n      <td>100.0</td>\n      <td>38.36</td>\n      <td>23.0164</td>\n      <td>None</td>\n      <td>None</td>\n      <td>217</td>\n      <td>1</td>\n    </tr>\n    <tr>\n      <th>20630</th>\n      <td>89</td>\n      <td>217</td>\n      <td>0.0060</td>\n      <td>-0.0002</td>\n      <td>100.0</td>\n      <td>518.67</td>\n      <td>643.18</td>\n      <td>1603.61</td>\n      <td>1431.32</td>\n      <td>14.62</td>\n      <td>...</td>\n      <td>0.03</td>\n      <td>397.0</td>\n      <td>2388.0</td>\n      <td>100.0</td>\n      <td>38.19</td>\n      <td>23.0900</td>\n      <td>None</td>\n      <td>None</td>\n      <td>217</td>\n      <td>0</td>\n    </tr>\n  </tbody>\n</table>\n<p>20631 rows \u00d7 30 columns</p>\n</div>",
                        "text/plain": "       id  cycle  setting1  setting2  setting3      s1      s2       s3  \\\n0      31      1   -0.0009   -0.0000     100.0  518.67  642.32  1582.38   \n1      31      2   -0.0005   -0.0003     100.0  518.67  642.49  1584.07   \n2      31      3    0.0029   -0.0002     100.0  518.67  642.49  1585.07   \n3      31      4   -0.0037   -0.0002     100.0  518.67  642.21  1572.40   \n4      31      5   -0.0011    0.0005     100.0  518.67  641.84  1584.77   \n5      31      6   -0.0003   -0.0003     100.0  518.67  642.48  1582.50   \n6      31      7   -0.0031    0.0005     100.0  518.67  642.30  1584.57   \n7      31      8    0.0032   -0.0002     100.0  518.67  642.32  1586.33   \n8      31      9    0.0037   -0.0001     100.0  518.67  641.84  1585.09   \n9      31     10   -0.0027   -0.0001     100.0  518.67  642.64  1595.07   \n10     31     11    0.0013    0.0002     100.0  518.67  642.17  1579.12   \n11     31     12   -0.0009    0.0003     100.0  518.67  642.18  1579.01   \n12     31     13    0.0042   -0.0001     100.0  518.67  642.06  1581.71   \n13     31     14   -0.0030    0.0001     100.0  518.67  641.66  1587.61   \n14     31     15    0.0011    0.0001     100.0  518.67  642.49  1583.13   \n15     31     16    0.0013   -0.0000     100.0  518.67  641.65  1585.84   \n16     31     17   -0.0027    0.0005     100.0  518.67  642.13  1582.29   \n17     31     18    0.0019    0.0004     100.0  518.67  641.76  1589.63   \n18     31     19   -0.0011    0.0000     100.0  518.67  642.18  1587.07   \n19     31     20    0.0009   -0.0003     100.0  518.67  642.16  1592.08   \n20     31     21   -0.0041   -0.0003     100.0  518.67  642.43  1590.86   \n21     31     22   -0.0000    0.0005     100.0  518.67  642.41  1585.30   \n22     31     23   -0.0003    0.0001     100.0  518.67  642.13  1583.72   \n23     31     24   -0.0009    0.0003     100.0  518.67  642.02  1583.53   \n24     31     25   -0.0001    0.0003     100.0  518.67  641.81  1587.24   \n25     31     26   -0.0034    0.0005     100.0  518.67  642.49  1588.89   \n26     31     27    0.0007    0.0000     100.0  518.67  641.97  1586.29   \n27     31     28   -0.0014   -0.0002     100.0  518.67  641.82  1584.33   \n28     31     29    0.0015    0.0004     100.0  518.67  642.75  1582.95   \n29     31     30    0.0012    0.0003     100.0  518.67  642.43  1584.37   \n...    ..    ...       ...       ...       ...     ...     ...      ...   \n20601  89    188   -0.0026   -0.0003     100.0  518.67  643.30  1604.83   \n20602  89    189   -0.0004    0.0002     100.0  518.67  643.10  1584.40   \n20603  89    190    0.0009    0.0003     100.0  518.67  642.89  1594.55   \n20604  89    191    0.0043   -0.0001     100.0  518.67  643.40  1595.43   \n20605  89    192   -0.0025   -0.0001     100.0  518.67  642.84  1597.03   \n20606  89    193   -0.0020   -0.0005     100.0  518.67  643.29  1593.05   \n20607  89    194    0.0012   -0.0001     100.0  518.67  643.36  1588.51   \n20608  89    195   -0.0012    0.0004     100.0  518.67  643.12  1600.09   \n20609  89    196   -0.0021   -0.0000     100.0  518.67  643.52  1596.30   \n20610  89    197   -0.0012    0.0004     100.0  518.67  643.30  1600.02   \n20611  89    198    0.0004    0.0000     100.0  518.67  642.86  1604.79   \n20612  89    199   -0.0012   -0.0005     100.0  518.67  643.36  1600.86   \n20613  89    200    0.0024   -0.0002     100.0  518.67  643.68  1596.87   \n20614  89    201   -0.0064    0.0004     100.0  518.67  643.13  1596.76   \n20615  89    202   -0.0017   -0.0003     100.0  518.67  643.35  1606.57   \n20616  89    203    0.0014   -0.0001     100.0  518.67  644.08  1600.49   \n20617  89    204    0.0010   -0.0004     100.0  518.67  644.18  1601.77   \n20618  89    205    0.0028    0.0003     100.0  518.67  643.08  1591.69   \n20619  89    206    0.0004   -0.0003     100.0  518.67  643.32  1597.98   \n20620  89    207   -0.0011   -0.0001     100.0  518.67  643.46  1606.50   \n20621  89    208   -0.0019   -0.0002     100.0  518.67  643.47  1596.54   \n20622  89    209    0.0020    0.0003     100.0  518.67  643.70  1605.06   \n20623  89    210    0.0023    0.0002     100.0  518.67  643.44  1599.78   \n20624  89    211    0.0017    0.0002     100.0  518.67  643.33  1599.81   \n20625  89    212    0.0003    0.0002     100.0  518.67  643.21  1598.68   \n20626  89    213    0.0001   -0.0003     100.0  518.67  643.49  1604.45   \n20627  89    214    0.0008    0.0003     100.0  518.67  643.24  1596.72   \n20628  89    215    0.0018    0.0000     100.0  518.67  643.39  1603.19   \n20629  89    216    0.0004    0.0001     100.0  518.67  643.60  1604.76   \n20630  89    217    0.0060   -0.0002     100.0  518.67  643.18  1603.61   \n\n            s4     s5  ...   s16    s17     s18    s19    s20      s21   _27  \\\n0      1393.03  14.62  ...  0.03  392.0  2388.0  100.0  39.02  23.4287  None   \n1      1394.01  14.62  ...  0.03  393.0  2388.0  100.0  39.01  23.4805  None   \n2      1394.99  14.62  ...  0.03  391.0  2388.0  100.0  39.05  23.3977  None   \n3      1394.07  14.62  ...  0.03  391.0  2388.0  100.0  39.02  23.3805  None   \n4      1396.82  14.62  ...  0.03  393.0  2388.0  100.0  39.11  23.3663  None   \n5      1398.27  14.62  ...  0.03  391.0  2388.0  100.0  38.97  23.5206  None   \n6      1405.87  14.62  ...  0.03  391.0  2388.0  100.0  39.10  23.3069  None   \n7      1401.08  14.62  ...  0.03  391.0  2388.0  100.0  38.97  23.4163  None   \n8      1402.92  14.62  ...  0.03  391.0  2388.0  100.0  38.90  23.4756  None   \n9      1399.16  14.62  ...  0.03  389.0  2388.0  100.0  39.12  23.4690  None   \n10     1399.42  14.62  ...  0.03  392.0  2388.0  100.0  39.12  23.4295  None   \n11     1394.44  14.62  ...  0.03  390.0  2388.0  100.0  39.00  23.4151  None   \n12     1397.10  14.62  ...  0.03  393.0  2388.0  100.0  38.89  23.5862  None   \n13     1398.61  14.62  ...  0.03  391.0  2388.0  100.0  38.99  23.4726  None   \n14     1391.64  14.62  ...  0.03  392.0  2388.0  100.0  39.06  23.4839  None   \n15     1398.70  14.62  ...  0.03  392.0  2388.0  100.0  38.94  23.3974  None   \n16     1401.29  14.62  ...  0.03  392.0  2388.0  100.0  39.11  23.3932  None   \n17     1392.85  14.62  ...  0.03  393.0  2388.0  100.0  39.02  23.5791  None   \n18     1399.25  14.62  ...  0.03  389.0  2388.0  100.0  39.03  23.4234  None   \n19     1397.95  14.62  ...  0.03  393.0  2388.0  100.0  39.08  23.4760  None   \n20     1405.43  14.62  ...  0.03  392.0  2388.0  100.0  39.01  23.4254  None   \n21     1395.91  14.62  ...  0.03  390.0  2388.0  100.0  39.07  23.3529  None   \n22     1398.73  14.62  ...  0.03  392.0  2388.0  100.0  39.07  23.4756  None   \n23     1400.11  14.62  ...  0.03  391.0  2388.0  100.0  39.05  23.4339  None   \n24     1395.24  14.62  ...  0.03  392.0  2388.0  100.0  38.93  23.3552  None   \n25     1394.61  14.62  ...  0.03  393.0  2388.0  100.0  38.83  23.4585  None   \n26     1395.12  14.62  ...  0.03  390.0  2388.0  100.0  38.92  23.3088  None   \n27     1395.34  14.62  ...  0.03  392.0  2388.0  100.0  38.99  23.3738  None   \n28     1397.95  14.62  ...  0.03  390.0  2388.0  100.0  39.13  23.4073  None   \n29     1402.39  14.62  ...  0.03  391.0  2388.0  100.0  38.82  23.2630  None   \n...        ...    ...  ...   ...    ...     ...    ...    ...      ...   ...   \n20601  1411.74  14.62  ...  0.03  394.0  2388.0  100.0  38.68  23.1693  None   \n20602  1415.77  14.62  ...  0.03  394.0  2388.0  100.0  38.68  23.1862  None   \n20603  1420.09  14.62  ...  0.03  394.0  2388.0  100.0  38.59  23.1022  None   \n20604  1412.10  14.62  ...  0.03  393.0  2388.0  100.0  38.58  23.1726  None   \n20605  1420.85  14.62  ...  0.03  395.0  2388.0  100.0  38.79  23.2304  None   \n20606  1416.22  14.62  ...  0.03  394.0  2388.0  100.0  38.56  23.2332  None   \n20607  1413.85  14.62  ...  0.03  394.0  2388.0  100.0  38.50  23.0612  None   \n20608  1419.15  14.62  ...  0.03  396.0  2388.0  100.0  38.52  23.1635  None   \n20609  1421.22  14.62  ...  0.03  394.0  2388.0  100.0  38.49  23.1272  None   \n20610  1421.18  14.62  ...  0.03  395.0  2388.0  100.0  38.72  23.1597  None   \n20611  1424.43  14.62  ...  0.03  395.0  2388.0  100.0  38.71  23.1306  None   \n20612  1421.55  14.62  ...  0.03  394.0  2388.0  100.0  38.51  23.1787  None   \n20613  1430.57  14.62  ...  0.03  395.0  2388.0  100.0  38.53  23.1410  None   \n20614  1419.00  14.62  ...  0.03  396.0  2388.0  100.0  38.46  23.2566  None   \n20615  1428.24  14.62  ...  0.03  397.0  2388.0  100.0  38.64  23.1472  None   \n20616  1424.47  14.62  ...  0.03  395.0  2388.0  100.0  38.58  23.0807  None   \n20617  1421.70  14.62  ...  0.03  395.0  2388.0  100.0  38.48  23.1124  None   \n20618  1420.89  14.62  ...  0.03  396.0  2388.0  100.0  38.45  23.1243  None   \n20619  1421.76  14.62  ...  0.03  397.0  2388.0  100.0  38.52  23.0154  None   \n20620  1428.42  14.62  ...  0.03  397.0  2388.0  100.0  38.32  23.0773  None   \n20621  1422.41  14.62  ...  0.03  395.0  2388.0  100.0  38.55  23.0596  None   \n20622  1430.72  14.62  ...  0.03  395.0  2388.0  100.0  38.66  23.2052  None   \n20623  1430.95  14.62  ...  0.03  395.0  2388.0  100.0  38.46  23.0903  None   \n20624  1429.88  14.62  ...  0.03  396.0  2388.0  100.0  38.48  23.0963  None   \n20625  1432.50  14.62  ...  0.03  396.0  2388.0  100.0  38.38  23.0103  None   \n20626  1426.52  14.62  ...  0.03  397.0  2388.0  100.0  38.25  23.1600  None   \n20627  1426.05  14.62  ...  0.03  396.0  2388.0  100.0  38.54  23.1833  None   \n20628  1430.73  14.62  ...  0.03  396.0  2388.0  100.0  38.30  23.0166  None   \n20629  1427.66  14.62  ...  0.03  395.0  2388.0  100.0  38.36  23.0164  None   \n20630  1431.32  14.62  ...  0.03  397.0  2388.0  100.0  38.19  23.0900  None   \n\n        _28  max  rul  \n0      None  234  233  \n1      None  234  232  \n2      None  234  231  \n3      None  234  230  \n4      None  234  229  \n5      None  234  228  \n6      None  234  227  \n7      None  234  226  \n8      None  234  225  \n9      None  234  224  \n10     None  234  223  \n11     None  234  222  \n12     None  234  221  \n13     None  234  220  \n14     None  234  219  \n15     None  234  218  \n16     None  234  217  \n17     None  234  216  \n18     None  234  215  \n19     None  234  214  \n20     None  234  213  \n21     None  234  212  \n22     None  234  211  \n23     None  234  210  \n24     None  234  209  \n25     None  234  208  \n26     None  234  207  \n27     None  234  206  \n28     None  234  205  \n29     None  234  204  \n...     ...  ...  ...  \n20601  None  217   29  \n20602  None  217   28  \n20603  None  217   27  \n20604  None  217   26  \n20605  None  217   25  \n20606  None  217   24  \n20607  None  217   23  \n20608  None  217   22  \n20609  None  217   21  \n20610  None  217   20  \n20611  None  217   19  \n20612  None  217   18  \n20613  None  217   17  \n20614  None  217   16  \n20615  None  217   15  \n20616  None  217   14  \n20617  None  217   13  \n20618  None  217   12  \n20619  None  217   11  \n20620  None  217   10  \n20621  None  217    9  \n20622  None  217    8  \n20623  None  217    7  \n20624  None  217    6  \n20625  None  217    5  \n20626  None  217    4  \n20627  None  217    3  \n20628  None  217    2  \n20629  None  217    1  \n20630  None  217    0  \n\n[20631 rows x 30 columns]"
                    },
                    "execution_count": 56,
                    "metadata": {},
                    "output_type": "execute_result"
                }
            ],
            "source": "df.toPandas()"
        }
    ],
    "metadata": {
        "kernelspec": {
            "display_name": "Python 3.6 with Spark",
            "language": "python3",
            "name": "python36"
        },
        "language_info": {
            "codemirror_mode": {
                "name": "ipython",
                "version": 3
            },
            "file_extension": ".py",
            "mimetype": "text/x-python",
            "name": "python",
            "nbconvert_exporter": "python",
            "pygments_lexer": "ipython3",
            "version": "3.6.8"
        }
    },
    "nbformat": 4,
    "nbformat_minor": 1
}